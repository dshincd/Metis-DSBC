{
 "cells": [
  {
   "cell_type": "markdown",
   "metadata": {},
   "source": [
    "# Project Kojak - Crunchbase\n",
    "### Daniel Shin\n"
   ]
  },
  {
   "cell_type": "markdown",
   "metadata": {},
   "source": [
    "## Imports"
   ]
  },
  {
   "cell_type": "code",
   "execution_count": 1,
   "metadata": {
    "collapsed": false
   },
   "outputs": [],
   "source": [
    "# API\n",
    "from pycrunchbase import *\n",
    "\n",
    "# Python\n",
    "import datetime\n",
    "from collections import Counter\n",
    "import pandas as pd\n",
    "import numpy as np\n",
    "from scipy import sparse\n",
    "import re\n",
    "import json\n",
    "from urllib2 import urlopen\n",
    "import string\n",
    "\n",
    "# Database\n",
    "from pymongo import MongoClient\n",
    "\n",
    "# Graphing\n",
    "import matplotlib.pyplot as plt\n",
    "import seaborn as sns\n",
    "%matplotlib inline\n",
    "\n",
    "from scipy import sparse\n",
    "from sklearn.feature_extraction.text import TfidfVectorizer\n",
    "from nltk.corpus import stopwords\n",
    "from nltk import word_tokenize\n",
    "from nltk import tokenize\n",
    "from nltk.stem import PorterStemmer\n",
    "\n",
    "\n",
    "# Machine learning\n",
    "from sklearn.preprocessing import Imputer\n",
    "from sklearn.neighbors import NearestNeighbors\n",
    "from sklearn.feature_extraction.text import TfidfVectorizer\n",
    "from sklearn.feature_extraction.text import CountVectorizer\n",
    "from sklearn.ensemble import RandomForestClassifier\n",
    "from sklearn.cross_validation import cross_val_score\n",
    "from nltk.corpus import stopwords\n",
    "from nltk import word_tokenize\n",
    "from nltk import tokenize\n",
    "from sklearn import preprocessing\n",
    "from nltk.stem import PorterStemmer\n",
    "from sklearn.decomposition import TruncatedSVD\n",
    "from sklearn.decomposition import IncrementalPCA\n",
    "import lshash\n",
    "client = MongoClient()"
   ]
  },
  {
   "cell_type": "markdown",
   "metadata": {},
   "source": [
    "## Load Data"
   ]
  },
  {
   "cell_type": "code",
   "execution_count": 2,
   "metadata": {
    "collapsed": true
   },
   "outputs": [],
   "source": [
    "# MONGODB\n",
    "# initialize and access a kojak database and collection\n",
    "\n",
    "db = client.kojak\n",
    "crunch_ppl = db.crunch_ppl\n",
    "orgs_api = db.orgs_api"
   ]
  },
  {
   "cell_type": "code",
   "execution_count": 3,
   "metadata": {
    "collapsed": true
   },
   "outputs": [],
   "source": [
    "# PYCRUNCHBASE\n",
    "# use pycrunchbase wrapper to access crunchbase API using key\n",
    "\n",
    "cb_api_key = \"f724cd5232dd318067da50fd13ec28bc\"\n",
    "cb = CrunchBase(cb_api_key)"
   ]
  },
  {
   "cell_type": "code",
   "execution_count": 4,
   "metadata": {
    "collapsed": false
   },
   "outputs": [],
   "source": [
    "# OPEN DATA MAP\n",
    "# read in data from open data map\n",
    "\n",
    "orgs_odm_df = pd.read_csv(\"/Users/DanShin/Downloads/Data/odm/organizations.csv\")\n",
    "ppl_odm_df = pd.read_csv(\"/Users/DanShin/Downloads/Data/odm/people.csv\")"
   ]
  },
  {
   "cell_type": "code",
   "execution_count": 4,
   "metadata": {
    "collapsed": true
   },
   "outputs": [],
   "source": [
    "# load in tabs of crunchbase_export.xls file as different dataframes\n",
    "# companies (companies and aggregated funding information)\n",
    "# rounds (summarized version of investments for each round - can disregard and just use investments)\n",
    "# investments (info on company, their investments, funding round, amount raised)\n",
    "# acquisitions (info on company, their acquirer, the price amount and currency)\n",
    "\n",
    "companies = pd.read_excel(io=\"/Users/DanShin/Downloads/Data/crunchbase_export.xlsx\", sheetname=\"Companies\")\n",
    "# rounds = pd.read_excel(io=\"/Users/DanShin/Downloads/Data/crunchbase_export.xlsx\", sheetname=\"Rounds\")\n",
    "# investments = pd.read_excel(io=\"/Users/DanShin/Downloads/Data/crunchbase_export.xlsx\", sheetname=\"Investments\")\n",
    "# acquisitions = pd.read_excel(io=\"/Users/DanShin/Downloads/Data/crunchbase_export.xlsx\", sheetname=\"Acquisitions\")"
   ]
  },
  {
   "cell_type": "markdown",
   "metadata": {},
   "source": [
    "## Preprocess"
   ]
  },
  {
   "cell_type": "code",
   "execution_count": 6,
   "metadata": {
    "collapsed": false
   },
   "outputs": [],
   "source": [
    "# preprocess data\n",
    "\n",
    "orgs_odm_df = orgs_odm_df.drop(\"type\", axis = 1)\n",
    "orgs_odm_df = orgs_odm_df.drop(\"profile_image_url\", axis = 1)\n",
    "\n",
    "ppl_odm_df = ppl_odm_df.drop(\"type\", axis = 1)\n",
    "ppl_odm_df[\"name\"] = ppl_odm_df.first_name + \" \" + ppl_odm_df.last_name\n",
    "\n",
    "# combine names and insert to index 1\n",
    "ppl_odm_df = ppl_odm_df.drop([\"first_name\", \"last_name\"], axis = 1)\n",
    "columns = ppl_odm_df.columns.tolist()\n",
    "columns.remove(\"name\")\n",
    "columns.insert(1, \"name\")\n",
    "ppl_odm_df  = ppl_odm_df[columns]\n",
    "ppl_odm_df = ppl_odm_df.drop(\"profile_image_url\", axis = 1)"
   ]
  },
  {
   "cell_type": "code",
   "execution_count": 5,
   "metadata": {
    "collapsed": false
   },
   "outputs": [],
   "source": [
    "# find most common markets represented\n",
    "\n",
    "top_categories = Counter(companies.market).most_common(4)\n",
    "top_categories = [x[0] for x in top_categories]"
   ]
  },
  {
   "cell_type": "code",
   "execution_count": 30,
   "metadata": {
    "collapsed": false
   },
   "outputs": [
    {
     "data": {
      "text/plain": [
       "[u'Software', u'Biotechnology', u'Mobile', u'E-Commerce']"
      ]
     },
     "execution_count": 30,
     "metadata": {},
     "output_type": "execute_result"
    }
   ],
   "source": [
    "top_categories"
   ]
  },
  {
   "cell_type": "code",
   "execution_count": 24,
   "metadata": {
    "collapsed": false
   },
   "outputs": [],
   "source": [
    "comps_subset = investments[investments.company_market.isin(top_categories)]"
   ]
  },
  {
   "cell_type": "code",
   "execution_count": 16,
   "metadata": {
    "collapsed": false
   },
   "outputs": [],
   "source": [
    "market = top_categories[0][0]\n",
    "num_per_round = Counter(investments.funding_round_code[investments.company_market == market])\n",
    "fund_round_counts = num_per_round.items()\n",
    "fund_round_counts = [x for x in fund_round_counts if type(x[0]) == unicode]  # remove nans\n",
    "fund_rounds = [str(r[0]) for r in fund_round_counts]\n",
    "fund_counts = [r[1] for r in fund_round_counts]"
   ]
  },
  {
   "cell_type": "code",
   "execution_count": 22,
   "metadata": {
    "collapsed": false
   },
   "outputs": [
    {
     "data": {
      "text/plain": [
       "[2766, 1259, 2235, 217, 671, 14, 52]"
      ]
     },
     "execution_count": 22,
     "metadata": {},
     "output_type": "execute_result"
    }
   ],
   "source": [
    "fund_counts"
   ]
  },
  {
   "cell_type": "code",
   "execution_count": 4,
   "metadata": {
    "collapsed": false
   },
   "outputs": [],
   "source": [
    "def clean_companies(companies_df):\n",
    "    # convert erroneous datetimes to NaT\n",
    "    companies_df.first_funding_at = companies_df.first_funding_at.apply(lambda x: np.nan if type(x) == unicode else x)\n",
    "    # convert permalink format to integrate with API\n",
    "    companies_df.permalink = companies_df.permalink.apply(lambda x: x.replace(\"/organization\", \"organizations\"))\n",
    "    # convert erroneus datetimes to NaT\n",
    "    companies_df.founded_at = companies_df.founded_at.apply(lambda x: np.nan if type(x) == unicode else x)\n",
    "    return companies_df\n",
    "\n",
    "companies = clean_companies(companies)"
   ]
  },
  {
   "cell_type": "markdown",
   "metadata": {},
   "source": [
    "## Visualize Data"
   ]
  },
  {
   "cell_type": "code",
   "execution_count": 35,
   "metadata": {
    "collapsed": false,
    "scrolled": false
   },
   "outputs": [
    {
     "data": {
      "image/png": "[encoded data removed]",
      "text/plain": [
       "<matplotlib.figure.Figure at 0x1278d7fd0>"
      ]
     },
     "metadata": {},
     "output_type": "display_data"
    }
   ],
   "source": [
    "# histogram of all venture funding rounds\n",
    "\n",
    "total_fund_rounds = sns.factorplot(\"funding_round_code\", data=investments, x_order=list(\"ABCDEFG\"), palette=\"PuBuGn_d\");\n",
    "total_fund_rounds.set_axis_labels(\"venture funding series\")\n",
    "\n",
    "plt.savefig(\"total_invest_rounds.png\")"
   ]
  },
  {
   "cell_type": "code",
   "execution_count": 32,
   "metadata": {
    "collapsed": false
   },
   "outputs": [
    {
     "name": "stderr",
     "output_type": "stream",
     "text": [
      "/usr/local/lib/python2.7/site-packages/numpy/lib/arraysetops.py:198: FutureWarning: numpy not_equal will not check object identity in the future. The comparison did not return the same result as suggested by the identity (`is`)) and will change.\n",
      "  flag = np.concatenate(([True], aux[1:] != aux[:-1]))\n"
     ]
    },
    {
     "data": {
      "image/png": "[encoded data removed]",
      "text/plain": [
       "<matplotlib.figure.Figure at 0x1237601d0>"
      ]
     },
     "metadata": {},
     "output_type": "display_data"
    }
   ],
   "source": [
    "# identify 30 common categories\n",
    "top_categories = Counter(companies.market).most_common(30)\n",
    "top_categories = [x[0] for x in top_categories]\n",
    "                  \n",
    "# investment info for only companies in 30 most common categories\n",
    "comps_subset = investments[investments.company_market.isin(top_categories)]\n",
    "\n",
    "# histogram of venture funding rounds by market\n",
    "sns.factorplot(\"funding_round_code\", data=comps_subset, row=\"company_market\", x_order=list(\"ABCDEFG\"),\n",
    "               margin_titles=False, aspect=3, size=2, palette=\"BuPu_d\", sharex = False, sharey = False);"
   ]
  },
  {
   "cell_type": "code",
   "execution_count": 36,
   "metadata": {
    "collapsed": false
   },
   "outputs": [
    {
     "name": "stdout",
     "output_type": "stream",
     "text": [
      "Total Percent Operating: 82.6%\n",
      "Total Percent IPO: 7.5%\n",
      "Total Percent Acquired: 2.5%\n",
      "Total Percent Closed: 5.3%\n"
     ]
    }
   ],
   "source": [
    "# show percent of companies operating, acquired, IPO, closed\n",
    "\n",
    "def get_status_pct(companies):\n",
    "    tot_companies = float(companies.status.shape[0])\n",
    "    num_operating = sum(companies.status == \"operating\")/tot_companies\n",
    "    num_acquired = sum(companies.status == \"acquired\")/tot_companies\n",
    "    num_ipo = sum(companies.status == \"ipo\")/tot_companies\n",
    "    num_closed = sum(companies.status == \"closed\")/tot_companies\n",
    "    \n",
    "    print \"Total Percent Operating: \" + str(round(num_operating * 100, 1)) + \"%\"\n",
    "    print \"Total Percent IPO: \" + str(round(num_acquired * 100, 1)) + \"%\"\n",
    "    print \"Total Percent Acquired: \" + str(round(num_ipo * 100, 1)) + \"%\"\n",
    "    print \"Total Percent Closed: \" + str(round(num_closed * 100, 1)) + \"%\"\n",
    "\n",
    "get_status_pct(companies)"
   ]
  },
  {
   "cell_type": "code",
   "execution_count": 37,
   "metadata": {
    "collapsed": false
   },
   "outputs": [
    {
     "name": "stdout",
     "output_type": "stream",
     "text": [
      "Average Num Rounds Operating: 1.67\n",
      "Average Num Rounds IPO: 2.68\n",
      "Average Num Rounds Acquired: 2.05\n",
      "Average Num Rounds Closed: 1.49\n"
     ]
    }
   ],
   "source": [
    "# get average number of funding rounds for status group\n",
    "\n",
    "def get_avg_rounds(companies):\n",
    "    avg_rounds_operating = np.mean(companies[companies.status == \"operating\"].funding_rounds)\n",
    "    avg_rounds_ipo = np.mean(companies[companies.status == \"ipo\"].funding_rounds)\n",
    "    avg_rounds_acquired = np.mean(companies[companies.status == \"acquired\"].funding_rounds)\n",
    "    avg_rounds_closed = np.mean(companies[companies.status == \"closed\"].funding_rounds)\n",
    "\n",
    "    print \"Average Num Rounds Operating: \" + str(round(avg_rounds_operating, 2))\n",
    "    print \"Average Num Rounds IPO: \" + str(round(avg_rounds_ipo, 2))\n",
    "    print \"Average Num Rounds Acquired: \" + str(round(avg_rounds_acquired, 2))\n",
    "    print \"Average Num Rounds Closed: \" + str(round(avg_rounds_closed, 2))\n",
    "    \n",
    "get_avg_rounds(companies)"
   ]
  },
  {
   "cell_type": "code",
   "execution_count": 38,
   "metadata": {
    "collapsed": false
   },
   "outputs": [
    {
     "data": {
      "text/plain": [
       "[(u'Biotechnology', 422),\n",
       " (u'Software', 93),\n",
       " (u'Health Care', 63),\n",
       " (u'Clean Technology', 49),\n",
       " (u'Hardware + Software', 46),\n",
       " (u'Mobile', 41),\n",
       " (u'E-Commerce', 36),\n",
       " (u'Semiconductors', 35),\n",
       " (u'Curated Web', 26),\n",
       " (u'Manufacturing', 26)]"
      ]
     },
     "execution_count": 38,
     "metadata": {},
     "output_type": "execute_result"
    }
   ],
   "source": [
    "# from companies that have IPO'd get \n",
    "\n",
    "Counter(companies[companies.status == \"ipo\"].market).most_common(10)"
   ]
  },
  {
   "cell_type": "markdown",
   "metadata": {},
   "source": [
    "Early stage startups: which ones affect your growth.\n",
    "Try to find out what makes early stage startups successful and categorize them.\n",
    "What are the characteristics of each startup or fund?\n",
    "Do a vertical barplot for each industry, broken down by percent of funding in each category.\n",
    "Do an analysis of raised_amount_usd by funded_year\n",
    "Do an analysis of raised_amount_usd by funded_month\n",
    "Do an analysis of average time to IPO/acquisition by year of exit\n",
    "Investor market"
   ]
  },
  {
   "cell_type": "code",
   "execution_count": 15,
   "metadata": {
    "collapsed": true
   },
   "outputs": [
    {
     "data": {
      "image/png": "[encoded data removed]",
      "text/plain": [
       "<matplotlib.figure.Figure at 0x11d10fd10>"
      ]
     },
     "metadata": {},
     "output_type": "display_data"
    }
   ],
   "source": [
    "# plot of aggregated amount raised by funding_round_type\n",
    "\n",
    "sns.factorplot(\"funding_round_type\", \"raised_amount_usd\", data=investments,\n",
    "               margin_titles=False, aspect=3, size=5, palette=\"BuPu_d\", sharex = False, sharey = False);"
   ]
  },
  {
   "cell_type": "code",
   "execution_count": 16,
   "metadata": {
    "collapsed": false
   },
   "outputs": [
    {
     "data": {
      "text/plain": [
       "Counter({u'venture': 97456, u'seed': 47069, u'angel': 6792, u'undisclosed': 5847, u'debt_financing': 3351, u'private_equity': 2658, u'convertible_note': 1713, u'grant': 1514, u'equity_crowdfunding': 1421, u'post_ipo_equity': 446, u'product_crowdfunding': 150, u'non_equity_assistance': 148, u'post_ipo_debt': 140, u'secondary_market': 98})"
      ]
     },
     "execution_count": 16,
     "metadata": {},
     "output_type": "execute_result"
    }
   ],
   "source": [
    "# aggregated view of type of funding rounds\n",
    "\n",
    "Counter(investments.funding_round_type)"
   ]
  },
  {
   "cell_type": "code",
   "execution_count": 22,
   "metadata": {
    "collapsed": true
   },
   "outputs": [
    {
     "ename": "NameError",
     "evalue": "name 'acquisitions' is not defined",
     "output_type": "error",
     "traceback": [
      "\u001b[0;31m---------------------------------------------------------------------------\u001b[0m",
      "\u001b[0;31mNameError\u001b[0m                                 Traceback (most recent call last)",
      "\u001b[0;32m<ipython-input-22-f9836e9912f4>\u001b[0m in \u001b[0;36m<module>\u001b[0;34m()\u001b[0m\n\u001b[1;32m      1\u001b[0m \u001b[0;31m# Total price of acquisitions by year - Going up (big spike in 2014)\u001b[0m\u001b[0;34m\u001b[0m\u001b[0;34m\u001b[0m\u001b[0m\n\u001b[1;32m      2\u001b[0m \u001b[0;34m\u001b[0m\u001b[0m\n\u001b[0;32m----> 3\u001b[0;31m \u001b[0macquisitions\u001b[0m\u001b[0;34m.\u001b[0m\u001b[0mgroupby\u001b[0m\u001b[0;34m(\u001b[0m\u001b[0;34m\"acquired_year\"\u001b[0m\u001b[0;34m)\u001b[0m\u001b[0;34m.\u001b[0m\u001b[0msum\u001b[0m\u001b[0;34m(\u001b[0m\u001b[0;34m)\u001b[0m\u001b[0;34m.\u001b[0m\u001b[0mplot\u001b[0m\u001b[0;34m(\u001b[0m\u001b[0mkind\u001b[0m \u001b[0;34m=\u001b[0m \u001b[0;34m\"bar\"\u001b[0m\u001b[0;34m)\u001b[0m\u001b[0;34m\u001b[0m\u001b[0m\n\u001b[0m",
      "\u001b[0;31mNameError\u001b[0m: name 'acquisitions' is not defined"
     ]
    }
   ],
   "source": [
    "# Total price of acquisitions by year - Going up (big spike in 2014)\n",
    "\n",
    "acquisitions.groupby(\"acquired_year\").sum().plot(kind = \"bar\")"
   ]
  },
  {
   "cell_type": "code",
   "execution_count": 17,
   "metadata": {
    "collapsed": false
   },
   "outputs": [
    {
     "data": {
      "text/plain": [
       "Counter({1: 2107, 2: 1026, 3: 591, 4: 284, 5: 139, 6: 82, 7: 40, 8: 13, 9: 10, 10: 5, 11: 4, 15: 1})"
      ]
     },
     "execution_count": 17,
     "metadata": {},
     "output_type": "execute_result"
    }
   ],
   "source": [
    "# total funding rounds for acquired companies\n",
    "\n",
    "Counter(companies[companies.status == \"acquired\"].funding_rounds)"
   ]
  },
  {
   "cell_type": "code",
   "execution_count": null,
   "metadata": {
    "collapsed": true
   },
   "outputs": [
    {
     "name": "stdout",
     "output_type": "stream",
     "text": [
      "Error: 1000jobboersen-de\n",
      "0:02:03.860596\n",
      "Error: 3d-systems\n",
      "Error: 58-com\n",
      "Error: 5barz-international\n",
      "Error: a-power-energy-generation\n",
      "Error: abattis-bioceuticals\n",
      "Error: abbott\n",
      "Error: ablynx\n",
      "Error: accelera-innovations\n",
      "Error: accelerize-new-media\n",
      "Error: access-pharmaceuticals\n",
      "Error: acco-brands\n",
      "Error: acorn-international\n",
      "Error: acs-global\n",
      "Error: actinium-pharmaceuticals\n",
      "Error: activenetwork\n",
      "Error: acusphere\n",
      "Error: adaptive-media\n",
      "Error: adcare-health-systems\n",
      "Error: adslinked\n",
      "Error: advanced-media\n",
      "Error: aeropostale\n",
      "Error: affymax\n",
      "Error: agenus\n",
      "Error: airspan-networks\n",
      "Error: airtouch-communications\n",
      "Error: alere\n",
      "Error: alldigital\n",
      "Error: allon-therapeutics\n",
      "Error: altigen-communications\n",
      "Error: altran\n",
      "Error: ambient-corporation\n",
      "Error: ambow-education\n",
      "Error: american-addiction-centers\n",
      "Error: american-apperal\n",
      "Error: american-cannabis-company\n",
      "Error: american-restaurant-concepts\n",
      "Error: ampio-pharmaceuticals\n",
      "Error: ampliphi-biosciences\n",
      "Error: anavex\n",
      "Error: anda\n",
      "Error: anesiva\n",
      "Error: envirosystems-inc\n",
      "Error: answers-corporation\n",
      "Error: anterra-energy\n",
      "Error: antibe-therapeutics\n",
      "Error: antriabio\n",
      "Error: aoxing-pharmaceutical\n",
      "Error: apollo-commercial-real-estate-finance\n",
      "Error: aposense\n",
      "Error: applied-minerals\n",
      "Error: arch-biopartners\n",
      "Error: ares-commercial-real-estate-corporation\n",
      "Error: argen-x\n",
      "Error: argyle-security\n",
      "Error: arht-media\n",
      "Error: arista-power\n",
      "Error: aryx-therapeutics\n",
      "Error: aryzta-ag\n",
      "Error: as-seen-on-tv\n",
      "Error: asiansbook\n",
      "Error: asktourism\n",
      "Error: aspen-aerogels\n",
      "Error: audioeye\n",
      "Error: aura-systems\n",
      "Error: avanco-resources\n",
      "Error: avante-logixx\n",
      "Error: aventine-renewable-energy-holdings\n",
      "Error: avis-2\n",
      "Error: avista\n",
      "Error: avrupa-minerals\n",
      "Error: axel-mark-inc-\n",
      "Error: bacterin-international-holdings\n",
      "Error: bakers-shoes\n",
      "Error: banro-corporation"
     ]
    }
   ],
   "source": [
    "# for company in companies.permalink:\n",
    "#     comp_name = company[14:]\n",
    "#     try:\n",
    "#         comp_api = cb.organization(comp_name)\n",
    "#     except:\n",
    "#         print \"Error: \" + comp_name\n",
    "#         continue\n",
    "#     orgs_api.insert(comp_api.data)"
   ]
  },
  {
   "cell_type": "code",
   "execution_count": 13,
   "metadata": {
    "collapsed": false
   },
   "outputs": [],
   "source": [
    "with open(\"errors.txt\", \"r\") as f:\n",
    "    errors = f.read()"
   ]
  },
  {
   "cell_type": "code",
   "execution_count": 18,
   "metadata": {
    "collapsed": false
   },
   "outputs": [],
   "source": [
    "company_errors = errors.replace(\"Error: \", \"\").split(\"\\n\")"
   ]
  },
  {
   "cell_type": "code",
   "execution_count": 70,
   "metadata": {
    "collapsed": true
   },
   "outputs": [
    {
     "name": "stdout",
     "output_type": "stream",
     "text": [
      "Error: 1000jobboersen-de\n",
      "Error: adslinked\n",
      "Error: asiansbook\n",
      "Error: asktourism\n",
      "Error: avis-2\n",
      "Error: complex-media\n",
      "Error: connect-hq\n",
      "Error: contactpoint\n",
      "Error: corenergy-infrastructure-trust\n",
      "Error: corindus\n",
      "Error: cormedix\n",
      "Error: cortendo\n",
      "Error: cortex-business-solutions\n",
      "Error: crexendo\n",
      "Error: shadowdcat-consulting\n",
      "Error: freem?\n",
      "Error: green-mountain-digital\n",
      "Error: ?novatiff-reklam-ve-tan?t?m-hizmetleri-tic\n",
      "Error: iproof---the-foundation-for-the-internet-of-things\n",
      "Error: its-all-about-me\n",
      "Error: klink-technologies\n",
      "Error: knownact\n",
      "Error: luma-legacy-2\n",
      "Error: ob1-2\n",
      "Error: on-the-run-tech\n",
      "Error: patrof?n\n",
      "Error: prod?ti-cz\n",
      "Error: prze?wietl-pl\n",
      "Error: socialchorus\n",
      "Error: sociocast-networks\n",
      "Error: soligenix\n",
      "Error: somedia-bbn3\n",
      "Error: spire-corporation\n",
      "Error: spot-coffee\n",
      "Error: spotlight-innovation\n",
      "Error: sprylogics-international-corp\n",
      "Error: talentsigned\n",
      "Error: tutored-2\n",
      "Error: vacation-bnb\n",
      "Error: wavemaker-software\n",
      "Error: whites-holdings\n",
      "Error: whodats-spaces\n"
     ]
    }
   ],
   "source": [
    "# start where it was interrupted\n",
    "\n",
    "for comp_name in company_errors:\n",
    "    try:\n",
    "        url = urlopen(\"https://api.crunchbase.com/v/3/organizations/\" + comp_name + \"?user_key=f724cd5232dd318067da50fd13ec28bc\")\n",
    "        data_string = url.read()\n",
    "        json_file = json.loads(data_string)\n",
    "    except:\n",
    "        print \"Error: \" + comp_name\n",
    "        continue\n",
    "    orgs_api.insert(json_file[\"data\"])"
   ]
  },
  {
   "cell_type": "code",
   "execution_count": 24,
   "metadata": {
    "collapsed": true
   },
   "outputs": [
    {
     "ename": "KeyError",
     "evalue": "'relationships'",
     "output_type": "error",
     "traceback": [
      "\u001b[0;31m---------------------------------------------------------------------------\u001b[0m",
      "\u001b[0;31mKeyError\u001b[0m                                  Traceback (most recent call last)",
      "\u001b[0;32m<ipython-input-24-460bebbdf608>\u001b[0m in \u001b[0;36m<module>\u001b[0;34m()\u001b[0m\n\u001b[1;32m      3\u001b[0m \u001b[0;34m\u001b[0m\u001b[0m\n\u001b[1;32m      4\u001b[0m \u001b[0;32mfor\u001b[0m \u001b[0morg\u001b[0m \u001b[0;32min\u001b[0m \u001b[0morgs_api\u001b[0m\u001b[0;34m.\u001b[0m\u001b[0mfind\u001b[0m\u001b[0;34m(\u001b[0m\u001b[0;34m)\u001b[0m\u001b[0;34m:\u001b[0m\u001b[0;34m\u001b[0m\u001b[0m\n\u001b[0;32m----> 5\u001b[0;31m     \u001b[0;32mif\u001b[0m \u001b[0;34m\"current_team\"\u001b[0m \u001b[0;32min\u001b[0m \u001b[0morg\u001b[0m\u001b[0;34m[\u001b[0m\u001b[0;34m\"relationships\"\u001b[0m\u001b[0;34m]\u001b[0m\u001b[0;34m:\u001b[0m\u001b[0;34m\u001b[0m\u001b[0m\n\u001b[0m\u001b[1;32m      6\u001b[0m         \u001b[0mhas_team\u001b[0m \u001b[0;34m+=\u001b[0m \u001b[0;36m1\u001b[0m\u001b[0;34m\u001b[0m\u001b[0m\n\u001b[1;32m      7\u001b[0m \u001b[0;34m\u001b[0m\u001b[0m\n",
      "\u001b[0;31mKeyError\u001b[0m: 'relationships'"
     ]
    }
   ],
   "source": [
    "total = orgs_api.count()\n",
    "has_team = 0\n",
    "\n",
    "for org in orgs_api.find():\n",
    "    if \"current_team\" in org[\"relationships\"]:\n",
    "        has_team += 1\n",
    "    \n",
    "print float(has_team)/total"
   ]
  },
  {
   "cell_type": "code",
   "execution_count": 25,
   "metadata": {
    "collapsed": false,
    "scrolled": true
   },
   "outputs": [
    {
     "ename": "NameError",
     "evalue": "name 'some_person' is not defined",
     "output_type": "error",
     "traceback": [
      "\u001b[0;31m---------------------------------------------------------------------------\u001b[0m",
      "\u001b[0;31mNameError\u001b[0m                                 Traceback (most recent call last)",
      "\u001b[0;32m<ipython-input-25-21f37a9c3f9a>\u001b[0m in \u001b[0;36m<module>\u001b[0;34m()\u001b[0m\n\u001b[1;32m      2\u001b[0m \u001b[0;34m\u001b[0m\u001b[0m\n\u001b[1;32m      3\u001b[0m \u001b[0mschool\u001b[0m \u001b[0;34m=\u001b[0m \u001b[0;34m[\u001b[0m\u001b[0;34m]\u001b[0m\u001b[0;34m\u001b[0m\u001b[0m\n\u001b[0;32m----> 4\u001b[0;31m \u001b[0;32mfor\u001b[0m \u001b[0mentry\u001b[0m \u001b[0;32min\u001b[0m \u001b[0msome_person\u001b[0m\u001b[0;34m.\u001b[0m\u001b[0mdata\u001b[0m\u001b[0;34m[\u001b[0m\u001b[0;34m\"relationships\"\u001b[0m\u001b[0;34m]\u001b[0m\u001b[0;34m[\u001b[0m\u001b[0;34m\"degrees\"\u001b[0m\u001b[0;34m]\u001b[0m\u001b[0;34m[\u001b[0m\u001b[0;34m\"items\"\u001b[0m\u001b[0;34m]\u001b[0m\u001b[0;34m:\u001b[0m\u001b[0;34m\u001b[0m\u001b[0m\n\u001b[0m\u001b[1;32m      5\u001b[0m     \u001b[0mentry_nested\u001b[0m \u001b[0;34m=\u001b[0m \u001b[0mentry\u001b[0m\u001b[0;34m[\u001b[0m\u001b[0;34m\"relationships\"\u001b[0m\u001b[0;34m]\u001b[0m\u001b[0;34m[\u001b[0m\u001b[0;34m\"school\"\u001b[0m\u001b[0;34m]\u001b[0m\u001b[0;34m[\u001b[0m\u001b[0;34m\"properties\"\u001b[0m\u001b[0;34m]\u001b[0m\u001b[0;34m[\u001b[0m\u001b[0;34m\"name\"\u001b[0m\u001b[0;34m]\u001b[0m\u001b[0;34m\u001b[0m\u001b[0m\n\u001b[1;32m      6\u001b[0m     \u001b[0mschool\u001b[0m\u001b[0;34m.\u001b[0m\u001b[0mappend\u001b[0m\u001b[0;34m(\u001b[0m\u001b[0mentry_nested\u001b[0m\u001b[0;34m)\u001b[0m\u001b[0;34m\u001b[0m\u001b[0m\n",
      "\u001b[0;31mNameError\u001b[0m: name 'some_person' is not defined"
     ]
    }
   ],
   "source": [
    "# extract school info from people\n",
    "\n",
    "school = []\n",
    "for entry in some_person.data[\"relationships\"][\"degrees\"][\"items\"]:\n",
    "    entry_nested = entry[\"relationships\"][\"school\"][\"properties\"][\"name\"]\n",
    "    school.append(entry_nested)"
   ]
  },
  {
   "cell_type": "code",
   "execution_count": null,
   "metadata": {
    "collapsed": true
   },
   "outputs": [],
   "source": [
    "stage = [\"Seed\", \"Angel\", \"Series A\", \"Series B\", \"Series C\", \"Now\"]\n",
    "indexes = np.array([1,2,3,4,5])\n",
    "amount = np.array([.325, .7, 4.7, 12, 14])\n",
    "\n",
    "plt.figure(figsize = (10,3.5))\n",
    "\n",
    "mint = sns.barplot(indexes, amount, palette=\"PuBuGn_d\")\n",
    "mint.set_ylim(0,15)\n",
    "sns.set(font_scale = 2)\n",
    "mint.set_title(\"Mint\")\n",
    "\n",
    "mint.set_ylabel(\"$ million funding\")\n",
    "mint.set_xticklabels(stage)\n",
    "plt.tight_layout()\n",
    "plt.savefig(\"Mint.png\")\n",
    "\n",
    "stage = [\"Seed\", \"Series A\", \"\", \"\", \"\"]\n",
    "indexes = np.array([1,2,3,4,5])\n",
    "amount = np.array([.7, 4, 0, 0, 0])\n",
    "\n",
    "plt.figure(figsize = (10, 3.5))\n",
    "\n",
    "wesabe = sns.barplot(indexes, amount, palette=\"PuBuGn_d\")\n",
    "wesabe.set_ylim(0,15)\n",
    "sns.set(font_scale = 2)\n",
    "wesabe.set_title(\"Wesabe\")\n",
    "\n",
    "wesabe.set_ylabel(\"$ million funding\")\n",
    "wesabe.set_xticklabels(stage)\n",
    "plt.tight_layout()\n",
    "plt.savefig(\"Wesabe.png\")"
   ]
  },
  {
   "cell_type": "markdown",
   "metadata": {},
   "source": [
    "## Build DataFrames"
   ]
  },
  {
   "cell_type": "code",
   "execution_count": 6,
   "metadata": {
    "collapsed": false
   },
   "outputs": [],
   "source": [
    "# get company names\n",
    "def get_names(list_of_companies):\n",
    "    names = list_of_companies.name\n",
    "    return names\n",
    "\n",
    "# get matrix with category of each company\n",
    "def get_categories(list_of_companies):\n",
    "    # preprocess category_list\n",
    "    categories = list_of_companies.category_list\n",
    "    categories[categories.isnull()] = ''\n",
    "    categories = categories.str.replace(' ', '-')\n",
    "    categories = categories.str.strip('|')\n",
    "    categories = categories.apply(lambda x: x.replace(\"|\", \" \"))\n",
    "    # tokenize and vectorize\n",
    "#     category_counts = CountVectorizer(tokenizer = tokenize.word_tokenize)\n",
    "#     sparse_matrix = category_counts.fit_transform(categories)\n",
    "    return categories\n",
    "\n",
    "def get_market(list_of_companies):\n",
    "    market = list_of_companies.market\n",
    "    return market\n",
    "\n",
    "def get_funding_rounds(list_of_companies):\n",
    "    num_rounds = list_of_companies.funding_rounds\n",
    "    return num_rounds\n",
    "\n",
    "def get_funding_total(list_of_companies):\n",
    "    # around 10,000 of 57,000 companies have 0 funding in the database???\n",
    "    funding_total_usd = list_of_companies.funding_total_usd\n",
    "    return funding_total_usd\n",
    "\n",
    "def get_founded_year(list_of_companies):\n",
    "    founded_year = list_of_companies.founded_year\n",
    "    return founded_year\n",
    "\n",
    "def get_founded_month(list_of_companies):\n",
    "    founded_month = list_of_companies.founded_month\n",
    "    founded_month = founded_month.apply(lambda x: int(x[5:]) if type(x) == unicode else np.nan)\n",
    "    return founded_month\n",
    "\n",
    "def get_founded_quarter(list_of_companies):\n",
    "    quarter = list_of_companies.founded_quarter\n",
    "    quarter = quarter.apply(lambda x: int(x[6:]) if type(x) == unicode else x)\n",
    "    return quarter\n",
    "\n",
    "def get_first_funding(list_of_companies):\n",
    "    first_funding = list_of_companies.first_funding_at\n",
    "    return first_funding\n",
    "    \n",
    "def get_last_funding(list_of_companies):\n",
    "    last_funding = list_of_companies.last_funding_at\n",
    "    return last_funding\n",
    "\n",
    "def time_to_first_funding(list_of_companies):\n",
    "    time_to_first = list_of_companies.first_funding_at - list_of_companies.founded_at\n",
    "    def filter_time(x):\n",
    "        if x != pd.NaT:\n",
    "            return x\n",
    "        else:\n",
    "            return \"OMG\"\n",
    "    time_to_first = time_to_first.apply(lambda x: filter_time(x))\n",
    "    return time_to_first\n",
    "\n",
    "def get_funding_round(list_of_companies, funding_type, series_letter = None):\n",
    "    companies_funds = []\n",
    "    \n",
    "    for company in list_of_companies.permalink:\n",
    "        # find the company \n",
    "        mongo_call = orgs_api.find_one({\"properties.api_path\" : company})\n",
    "        try: # try getting funding info\n",
    "            funding_info = mongo_call[\"relationships\"][\"funding_rounds\"][\"items\"]\n",
    "        except: # add nan if can't access\n",
    "            companies_funds.append(np.nan)\n",
    "            continue\n",
    "            \n",
    "        amount = 0\n",
    "        \n",
    "        for fund_round in funding_info: \n",
    "            # check if funding type is same\n",
    "            same_type = fund_round[\"properties\"][\"funding_type\"].lower() == funding_type\n",
    "            # check if funding_round has value\n",
    "            is_a_value = hasattr(fund_round[\"properties\"][\"series\"], \"upper\")\n",
    "            # if not same funding type, do nothing\n",
    "            if not same_type:\n",
    "                continue\n",
    "            # if series info is available, check to see if same\n",
    "            else:\n",
    "                try:\n",
    "                    series = fund_round[\"properties\"][\"series\"].upper()\n",
    "                except:\n",
    "                    series = None\n",
    "                if series_letter == series:\n",
    "                    try:\n",
    "                        amount += fund_round[\"properties\"][\"money_raised_usd\"]\n",
    "                    except:\n",
    "                        pass\n",
    "        if amount > 0:\n",
    "            companies_funds.append(amount)\n",
    "        else:\n",
    "            companies_funds.append(np.nan)\n",
    "    return companies_funds\n",
    "\n",
    "def get_news(list_of_companies):\n",
    "    num_news = []\n",
    "    for company in list_of_companies.permalink:\n",
    "        mongo_call = orgs_api.find_one({\"properties.api_path\" : company})\n",
    "        try:\n",
    "            news = mongo_call[\"relationships\"][\"news\"][\"paging\"][\"total_items\"]\n",
    "            num_news.append(news)\n",
    "        except:\n",
    "            num_news.append(np.nan)\n",
    "            continue\n",
    "    return np.array(num_news)\n",
    "\n",
    "def get_num_founders(list_of_companies):\n",
    "    list_num_founders = []\n",
    "    for company in list_of_companies.permalink:\n",
    "        mongo_call = orgs_api.find_one({\"properties.api_path\" : company})\n",
    "        try:\n",
    "            num_founders = len(mongo_call[\"relationships\"][\"founders\"][\"items\"])\n",
    "            list_num_founders.append(num_founders)\n",
    "        except:\n",
    "            list_num_founders.append(np.nan)\n",
    "    return list_num_founders\n",
    "\n",
    "def get_status(list_of_companies):\n",
    "    list_of_status = list_of_companies.status\n",
    "    return list_of_status"
   ]
  },
  {
   "cell_type": "code",
   "execution_count": null,
   "metadata": {
    "collapsed": false
   },
   "outputs": [],
   "source": [
    "exited_companies = companies[(companies[\"status\"] != \"operating\") & (pd.notnull(companies[\"status\"]))]"
   ]
  },
  {
   "cell_type": "code",
   "execution_count": 10,
   "metadata": {
    "collapsed": false
   },
   "outputs": [],
   "source": [
    "def get_features(company_df):\n",
    "    market = get_market(company_df)\n",
    "    num_founders = get_num_founders(company_df)\n",
    "    seed = get_funding_round(company_df, \"seed\")\n",
    "    angel = get_funding_round(company_df, \"angel\")\n",
    "    series_a_amounts = get_funding_round(company_df, \"venture\", \"A\")\n",
    "    series_b_amounts = get_funding_round(company_df, \"venture\", \"B\")\n",
    "    series_c_amounts = get_funding_round(company_df, \"venture\", \"C\")\n",
    "    series_d_amounts = get_funding_round(company_df, \"venture\", \"D\")\n",
    "    num_news = get_news(company_df)\n",
    "    time_to_first = time_to_first_funding(company_df)\n",
    "    founded_year = get_founded_year(company_df)\n",
    "    founded_month = get_founded_month(company_df)\n",
    "    founded_quarter = get_founded_quarter(company_df)\n",
    "    status = get_status(company_df)\n",
    "\n",
    "    df = pd.DataFrame(data = {\n",
    "# \"market\" : market, \n",
    "                              \"num_founders\" : num_founders,\n",
    "                              \"seed\" : seed,\n",
    "                              \"angel\" : angel, \n",
    "                              \"series_a\" : series_a_amounts, \n",
    "                              \"series_b\" : series_b_amounts, \n",
    "                              \"series_c\" : series_c_amounts, \n",
    "                              \"series_d\" : series_d_amounts,\n",
    "                              \"num_news_articles\" : num_news,\n",
    "                              \"founded_year\" : founded_year,\n",
    "                              \"founded_month\" : founded_month,\n",
    "                              \"founded_quarter\" : founded_quarter,\n",
    "                              \"status\" : status\n",
    "                              })\n",
    "    return df"
   ]
  },
  {
   "cell_type": "code",
   "execution_count": 12,
   "metadata": {
    "collapsed": false
   },
   "outputs": [],
   "source": [
    "# get dataframe with new features\n",
    "\n",
    "exit_df = get_features(exited_companies)"
   ]
  },
  {
   "cell_type": "code",
   "execution_count": 13,
   "metadata": {
    "collapsed": false
   },
   "outputs": [],
   "source": [
    "# break up df into predictors and outcome\n",
    "\n",
    "exit_outcome = exit_df.status\n",
    "exit_predictors = exit_df.drop(\"status\", axis = 1)\n",
    "na_impute = Imputer()\n",
    "exit_predictors = pd.DataFrame(na_impute.fit_transform(exit_predictors))\n",
    "exit_predictors = pd.DataFrame(preprocessing.scale(exit_predictors))"
   ]
  },
  {
   "cell_type": "code",
   "execution_count": 76,
   "metadata": {
    "collapsed": false
   },
   "outputs": [
    {
     "data": {
      "text/plain": [
       "array([[ 1.        ,  0.        ,  0.        ],\n",
       "       [ 0.9       ,  0.1       ,  0.        ],\n",
       "       [ 0.33416182,  0.38712799,  0.27871019],\n",
       "       ..., \n",
       "       [ 0.9       ,  0.1       ,  0.        ],\n",
       "       [ 0.4       ,  0.        ,  0.6       ],\n",
       "       [ 0.58      ,  0.30714286,  0.11285714]])"
      ]
     },
     "execution_count": 76,
     "metadata": {},
     "output_type": "execute_result"
    }
   ],
   "source": [
    "# build a multi-class classifier using Random Forest\n",
    "\n",
    "rf = RandomForestClassifier()\n",
    "rf.fit(exit_predictors, exit_outcome)\n",
    "rf.predict_proba(exit_predictors)"
   ]
  },
  {
   "cell_type": "code",
   "execution_count": 80,
   "metadata": {
    "collapsed": true
   },
   "outputs": [
    {
     "name": "stderr",
     "output_type": "stream",
     "text": [
      "/usr/local/lib/python2.7/site-packages/sklearn/metrics/classification.py:1172: DeprecationWarning: The default `weighted` averaging is deprecated, and from version 0.18, use of precision, recall or F-score with multiclass or multilabel data or pos_label=None will result in an exception. Please set an explicit value for `average`, one of (None, 'micro', 'macro', 'weighted', 'samples'). In cross validation use, for instance, scoring=\"f1_weighted\" instead of scoring=\"f1\".\n",
      "  sample_weight=sample_weight)\n",
      "/usr/local/lib/python2.7/site-packages/sklearn/metrics/classification.py:1172: DeprecationWarning: The default `weighted` averaging is deprecated, and from version 0.18, use of precision, recall or F-score with multiclass or multilabel data or pos_label=None will result in an exception. Please set an explicit value for `average`, one of (None, 'micro', 'macro', 'weighted', 'samples'). In cross validation use, for instance, scoring=\"f1_weighted\" instead of scoring=\"f1\".\n",
      "  sample_weight=sample_weight)\n",
      "/usr/local/lib/python2.7/site-packages/sklearn/metrics/classification.py:1172: DeprecationWarning: The default `weighted` averaging is deprecated, and from version 0.18, use of precision, recall or F-score with multiclass or multilabel data or pos_label=None will result in an exception. Please set an explicit value for `average`, one of (None, 'micro', 'macro', 'weighted', 'samples'). In cross validation use, for instance, scoring=\"f1_weighted\" instead of scoring=\"f1\".\n",
      "  sample_weight=sample_weight)\n"
     ]
    },
    {
     "data": {
      "text/plain": [
       "array([ 0.57446809,  0.56642636,  0.57486264])"
      ]
     },
     "execution_count": 80,
     "metadata": {},
     "output_type": "execute_result"
    }
   ],
   "source": [
    "# calculate cross val score of Random Forest Classifier\n",
    "\n",
    "cross_val_score(RandomForestClassifier(), exit_predictors, exit_outcome, scoring = \"accuracy\")"
   ]
  },
  {
   "cell_type": "code",
   "execution_count": 83,
   "metadata": {
    "collapsed": false
   },
   "outputs": [
    {
     "data": {
      "text/plain": [
       "Counter({u'acquired': 4302, u'closed': 3032, u'ipo': 1405})"
      ]
     },
     "execution_count": 83,
     "metadata": {},
     "output_type": "execute_result"
    }
   ],
   "source": [
    "Counter(exit_outcome)"
   ]
  },
  {
   "cell_type": "code",
   "execution_count": 381,
   "metadata": {
    "collapsed": true
   },
   "outputs": [
    {
     "data": {
      "text/plain": [
       "<matplotlib.axes._subplots.AxesSubplot at 0x117169bd0>"
      ]
     },
     "execution_count": 381,
     "metadata": {},
     "output_type": "execute_result"
    },
    {
     "data": {
      "image/png": "[encoded data removed]",
      "text/plain": [
       "<matplotlib.figure.Figure at 0x11df4f590>"
      ]
     },
     "metadata": {},
     "output_type": "display_data"
    }
   ],
   "source": [
    "pd.Series(seed[seed < 10000000]).hist()"
   ]
  },
  {
   "cell_type": "code",
   "execution_count": 649,
   "metadata": {
    "collapsed": true
   },
   "outputs": [
    {
     "data": {
      "image/png": "[encoded data removed]",
      "text/plain": [
       "<matplotlib.figure.Figure at 0x12b9db910>"
      ]
     },
     "metadata": {},
     "output_type": "display_data"
    }
   ],
   "source": [
    "# founded year distributions grouped by company status\n",
    "\n",
    "companies.hist(\"founded_year\", by = \"status\", bins = 50, xlabelsize = 15, ylabelsize = 15, figsize = (8,8))\n",
    "plt.savefig(\"plot.png\")"
   ]
  },
  {
   "cell_type": "code",
   "execution_count": 107,
   "metadata": {
    "collapsed": true
   },
   "outputs": [
    {
     "data": {
      "image/png": "[encoded data removed]",
      "text/plain": [
       "<matplotlib.figure.Figure at 0x11e8b4410>"
      ]
     },
     "metadata": {},
     "output_type": "display_data"
    }
   ],
   "source": [
    "# bar plot of funding rounds\n",
    "\n",
    "avg_fund_round_plot = companies.groupby(\"status\")[\"funding_rounds\"].mean()\n",
    "avg_fund_round_plot.sort()\n",
    "\n",
    "avg_fund_round_plot.plot(kind = \"bar\", figsize = (6,4), rot = 0, alpha = 0.7, color = [\"lightcoral\", \"orange\", \"lightblue\", \"yellowgreen\"])\n",
    "plt.xticks(size = 13)\n",
    "plt.title(\"Average funding rounds\", size = 20)\n",
    "plt.xlabel(\"\")\n",
    "plt.ylabel(\"Average funding rounds\", size = 13)\n",
    "plt.tight_layout()\n",
    "plt.savefig(\"barplot.png\")"
   ]
  },
  {
   "cell_type": "code",
   "execution_count": 109,
   "metadata": {
    "collapsed": true
   },
   "outputs": [
    {
     "data": {
      "image/png": "[encoded data removed]",
      "text/plain": [
       "<matplotlib.figure.Figure at 0x11eae8950>"
      ]
     },
     "metadata": {},
     "output_type": "display_data"
    }
   ],
   "source": [
    "# line graphs of total funding rounds b\n",
    "\n",
    "closed_funding = companies[companies.status == \"closed\"][\"funding_rounds\"].value_counts()\n",
    "ipo_funding = companies[companies.status == \"ipo\"][\"funding_rounds\"].value_counts()\n",
    "acquired_funding = companies[companies.status == \"acquired\"][\"funding_rounds\"].value_counts()\n",
    "\n",
    "plt.figure(figsize=(8,6))\n",
    "ipo_funding.plot(color = \"yellowgreen\")\n",
    "closed_funding.plot(color = \"lightcoral\")\n",
    "acquired_funding.plot(color = \"lightblue\")\n",
    "plt.legend([\"ipo\", \"closed\", \"acquired\"])\n",
    "plt.xlabel(\"Number of funding rounds\", size = 13)\n",
    "plt.ylabel(\"Frequency\", size = 13)\n",
    "plt.savefig(\"funding_round_line.png\")"
   ]
  },
  {
   "cell_type": "code",
   "execution_count": 119,
   "metadata": {
    "collapsed": false
   },
   "outputs": [],
   "source": [
    "comps_over8_rounds = list(companies[companies.funding_rounds > 8][\"name\"].apply(lambda x: x.encode('utf-8')))\n",
    "\n",
    "perm_over8_rounds = []\n",
    "names = list(companies[\"name\"])\n",
    "permalinks = list(companies[\"permalink\"])\n",
    "\n",
    "for comp in comps_over8_rounds:\n",
    "    try:\n",
    "        i = names.index(comp)\n",
    "        a = permalinks[i]\n",
    "        a = a[14:]\n",
    "        perm_over8_rounds.append(a)\n",
    "    except:\n",
    "        continue"
   ]
  },
  {
   "cell_type": "code",
   "execution_count": 539,
   "metadata": {
    "collapsed": true
   },
   "outputs": [
    {
     "name": "stdout",
     "output_type": "stream",
     "text": [
      "1\n",
      "2\n",
      "3\n",
      "4\n",
      "5\n",
      "6\n",
      "7\n",
      "8\n",
      "9\n",
      "10\n",
      "11\n",
      "12\n",
      "13\n",
      "14\n",
      "15\n",
      "16\n",
      "17\n",
      "18\n",
      "19\n",
      "20\n",
      "21\n",
      "22\n",
      "23\n",
      "24\n",
      "25\n",
      "26\n",
      "27\n",
      "28\n",
      "29\n",
      "30\n",
      "31\n",
      "32\n",
      "33\n",
      "34\n",
      "35\n",
      "36\n",
      "37\n",
      "38\n",
      "39\n",
      "40\n",
      "41\n",
      "42\n",
      "43\n",
      "44\n",
      "45\n",
      "46\n",
      "47\n",
      "48\n",
      "49\n",
      "50\n",
      "51\n",
      "52\n",
      "53\n",
      "54\n",
      "55\n",
      "56\n",
      "57\n",
      "58\n",
      "59\n",
      "60\n",
      "61\n",
      "62\n",
      "63\n",
      "64\n",
      "65\n",
      "66\n",
      "67\n",
      "68\n",
      "69\n",
      "70\n",
      "71\n",
      "72\n",
      "73\n",
      "74\n",
      "75\n",
      "76\n",
      "77\n",
      "78\n",
      "79\n",
      "80\n",
      "81\n",
      "82\n",
      "83\n",
      "84\n",
      "85\n",
      "86\n",
      "87\n",
      "88\n",
      "89\n",
      "90\n",
      "91\n",
      "92\n",
      "93\n",
      "94\n",
      "95\n",
      "96\n",
      "97\n",
      "98\n",
      "99\n",
      "100\n",
      "101\n",
      "102\n",
      "103\n",
      "104\n",
      "105\n",
      "106\n",
      "107\n",
      "108\n",
      "109\n",
      "110\n",
      "111\n",
      "112\n",
      "113\n",
      "114\n",
      "115\n",
      "116\n",
      "117\n",
      "118\n",
      "119\n",
      "120\n",
      "121\n",
      "122\n",
      "123\n",
      "124\n",
      "125\n",
      "126\n",
      "127\n",
      "128\n",
      "129\n",
      "130\n",
      "131\n",
      "132\n",
      "133\n",
      "134\n",
      "135\n",
      "136\n",
      "137\n",
      "138\n",
      "139\n",
      "140\n",
      "141\n",
      "142\n",
      "143\n",
      "144\n",
      "145\n",
      "146\n",
      "147\n",
      "148\n",
      "149\n",
      "150\n",
      "151\n",
      "152\n",
      "153\n",
      "154\n",
      "155\n",
      "156\n",
      "157\n",
      "158\n",
      "159\n",
      "160\n",
      "161\n",
      "162\n",
      "163\n",
      "164\n",
      "165\n",
      "166\n",
      "167\n",
      "168\n",
      "169\n",
      "170\n",
      "171\n",
      "172\n",
      "173\n",
      "174\n",
      "175\n",
      "176\n",
      "177\n",
      "178\n",
      "179\n",
      "180\n",
      "181\n",
      "182\n",
      "183\n",
      "184\n",
      "185\n",
      "186\n",
      "187\n",
      "188\n",
      "189\n",
      "190\n",
      "191\n",
      "192\n",
      "193\n",
      "194\n",
      "195\n",
      "196\n",
      "197\n",
      "198\n",
      "199\n",
      "200\n",
      "201\n",
      "202\n",
      "203\n",
      "204\n",
      "205\n",
      "206\n",
      "207\n",
      "208\n",
      "209\n",
      "210\n",
      "211\n",
      "212\n",
      "213\n",
      "214\n",
      "215\n",
      "216\n",
      "217\n",
      "218\n",
      "219\n",
      "220\n",
      "221\n"
     ]
    }
   ],
   "source": [
    "# get 2nd page results that were not picked up the first time\n",
    "\n",
    "for comp_name in perm_over8_rounds[5:]:\n",
    "    try:\n",
    "        api_call = cb.organization(comp_name)\n",
    "        funding_rounds_summary = api_call.funding_rounds\n",
    "        more_funding_rounds = cb.more(funding_rounds_summary)\n",
    "        funding_data = []\n",
    "        for i in range(len(more_funding_rounds)):\n",
    "            round_uuid = more_funding_rounds[i].data\n",
    "            funding_data.append(round_uuid)\n",
    "        orgs_api.update({\"properties.name\": comp_name}, {\"$set\": {\"relationships.funding_rounds.items\": funding_data}})\n",
    "    except:\n",
    "        continue"
   ]
  },
  {
   "cell_type": "code",
   "execution_count": 25,
   "metadata": {
    "collapsed": false
   },
   "outputs": [],
   "source": [
    "# find lenghts of descriptions\n",
    "\n",
    "description_lengths = []\n",
    "for description in orgs_api.find():\n",
    "    try:\n",
    "        desc = description[\"properties\"][\"description\"]\n",
    "    except:\n",
    "        description_lengths.append(0)\n",
    "        continue\n",
    "    if hasattr(desc, \"lower\"):\n",
    "        description_lengths.append(len(desc))\n",
    "    else:\n",
    "        description_lengths.append(0)"
   ]
  },
  {
   "cell_type": "code",
   "execution_count": 42,
   "metadata": {
    "collapsed": true
   },
   "outputs": [
    {
     "ename": "NameError",
     "evalue": "name 'description_lengths' is not defined",
     "output_type": "error",
     "traceback": [
      "\u001b[0;31m---------------------------------------------------------------------------\u001b[0m",
      "\u001b[0;31mNameError\u001b[0m                                 Traceback (most recent call last)",
      "\u001b[0;32m<ipython-input-42-cab17cb733ff>\u001b[0m in \u001b[0;36m<module>\u001b[0;34m()\u001b[0m\n\u001b[0;32m----> 1\u001b[0;31m \u001b[0mplt\u001b[0m\u001b[0;34m.\u001b[0m\u001b[0mhist\u001b[0m\u001b[0;34m(\u001b[0m\u001b[0mdescription_lengths\u001b[0m\u001b[0;34m,\u001b[0m \u001b[0mbins\u001b[0m \u001b[0;34m=\u001b[0m \u001b[0;36m50\u001b[0m\u001b[0;34m,\u001b[0m \u001b[0mrange\u001b[0m\u001b[0;34m=\u001b[0m \u001b[0;34m(\u001b[0m\u001b[0;36m0\u001b[0m\u001b[0;34m,\u001b[0m\u001b[0;36m4000\u001b[0m\u001b[0;34m)\u001b[0m\u001b[0;34m,\u001b[0m \u001b[0mlabel\u001b[0m\u001b[0;34m=\u001b[0m\u001b[0;34m\"hello\"\u001b[0m\u001b[0;34m)\u001b[0m\u001b[0;34m\u001b[0m\u001b[0m\n\u001b[0m",
      "\u001b[0;31mNameError\u001b[0m: name 'description_lengths' is not defined"
     ]
    }
   ],
   "source": [
    "plt.hist(description_lengths, bins = 50, range= (0,4000), label=\"hello\")"
   ]
  },
  {
   "cell_type": "code",
   "execution_count": 40,
   "metadata": {
    "collapsed": true
   },
   "outputs": [
    {
     "data": {
      "text/plain": [
       "(array([  277.,   179.,   332.,   380.,   608.,   914.,  1109.,  1155.,\n",
       "         1078.,  1002.,   758.,   607.,   601.,   689.,   704.,   789.,\n",
       "          839.,   949.,  1118.,  1211.,  1389.,  1495.,  1718.,  1871.,\n",
       "         2015.,  2209.,  2259.,  2450.,  2525.,  2669.,  2815.,  3096.,\n",
       "         3674.,  4775.,  5620.,  1232.,     0.,     0.,     0.,     0.,\n",
       "            0.,     0.,     0.,     0.,     0.,     0.,     0.,     0.,\n",
       "            0.,     0.]),\n",
       " array([   0.,    4.,    8.,   12.,   16.,   20.,   24.,   28.,   32.,\n",
       "          36.,   40.,   44.,   48.,   52.,   56.,   60.,   64.,   68.,\n",
       "          72.,   76.,   80.,   84.,   88.,   92.,   96.,  100.,  104.,\n",
       "         108.,  112.,  116.,  120.,  124.,  128.,  132.,  136.,  140.,\n",
       "         144.,  148.,  152.,  156.,  160.,  164.,  168.,  172.,  176.,\n",
       "         180.,  184.,  188.,  192.,  196.,  200.]),\n",
       " <a list of 50 Patch objects>)"
      ]
     },
     "execution_count": 40,
     "metadata": {},
     "output_type": "execute_result"
    },
    {
     "data": {
      "image/png": "[encoded data removed]",
      "text/plain": [
       "<matplotlib.figure.Figure at 0x11c6b6550>"
      ]
     },
     "metadata": {},
     "output_type": "display_data"
    }
   ],
   "source": [
    "plt.hist(short_description_lengths, bins = 50, range= (0,200))"
   ]
  },
  {
   "cell_type": "code",
   "execution_count": 6,
   "metadata": {
    "collapsed": true
   },
   "outputs": [],
   "source": [
    "def get_short_descs():\n",
    "    list_short_descs = []\n",
    "    for description in orgs_api.find():\n",
    "        try:\n",
    "            short_desc = description[\"properties\"][\"short_description\"]\n",
    "        except:\n",
    "            list_short_descs.append(\"\")\n",
    "            continue\n",
    "        if short_desc == None:\n",
    "            list_short_descs.append(\"\")\n",
    "        else:\n",
    "            list_short_descs.append(short_desc)\n",
    "\n",
    "    def process_descs(desc):\n",
    "        if desc:\n",
    "            desc = re.sub(r\"[^A-Za-z2]+\", ' ', desc)    # keep only letters and numbers\n",
    "            desc = desc.strip().lower()                 # strip and lowercase\n",
    "            try:\n",
    "                desc = desc.split(\" \", 1)[1]            # remove company name from description\n",
    "            except:\n",
    "                pass\n",
    "        else:\n",
    "            desc = \"this is a placeholder message. the company did not provide a description\"\n",
    "        return desc\n",
    "        \n",
    "    list_short_descs = map(lambda x: process_descs(x), list_short_descs)\n",
    "    return list_short_descs"
   ]
  },
  {
   "cell_type": "code",
   "execution_count": 627,
   "metadata": {
    "collapsed": true
   },
   "outputs": [],
   "source": [
    "def get_raw_short():\n",
    "    list_short_descs = []\n",
    "    for description in orgs_api.find():\n",
    "        try:\n",
    "            short_desc = description[\"properties\"][\"short_description\"]\n",
    "        except:\n",
    "            list_short_descs.append(\"\")\n",
    "            continue\n",
    "        if short_desc == None:\n",
    "            list_short_descs.append(\"\")\n",
    "        else:\n",
    "            list_short_descs.append(short_desc)\n",
    "    return list_short_descs\n",
    "\n",
    "raw_short = get_raw_short()"
   ]
  },
  {
   "cell_type": "code",
   "execution_count": 7,
   "metadata": {
    "collapsed": false
   },
   "outputs": [],
   "source": [
    "list_short_descs = get_short_descs()"
   ]
  },
  {
   "cell_type": "code",
   "execution_count": 140,
   "metadata": {
    "collapsed": false
   },
   "outputs": [
    {
     "data": {
      "text/plain": [
       "TfidfVectorizer(analyzer=u'word', binary=False, decode_error=u'strict',\n",
       "        dtype=<type 'numpy.int64'>, encoding=u'utf-8', input=u'content',\n",
       "        lowercase=True, max_df=1.0, max_features=None, min_df=1,\n",
       "        ngram_range=(1, 2), norm=u'l2', preprocessor=None, smooth_idf=True,\n",
       "        stop_words=[u'i', u'me', u'my', u'myself', u'we', u'our', u'ours', u'ourselves', u'you', u'your', u'yours', u'yourself', u'yourselves', u'he', u'him', u'his', u'himself', u'she', u'her', u'hers', u'herself', u'it', u'its', u'itself', u'they', u'them', u'their', u'theirs', u'themselves', u'what', u'w... 'g', 'h', 'i', 'j', 'k', 'l', 'm', 'n', 'o', 'p', 'q', 'r', 's', 't', 'u', 'v', 'w', 'x', 'y', 'z'],\n",
       "        strip_accents=None, sublinear_tf=False,\n",
       "        token_pattern=u'(?u)\\\\b\\\\w\\\\w+\\\\b',\n",
       "        tokenizer=<function tokenize at 0x11975c500>, use_idf=True,\n",
       "        vocabulary=None)"
      ]
     },
     "execution_count": 140,
     "metadata": {},
     "output_type": "execute_result"
    }
   ],
   "source": [
    "stemmer = PorterStemmer()\n",
    "\n",
    "def stem_tokens(tokens, stemmer):\n",
    "    stemmed = []\n",
    "    for item in tokens:\n",
    "        stemmed.append(stemmer.stem(item))\n",
    "    return stemmed\n",
    "\n",
    "def tokenize(text):\n",
    "    tokens = word_tokenize(text)\n",
    "    stems = stem_tokens(tokens, stemmer)\n",
    "    return stems\n",
    "\n",
    "def get_stop_words():\n",
    "    stop_words = stopwords.words(\"english\")\n",
    "    stop_words.append([\"company\", \"founded\", \"firm\", \"800\", \"offers\", \"based\", \"usa\", \"offering\", \"inc\"])\n",
    "    for letter in string.ascii_lowercase:\n",
    "        stop_words.append(letter)\n",
    "    return stop_words\n",
    "\n",
    "stop_words = get_stop_words()\n",
    "\n",
    "tfidf = TfidfVectorizer(stop_words = stop_words, tokenizer = tokenize, ngram_range=(1, 2))\n",
    "tfidf.fit(list_short_descs)"
   ]
  },
  {
   "cell_type": "code",
   "execution_count": 137,
   "metadata": {
    "collapsed": false
   },
   "outputs": [
    {
     "data": {
      "text/plain": [
       "(1, 233673)"
      ]
     },
     "execution_count": 137,
     "metadata": {},
     "output_type": "execute_result"
    }
   ],
   "source": [
    "facebook.shape"
   ]
  },
  {
   "cell_type": "code",
   "execution_count": 141,
   "metadata": {
    "collapsed": false
   },
   "outputs": [],
   "source": [
    "facebook = tfidf.transform([\"an online social networking service that enables its users to connect with friends and family as well as make new connections\"])"
   ]
  },
  {
   "cell_type": "code",
   "execution_count": 142,
   "metadata": {
    "collapsed": false
   },
   "outputs": [
    {
     "data": {
      "text/plain": [
       "<1x233673 sparse matrix of type '<type 'numpy.float64'>'\n",
       "\twith 24 stored elements in Compressed Sparse Row format>"
      ]
     },
     "execution_count": 142,
     "metadata": {},
     "output_type": "execute_result"
    }
   ],
   "source": [
    "facebook"
   ]
  },
  {
   "cell_type": "code",
   "execution_count": null,
   "metadata": {
    "collapsed": true
   },
   "outputs": [],
   "source": []
  },
  {
   "cell_type": "code",
   "execution_count": 9,
   "metadata": {
    "collapsed": false
   },
   "outputs": [],
   "source": [
    "descs_tfidf = tfidf.transform(list_short_descs)"
   ]
  },
  {
   "cell_type": "code",
   "execution_count": 10,
   "metadata": {
    "collapsed": false
   },
   "outputs": [],
   "source": [
    "def get_properties(key):\n",
    "    alist = []\n",
    "    for company in orgs_api.find():\n",
    "        try:\n",
    "            alist.append(company[\"properties\"][key])\n",
    "        except:\n",
    "            alist.append(np.nan)\n",
    "    return alist\n",
    "\n",
    "# founded_on = get_properties(\"founded_on\")\n",
    "# num_employees_min = get_properties(\"num_employees_min\")\n",
    "num_employees_max = get_properties(\"num_employees_max\")\n",
    "primary_role = get_properties(\"primary_role\")\n",
    "role_investor = get_properties(\"role_investor\")\n",
    "role_group = get_properties(\"role_group\")\n",
    "role_school = get_properties(\"role_school\")\n",
    "# total_funding_usd = get_properties(\"total_funding_usd\")\n",
    "role_company = get_properties(\"role_company\")\n",
    "names = get_properties(\"name\")\n",
    "# homepages = get_properties(\"homepage_url\")"
   ]
  },
  {
   "cell_type": "code",
   "execution_count": 11,
   "metadata": {
    "collapsed": false
   },
   "outputs": [],
   "source": [
    "# founded_on = map(lambda x: float(x[:4]) if type(x) == unicode else np.nan, founded_on)\n",
    "num_employees_max = map(lambda x: float(x) if x else np.nan, num_employees_max)\n",
    "role_investor = map(lambda x: 1.0 if x else 0.0, role_investor)\n",
    "role_group = map(lambda x: 1.0 if x else 0.0, role_group)\n",
    "role_school = map(lambda x: 1.0 if x else 0.0, role_school)\n",
    "role_company = map(lambda x: 1.0 if x else 0.0, role_company)\n",
    "\n",
    "imputer = preprocessing.Imputer(strategy = \"median\")\n",
    "\n",
    "# founded_on_sparse = imputer.fit_transform(np.array(founded_on)[:, np.newaxis])\n",
    "# founded_on_sparse = preprocessing.scale(founded_on_sparse)\n",
    "# founded_on_sparse = sparse.csr_matrix(founded_on_sparse)\n",
    "\n",
    "num_employees_sparse = imputer.fit_transform(np.array(num_employees_max)[:, np.newaxis])\n",
    "num_employees_sparse = preprocessing.scale(num_employees_sparse)\n",
    "num_employees_sparse = num_employees_sparse/10\n",
    "num_employees_sparse = sparse.csr_matrix(num_employees_sparse)\n",
    "\n",
    "# total_funding_sparse = imputer.fit_transform(np.array(total_funding_usd)[:, np.newaxis])\n",
    "# total_funding_sparse = preprocessing.scale(total_funding_sparse)\n",
    "# total_funding_sparse = total_funding_sparse / 3\n",
    "# total_funding_sparse = sparse.csr_matrix(total_funding_sparse)\n",
    "\n",
    "role_investor_sparse = imputer.fit_transform(np.array(role_investor)[:,np.newaxis])\n",
    "role_investor_sparse = sparse.csr_matrix(role_investor_sparse)\n",
    "\n",
    "role_group_sparse = imputer.fit_transform(np.array(role_group)[:,np.newaxis])\n",
    "role_group_sparse = sparse.csr_matrix(role_investor_sparse)\n",
    "\n",
    "role_school_sparse = imputer.fit_transform(np.array(role_school)[:,np.newaxis])\n",
    "role_school_sparse = sparse.csr_matrix(role_school_sparse)\n",
    "\n",
    "role_company = imputer.fit_transform(np.array(role_company)[:,np.newaxis])\n",
    "role_company_sparse = sparse.csr_matrix(role_company)\n",
    "\n",
    "primary_role_sparse = sparse.csr_matrix(pd.get_dummies(primary_role))"
   ]
  },
  {
   "cell_type": "code",
   "execution_count": 158,
   "metadata": {
    "collapsed": false
   },
   "outputs": [
    {
     "data": {
      "text/plain": [
       "array([-0.00356727])"
      ]
     },
     "execution_count": 158,
     "metadata": {},
     "output_type": "execute_result"
    }
   ],
   "source": [
    "num_employees_sparse[3].data"
   ]
  },
  {
   "cell_type": "code",
   "execution_count": 510,
   "metadata": {
    "collapsed": false
   },
   "outputs": [],
   "source": [
    "def get_investors():\n",
    "    alist = []\n",
    "    for company in orgs_api.find():\n",
    "        blist = []\n",
    "        try:\n",
    "            investors = company[\"relationships\"][\"investors\"][\"items\"]\n",
    "            for investor in investors:\n",
    "                blist.append(investor[\"properties\"][\"name\"])\n",
    "            blist = \" \".join(blist)\n",
    "            alist.append(blist)\n",
    "        except:\n",
    "            alist.append(\"\")\n",
    "    return alist\n",
    "\n",
    "investors = get_investors()\n",
    "investors_tfidf = TfidfVectorizer(stop_words = \"english\")\n",
    "investors_sparse = investors_tfidf.fit_transform(investors)"
   ]
  },
  {
   "cell_type": "code",
   "execution_count": 110,
   "metadata": {
    "collapsed": false
   },
   "outputs": [],
   "source": [
    "def get_hq():\n",
    "    alist = []\n",
    "    for company in orgs_api.find():\n",
    "        try:\n",
    "            hq = company[\"relationships\"][\"headquarters\"][\"item\"][\"properties\"][\"region\"]\n",
    "            if hq == None:\n",
    "                hq = \"NA\"\n",
    "            alist.append(hq)\n",
    "        except:\n",
    "            alist.append(\"NA\")\n",
    "    return alist\n",
    "\n",
    "headquarters = get_hq()\n",
    "hq_sparse = sparse.csr_matrix(pd.get_dummies(headquarters))"
   ]
  },
  {
   "cell_type": "code",
   "execution_count": 612,
   "metadata": {
    "collapsed": true
   },
   "outputs": [],
   "source": [
    "def get_hq():\n",
    "    alist = []\n",
    "    for company in orgs_api.find():\n",
    "        try:\n",
    "            city = company[\"relationships\"][\"headquarters\"][\"item\"][\"properties\"][\"city\"]\n",
    "            region = company[\"relationships\"][\"headquarters\"][\"item\"][\"properties\"][\"region\"]\n",
    "            if not city and not region:\n",
    "                hq = np.nan\n",
    "            elif region and not city:\n",
    "                hq = region\n",
    "            else:\n",
    "                hq = city + \", \" + region\n",
    "            alist.append(hq)\n",
    "        except:\n",
    "            alist.append(np.nan)\n",
    "    return alist\n",
    "\n",
    "hq = get_hq()\n",
    "# hq_sparse = sparse.csr_matrix(pd.get_dummies(headquarters))"
   ]
  },
  {
   "cell_type": "code",
   "execution_count": 611,
   "metadata": {
    "collapsed": false
   },
   "outputs": [
    {
     "data": {
      "text/plain": [
       "{u'city': u'Menlo Park',\n",
       " u'city_web_path': u'location/menlo-park/1f8abfef5379b26b702005a09908492f',\n",
       " u'country': u'United States',\n",
       " u'country_code2': u'US',\n",
       " u'country_code3': u'USA',\n",
       " u'country_web_path': u'location/united-states/f110fca2105599f6996d011c198b3928',\n",
       " u'created_at': 1205362453,\n",
       " u'latitude': 37.41605,\n",
       " u'longitude': -122.151801,\n",
       " u'name': u'Headquarters',\n",
       " u'postal_code': u'94025',\n",
       " u'region': u'California',\n",
       " u'region_code2': u'CA',\n",
       " u'region_web_path': u'location/california/eb879a83c91a121e0bb8829782dbcf04',\n",
       " u'street_1': u'1601 Willow Road',\n",
       " u'street_2': None,\n",
       " u'updated_at': 1398138077}"
      ]
     },
     "execution_count": 611,
     "metadata": {},
     "output_type": "execute_result"
    }
   ],
   "source": [
    "orgs_api.find_one({\"properties.name\" : \"Facebook\"})[\"relationships\"][\"headquarters\"][\"item\"][\"properties\"]"
   ]
  },
  {
   "cell_type": "code",
   "execution_count": 12,
   "metadata": {
    "collapsed": false
   },
   "outputs": [],
   "source": [
    "def get_categories():\n",
    "    alist = []\n",
    "    for company in orgs_api.find():\n",
    "        try:\n",
    "            categories = company[\"relationships\"][\"categories\"][\"items\"]\n",
    "            cat_list = []\n",
    "        except:\n",
    "            alist.append(\"\")\n",
    "            continue\n",
    "        for category in categories:\n",
    "            a_category = category[\"properties\"][\"name\"]\n",
    "            a_category = a_category.replace(\" \", \"\").replace(\"-\", \"\").replace(\"'\", \"\")\n",
    "            cat_list.append(a_category)\n",
    "        cat_list = \" \".join(cat_list)\n",
    "        alist.append(cat_list)\n",
    "    return alist"
   ]
  },
  {
   "cell_type": "code",
   "execution_count": 13,
   "metadata": {
    "collapsed": false
   },
   "outputs": [],
   "source": [
    "categories = get_categories()\n",
    "categories_tfidf = TfidfVectorizer(stop_words = \"english\")\n",
    "categories_tfidf.fit(categories)\n",
    "categories_sparse = categories_tfidf.transform(categories)\n"
   ]
  },
  {
   "cell_type": "code",
   "execution_count": 14,
   "metadata": {
    "collapsed": true
   },
   "outputs": [],
   "source": [
    "# print founded_on.shape\n",
    "# print num_employees_max.shape\n",
    "# print primary_role.shape\n",
    "# print role_investor.shape\n",
    "# print role_group.shape\n",
    "# print role_school.shape\n",
    "# print total_funding_usd.shape\n",
    "# print role_company.shape\n",
    "# print investors.shape\n",
    "# print hq_sparse.shape\n",
    "# print categories.shape\n",
    "# print descs_tfidf.shape\n",
    "\n",
    "combined_sparse = sparse.hstack([num_employees_sparse,\n",
    "                                 primary_role_sparse,\n",
    "                                role_investor_sparse,\n",
    "                                role_group_sparse,\n",
    "                                role_school_sparse,\n",
    "                                role_company_sparse,\n",
    "                                categories_sparse,\n",
    "                                descs_tfidf])"
   ]
  },
  {
   "cell_type": "code",
   "execution_count": 151,
   "metadata": {
    "collapsed": false
   },
   "outputs": [
    {
     "data": {
      "text/plain": [
       "<57111x852 sparse matrix of type '<type 'numpy.float64'>'\n",
       "\twith 131415 stored elements in Compressed Sparse Row format>"
      ]
     },
     "execution_count": 151,
     "metadata": {},
     "output_type": "execute_result"
    }
   ],
   "source": [
    "categories_sparse"
   ]
  },
  {
   "cell_type": "code",
   "execution_count": 73,
   "metadata": {
    "collapsed": false
   },
   "outputs": [],
   "source": [
    "default_tag = np.array([0,0,1,0,0,0,0,0,0,0,1]).transpose()"
   ]
  },
  {
   "cell_type": "code",
   "execution_count": 72,
   "metadata": {
    "collapsed": false
   },
   "outputs": [
    {
     "data": {
      "text/plain": [
       "array([0, 0, 1, 0, 0, 0, 0, 0, 0, 0, 1])"
      ]
     },
     "execution_count": 72,
     "metadata": {},
     "output_type": "execute_result"
    }
   ],
   "source": [
    "default_tag.transpose()"
   ]
  },
  {
   "cell_type": "code",
   "execution_count": 111,
   "metadata": {
    "collapsed": false
   },
   "outputs": [],
   "source": [
    "def save_sparse_csr(filename,array):\n",
    "    np.savez(filename, data = array.data,shape=array.shape)\n",
    "save_sparse_csr(\"combined\", combined_sparse)"
   ]
  },
  {
   "cell_type": "code",
   "execution_count": 116,
   "metadata": {
    "collapsed": false
   },
   "outputs": [
    {
     "data": {
      "text/plain": [
       "<57111x234536 sparse matrix of type '<type 'numpy.float64'>'\n",
       "\twith 1261266 stored elements in COOrdinate format>"
      ]
     },
     "execution_count": 116,
     "metadata": {},
     "output_type": "execute_result"
    }
   ],
   "source": [
    "combined_sparse."
   ]
  },
  {
   "cell_type": "code",
   "execution_count": 62,
   "metadata": {
    "collapsed": false
   },
   "outputs": [
    {
     "data": {
      "text/plain": [
       "<57111x1 sparse matrix of type '<type 'numpy.float64'>'\n",
       "\twith 48913 stored elements in Compressed Sparse Row format>"
      ]
     },
     "execution_count": 62,
     "metadata": {},
     "output_type": "execute_result"
    }
   ],
   "source": [
    "role_company_sparse"
   ]
  },
  {
   "cell_type": "code",
   "execution_count": 18,
   "metadata": {
    "collapsed": false
   },
   "outputs": [
    {
     "ename": "NameError",
     "evalue": "name 'default_tag' is not defined",
     "output_type": "error",
     "traceback": [
      "\u001b[0;31m---------------------------------------------------------------------------\u001b[0m",
      "\u001b[0;31mNameError\u001b[0m                                 Traceback (most recent call last)",
      "\u001b[0;32m<ipython-input-18-df7f1f3357f2>\u001b[0m in \u001b[0;36m<module>\u001b[0;34m()\u001b[0m\n\u001b[1;32m      1\u001b[0m \u001b[0;31m# 57111 x 863\u001b[0m\u001b[0;34m\u001b[0m\u001b[0;34m\u001b[0m\u001b[0m\n\u001b[0;32m----> 2\u001b[0;31m \u001b[0msparse\u001b[0m\u001b[0;34m.\u001b[0m\u001b[0mcsr_matrix\u001b[0m\u001b[0;34m(\u001b[0m\u001b[0mdefault_tag\u001b[0m\u001b[0;34m)\u001b[0m\u001b[0;34m\u001b[0m\u001b[0m\n\u001b[0m",
      "\u001b[0;31mNameError\u001b[0m: name 'default_tag' is not defined"
     ]
    }
   ],
   "source": [
    "# 57111 x 863\n",
    "sparse.csr_matrix(default_tag)"
   ]
  },
  {
   "cell_type": "code",
   "execution_count": 118,
   "metadata": {
    "collapsed": false
   },
   "outputs": [],
   "source": [
    "import cPickle as pickle\n",
    "import numpy as np\n",
    "import scipy.sparse"
   ]
  },
  {
   "cell_type": "code",
   "execution_count": 92,
   "metadata": {
    "collapsed": false
   },
   "outputs": [],
   "source": [
    "new_fb = sparse.hstack([default_tag , sparse.csr_matrix(np.zeros(shape = (1,852))), facebook])"
   ]
  },
  {
   "cell_type": "code",
   "execution_count": 15,
   "metadata": {
    "collapsed": false
   },
   "outputs": [],
   "source": [
    "trunc_algo = TruncatedSVD(n_components = 500)\n",
    "svd2 = trunc_algo.fit_transform(combined_sparse)"
   ]
  },
  {
   "cell_type": "code",
   "execution_count": 17,
   "metadata": {
    "collapsed": true
   },
   "outputs": [],
   "source": [
    "np.save(\"svd2\", svd2)"
   ]
  },
  {
   "cell_type": "code",
   "execution_count": 93,
   "metadata": {
    "collapsed": false
   },
   "outputs": [],
   "source": [
    "new_fb2 = trunc_algo.transform(new_fb)"
   ]
  },
  {
   "cell_type": "code",
   "execution_count": 94,
   "metadata": {
    "collapsed": false
   },
   "outputs": [
    {
     "data": {
      "text/plain": [
       "array([[ 6482, 12494, 12938, 20081, 41924, 46051, 19955, 21945, 43371,\n",
       "        20926]])"
      ]
     },
     "execution_count": 94,
     "metadata": {},
     "output_type": "execute_result"
    }
   ],
   "source": [
    "nbrs = NearestNeighbors(algorithm = \"brute\", metric = \"cityblock\", n_neighbors = 10)\n",
    "nbrs.fit(svd)\n",
    "nbrs.kneighbors(svd[6482])[1]"
   ]
  },
  {
   "cell_type": "code",
   "execution_count": 95,
   "metadata": {
    "collapsed": false
   },
   "outputs": [
    {
     "data": {
      "text/plain": [
       "(array([[ 6.98886526,  7.37850043,  7.75568787,  7.75906169,  7.8548777 ,\n",
       "          7.93942716,  7.95672755,  7.97914752,  8.06934564,  8.09604582]]),\n",
       " array([[ 1385, 18468, 11764,  2977, 18493, 48005, 54143,  3384, 48851,\n",
       "         32051]]))"
      ]
     },
     "execution_count": 95,
     "metadata": {},
     "output_type": "execute_result"
    }
   ],
   "source": [
    "nbrs.kneighbors(new_fb2)"
   ]
  },
  {
   "cell_type": "code",
   "execution_count": 96,
   "metadata": {
    "collapsed": false
   },
   "outputs": [
    {
     "data": {
      "text/plain": [
       "u'is a social network where people connect with each other using exciting features implemented with unique blend of technologies'"
      ]
     },
     "execution_count": 96,
     "metadata": {},
     "output_type": "execute_result"
    }
   ],
   "source": [
    "list_short_descs[18468]"
   ]
  },
  {
   "cell_type": "code",
   "execution_count": 24,
   "metadata": {
    "collapsed": false
   },
   "outputs": [
    {
     "data": {
      "text/plain": [
       "u'chow holdings provides an online home delivery service of steaks beef meat and wine for households in hong kong'"
      ]
     },
     "execution_count": 24,
     "metadata": {},
     "output_type": "execute_result"
    }
   ],
   "source": [
    "list_short_descs[20081]"
   ]
  },
  {
   "cell_type": "code",
   "execution_count": 748,
   "metadata": {
    "collapsed": false
   },
   "outputs": [],
   "source": [
    "def get_neighbors(company_name):\n",
    "    index = names.index(company_name)\n",
    "    neighbors = nbrs.kneighbors(svd[index])[1][0][1:]\n",
    "    distances = nbrs.kneighbors(svd[index])[0][0][1:]\n",
    "    for i in range(len(neighbors)):\n",
    "        \n",
    "        status = companies[companies.name == names[neighbors[i]]][\"status\"].item()\n",
    "        founded = map(lambda x: int(x) if x>0 else \"NA\", founded_on)\n",
    "        \n",
    "        print \"=================================\" \n",
    "        print \"Rank: \" + str(i+1) + \"   \" + \"Distance: \" + str(round(distances[i], 3))\n",
    "        print \"Company: \" + names[neighbors[i]]\n",
    "        print \"Location: \" + str(hq[neighbors[i]])\n",
    "        print \"Web Link: \" + homepages[neighbors[i]]\n",
    "        print \"Founded: \" + str(founded[neighbors[i]])\n",
    "        print \"Total Funding: $\" +  \"{:,}\".format(total_funding_usd[neighbors[i]])\n",
    "        print \"Status: \" + status\n",
    "        print \"Categories: \" + categories[neighbors[i]]\n",
    "        print \"Description: \" + raw_short[neighbors[i]]\n",
    "        print \"\\n\""
   ]
  },
  {
   "cell_type": "code",
   "execution_count": 34,
   "metadata": {
    "collapsed": false
   },
   "outputs": [
    {
     "ename": "NameError",
     "evalue": "name 'indexes' is not defined",
     "output_type": "error",
     "traceback": [
      "\u001b[0;31m---------------------------------------------------------------------------\u001b[0m",
      "\u001b[0;31mNameError\u001b[0m                                 Traceback (most recent call last)",
      "\u001b[0;32m<ipython-input-34-3b411f657990>\u001b[0m in \u001b[0;36m<module>\u001b[0;34m()\u001b[0m\n\u001b[1;32m      7\u001b[0m \u001b[0mplt\u001b[0m\u001b[0;34m.\u001b[0m\u001b[0mfigure\u001b[0m\u001b[0;34m(\u001b[0m\u001b[0mfigsize\u001b[0m \u001b[0;34m=\u001b[0m \u001b[0;34m(\u001b[0m\u001b[0;36m10\u001b[0m\u001b[0;34m,\u001b[0m\u001b[0;36m3.5\u001b[0m\u001b[0;34m)\u001b[0m\u001b[0;34m)\u001b[0m\u001b[0;34m\u001b[0m\u001b[0m\n\u001b[1;32m      8\u001b[0m \u001b[0;34m\u001b[0m\u001b[0m\n\u001b[0;32m----> 9\u001b[0;31m \u001b[0mplot\u001b[0m \u001b[0;34m=\u001b[0m \u001b[0msns\u001b[0m\u001b[0;34m.\u001b[0m\u001b[0mbarplot\u001b[0m\u001b[0;34m(\u001b[0m\u001b[0mindexes\u001b[0m\u001b[0;34m,\u001b[0m \u001b[0mamount\u001b[0m\u001b[0;34m,\u001b[0m \u001b[0mcolor\u001b[0m \u001b[0;34m=\u001b[0m \u001b[0;34m\"blue\"\u001b[0m\u001b[0;34m)\u001b[0m\u001b[0;34m\u001b[0m\u001b[0m\n\u001b[0m\u001b[1;32m     10\u001b[0m \u001b[0mplot\u001b[0m\u001b[0;34m.\u001b[0m\u001b[0mset_ylim\u001b[0m\u001b[0;34m(\u001b[0m\u001b[0;36m0\u001b[0m\u001b[0;34m,\u001b[0m\u001b[0;36m15\u001b[0m\u001b[0;34m)\u001b[0m\u001b[0;34m\u001b[0m\u001b[0m\n\u001b[1;32m     11\u001b[0m \u001b[0msns\u001b[0m\u001b[0;34m.\u001b[0m\u001b[0mset\u001b[0m\u001b[0;34m(\u001b[0m\u001b[0mfont_scale\u001b[0m \u001b[0;34m=\u001b[0m \u001b[0;36m2\u001b[0m\u001b[0;34m)\u001b[0m\u001b[0;34m\u001b[0m\u001b[0m\n",
      "\u001b[0;31mNameError\u001b[0m: name 'indexes' is not defined"
     ]
    },
    {
     "data": {
      "text/plain": [
       "<matplotlib.figure.Figure at 0x11b3eb750>"
      ]
     },
     "metadata": {},
     "output_type": "display_data"
    }
   ],
   "source": [
    "stage = [\"Seed\", \"Angel\", \"Series A\", \"Series B\", \"Series C\", \"Now\"]\n",
    "companies = [\"Company B\", \"Company A\"]\n",
    "amount = np.array([.325, .7, 4.7, 12, 14, 170])\n",
    "amount2 = np.array([.7, 0, 4, 0, 0, 0])\n",
    "df = pd.DataFrame([amount, amount2], columns = stage, index = companies).transpose()\n",
    "\n",
    "plt.figure(figsize = (10,3.5))\n",
    "\n",
    "plot = sns.barplot(indexes, amount, color = \"blue\")\n",
    "plot.set_ylim(0,15)\n",
    "sns.set(font_scale = 2)\n",
    "plot.set_title(\"Mint vs Wesabe\")\n",
    "\n",
    "mint.set_ylabel(\"$ million funding\")\n",
    "mint.set_xticklabels(stage)\n",
    "\n",
    "stage = [\"Seed\", \"Series A\", \"\", \"\", \"\"]\n",
    "indexes2 = np.array([1,2,3,4,5])\n",
    "amount2 = np.array([.7, 4, 0, 0, 0])\n",
    "\n",
    "sns.barplot(indexes2, amount2, color = \"red\")\n",
    "\n",
    "wesabe.set_ylabel(\"$ million funding\")\n",
    "wesabe.set_xticklabels(stage)\n",
    "plt.tight_layout()\n"
   ]
  },
  {
   "cell_type": "code",
   "execution_count": 60,
   "metadata": {
    "collapsed": false
   },
   "outputs": [
    {
     "data": {
      "text/plain": [
       "<matplotlib.figure.Figure at 0x1217c7210>"
      ]
     },
     "metadata": {},
     "output_type": "display_data"
    },
    {
     "data": {
      "image/png": "[encoded data removed]",
      "text/plain": [
       "<matplotlib.figure.Figure at 0x11b5c6390>"
      ]
     },
     "metadata": {},
     "output_type": "display_data"
    }
   ],
   "source": [
    "with sns.axes_style(\"dark\"):\n",
    "    plt.figure(figsize = (10,3.5))\n",
    "    ax = df.plot(kind = \"bar\", rot = 40, fontsize = 15)\n",
    "    ax.set_ylabel(\"$ million USD\")\n",
    "    ax.set_xlabel(\"Stage\")\n",
    "    sns.set(font_scale = 1)\n",
    "\n",
    "    plt.tight_layout()\n",
    "    plt.savefig(\"mintwesabe.png\")"
   ]
  },
  {
   "cell_type": "code",
   "execution_count": 49,
   "metadata": {
    "collapsed": false
   },
   "outputs": [
    {
     "ename": "TypeError",
     "evalue": "'str' object is not callable",
     "output_type": "error",
     "traceback": [
      "\u001b[0;31m---------------------------------------------------------------------------\u001b[0m",
      "\u001b[0;31mTypeError\u001b[0m                                 Traceback (most recent call last)",
      "\u001b[0;32m<ipython-input-49-8fa7a07ef7b0>\u001b[0m in \u001b[0;36m<module>\u001b[0;34m()\u001b[0m\n\u001b[1;32m      3\u001b[0m \u001b[0mamount2\u001b[0m \u001b[0;34m=\u001b[0m \u001b[0mnp\u001b[0m\u001b[0;34m.\u001b[0m\u001b[0marray\u001b[0m\u001b[0;34m(\u001b[0m\u001b[0;34m[\u001b[0m\u001b[0;36m.7\u001b[0m\u001b[0;34m,\u001b[0m \u001b[0;36m4\u001b[0m\u001b[0;34m,\u001b[0m \u001b[0;36m0\u001b[0m\u001b[0;34m,\u001b[0m \u001b[0;36m0\u001b[0m\u001b[0;34m,\u001b[0m \u001b[0;36m0\u001b[0m\u001b[0;34m]\u001b[0m\u001b[0;34m)\u001b[0m\u001b[0;34m\u001b[0m\u001b[0m\n\u001b[1;32m      4\u001b[0m \u001b[0msns\u001b[0m\u001b[0;34m.\u001b[0m\u001b[0mbarplot\u001b[0m\u001b[0;34m(\u001b[0m\u001b[0mindexes2\u001b[0m\u001b[0;34m,\u001b[0m \u001b[0mamount2\u001b[0m\u001b[0;34m,\u001b[0m \u001b[0mcolor\u001b[0m \u001b[0;34m=\u001b[0m \u001b[0;34m\"red\"\u001b[0m\u001b[0;34m)\u001b[0m\u001b[0;34m\u001b[0m\u001b[0m\n\u001b[0;32m----> 5\u001b[0;31m \u001b[0msns\u001b[0m\u001b[0;34m.\u001b[0m\u001b[0mset_style\u001b[0m\u001b[0;34m(\u001b[0m\u001b[0;34m\"dark\"\u001b[0m\u001b[0;34m)\u001b[0m\u001b[0;34m\u001b[0m\u001b[0m\n\u001b[0m",
      "\u001b[0;31mTypeError\u001b[0m: 'str' object is not callable"
     ]
    },
    {
     "data": {
      "image/png": "[encoded data removed]",
      "text/plain": [
       "<matplotlib.figure.Figure at 0x11a8d3e10>"
      ]
     },
     "metadata": {},
     "output_type": "display_data"
    }
   ],
   "source": [
    "stage = [\"Seed\", \"Series A\", \"\", \"\", \"\"]\n",
    "indexes2 = np.array([1,2,3,4,5])\n",
    "amount2 = np.array([.7, 4, 0, 0, 0])\n",
    "sns.barplot(indexes2, amount2, color = \"red\")\n",
    "sns.set_style(\"dark\")"
   ]
  },
  {
   "cell_type": "code",
   "execution_count": 25,
   "metadata": {
    "collapsed": true
   },
   "outputs": [],
   "source": [
    "np.save(\"svd\", svd)"
   ]
  },
  {
   "cell_type": "code",
   "execution_count": 139,
   "metadata": {
    "collapsed": false
   },
   "outputs": [
    {
     "data": {
      "text/plain": [
       "57111"
      ]
     },
     "execution_count": 139,
     "metadata": {},
     "output_type": "execute_result"
    }
   ],
   "source": [
    "len(list_short_descs)"
   ]
  },
  {
   "cell_type": "code",
   "execution_count": 27,
   "metadata": {
    "collapsed": false
   },
   "outputs": [],
   "source": [
    "with open(\"shortdescs.txt\", \"w\") as f:\n",
    "    for item in list_short_descs:\n",
    "        print>>f, item"
   ]
  },
  {
   "cell_type": "code",
   "execution_count": 83,
   "metadata": {
    "collapsed": true
   },
   "outputs": [],
   "source": [
    "a = [1,2,3,4,5]"
   ]
  },
  {
   "cell_type": "code",
   "execution_count": 84,
   "metadata": {
    "collapsed": false
   },
   "outputs": [
    {
     "ename": "ValueError",
     "evalue": "'hello' is not in list",
     "output_type": "error",
     "traceback": [
      "\u001b[0;31m---------------------------------------------------------------------------\u001b[0m",
      "\u001b[0;31mValueError\u001b[0m                                Traceback (most recent call last)",
      "\u001b[0;32m<ipython-input-84-f77311ec7dd9>\u001b[0m in \u001b[0;36m<module>\u001b[0;34m()\u001b[0m\n\u001b[0;32m----> 1\u001b[0;31m \u001b[0ma\u001b[0m\u001b[0;34m.\u001b[0m\u001b[0mindex\u001b[0m\u001b[0;34m(\u001b[0m\u001b[0;34m\"hello\"\u001b[0m\u001b[0;34m)\u001b[0m\u001b[0;34m\u001b[0m\u001b[0m\n\u001b[0m",
      "\u001b[0;31mValueError\u001b[0m: 'hello' is not in list"
     ]
    }
   ],
   "source": [
    "a.index(\"hello\")"
   ]
  },
  {
   "cell_type": "code",
   "execution_count": 90,
   "metadata": {
    "collapsed": true
   },
   "outputs": [],
   "source": [
    "default_tag = np.array([0,0,1,0,0,0,0,0,0,0,1]).transpose()\n"
   ]
  },
  {
   "cell_type": "code",
   "execution_count": 91,
   "metadata": {
    "collapsed": false
   },
   "outputs": [
    {
     "data": {
      "text/plain": [
       "(11,)"
      ]
     },
     "execution_count": 91,
     "metadata": {},
     "output_type": "execute_result"
    }
   ],
   "source": [
    "defaul"
   ]
  },
  {
   "cell_type": "code",
   "execution_count": 119,
   "metadata": {
    "collapsed": true
   },
   "outputs": [],
   "source": [
    "with open('combined.dat', 'wb') as outfile:\n",
    "    pickle.dump(combined_sparse, outfile, pickle.HIGHEST_PROTOCOL)"
   ]
  },
  {
   "cell_type": "code",
   "execution_count": 19,
   "metadata": {
    "collapsed": false
   },
   "outputs": [
    {
     "data": {
      "text/plain": [
       "<1x11 sparse matrix of type '<type 'numpy.int64'>'\n",
       "\twith 2 stored elements in Compressed Sparse Row format>"
      ]
     },
     "execution_count": 19,
     "metadata": {},
     "output_type": "execute_result"
    }
   ],
   "source": [
    "default_tag = np.array([0,0,1,0,0,0,0,0,0,0,1])[np.newaxis, :]\n",
    "sparse.csr_matrix(default_tag)"
   ]
  },
  {
   "cell_type": "code",
   "execution_count": 121,
   "metadata": {
    "collapsed": false
   },
   "outputs": [
    {
     "data": {
      "text/plain": [
       "(1, 11)"
      ]
     },
     "execution_count": 121,
     "metadata": {},
     "output_type": "execute_result"
    }
   ],
   "source": [
    "default_tag.shape"
   ]
  },
  {
   "cell_type": "code",
   "execution_count": 22,
   "metadata": {
    "collapsed": false
   },
   "outputs": [],
   "source": [
    "sparse_matrix = sparse.csr_matrix(np.zeros(shape = (1,852)))"
   ]
  },
  {
   "cell_type": "code",
   "execution_count": 24,
   "metadata": {
    "collapsed": false
   },
   "outputs": [],
   "source": [
    "desc_trans = tfidf.transform([\"hello my name is dan\"])"
   ]
  },
  {
   "cell_type": "code",
   "execution_count": 25,
   "metadata": {
    "collapsed": false
   },
   "outputs": [],
   "source": [
    "ew_vec = sparse.hstack([default_tag, sparse_matrix, desc_trans])"
   ]
  },
  {
   "cell_type": "code",
   "execution_count": 26,
   "metadata": {
    "collapsed": false
   },
   "outputs": [
    {
     "data": {
      "text/plain": [
       "<1x234536 sparse matrix of type '<type 'numpy.float64'>'\n",
       "\twith 5 stored elements in COOrdinate format>"
      ]
     },
     "execution_count": 26,
     "metadata": {},
     "output_type": "execute_result"
    }
   ],
   "source": [
    "ew_vec"
   ]
  },
  {
   "cell_type": "code",
   "execution_count": 132,
   "metadata": {
    "collapsed": false
   },
   "outputs": [
    {
     "data": {
      "text/plain": [
       "(57111, 234536)"
      ]
     },
     "execution_count": 132,
     "metadata": {},
     "output_type": "execute_result"
    }
   ],
   "source": [
    "combined_sparse.shape"
   ]
  },
  {
   "cell_type": "code",
   "execution_count": 135,
   "metadata": {
    "collapsed": false
   },
   "outputs": [
    {
     "data": {
      "text/plain": [
       "array([ 8318, 15009, 46347,  8438, 35900, 24746, 17434,   335, 45180,  4625])"
      ]
     },
     "execution_count": 135,
     "metadata": {},
     "output_type": "execute_result"
    }
   ],
   "source": [
    "nbrs.kneighbors(trunc_algo.transform(ew_vec))[1][0]"
   ]
  },
  {
   "cell_type": "code",
   "execution_count": 29,
   "metadata": {
    "collapsed": false
   },
   "outputs": [],
   "source": [
    "np.load(\"combined\", combined_sparse)\n",
    "np.load(\"shape\", )"
   ]
  },
  {
   "cell_type": "code",
   "execution_count": 30,
   "metadata": {
    "collapsed": true
   },
   "outputs": [],
   "source": [
    "new_vec = sparse.hstack([default_tag, sparse.csr_matrix(np.zeros(shape = (1,852))), desc_trans])"
   ]
  },
  {
   "cell_type": "code",
   "execution_count": 31,
   "metadata": {
    "collapsed": true
   },
   "outputs": [],
   "source": [
    "trunc_vec = trunc_algo.transform(new_vec)"
   ]
  },
  {
   "cell_type": "code",
   "execution_count": 40,
   "metadata": {
    "collapsed": false
   },
   "outputs": [
    {
     "ename": "AttributeError",
     "evalue": "indptr not found",
     "output_type": "error",
     "traceback": [
      "\u001b[0;31m---------------------------------------------------------------------------\u001b[0m",
      "\u001b[0;31mAttributeError\u001b[0m                            Traceback (most recent call last)",
      "\u001b[0;32m<ipython-input-40-bd2db86db462>\u001b[0m in \u001b[0;36m<module>\u001b[0;34m()\u001b[0m\n\u001b[0;32m----> 1\u001b[0;31m \u001b[0mcombined_sparse\u001b[0m\u001b[0;34m.\u001b[0m\u001b[0mindptr\u001b[0m\u001b[0;34m\u001b[0m\u001b[0m\n\u001b[0m",
      "\u001b[0;32m/usr/local/lib/python2.7/site-packages/scipy/sparse/base.pyc\u001b[0m in \u001b[0;36m__getattr__\u001b[0;34m(self, attr)\u001b[0m\n\u001b[1;32m    497\u001b[0m             \u001b[0;32mreturn\u001b[0m \u001b[0mself\u001b[0m\u001b[0;34m.\u001b[0m\u001b[0mgetnnz\u001b[0m\u001b[0;34m(\u001b[0m\u001b[0;34m)\u001b[0m\u001b[0;34m\u001b[0m\u001b[0m\n\u001b[1;32m    498\u001b[0m         \u001b[0;32melse\u001b[0m\u001b[0;34m:\u001b[0m\u001b[0;34m\u001b[0m\u001b[0m\n\u001b[0;32m--> 499\u001b[0;31m             \u001b[0;32mraise\u001b[0m \u001b[0mAttributeError\u001b[0m\u001b[0;34m(\u001b[0m\u001b[0mattr\u001b[0m \u001b[0;34m+\u001b[0m \u001b[0;34m\" not found\"\u001b[0m\u001b[0;34m)\u001b[0m\u001b[0;34m\u001b[0m\u001b[0m\n\u001b[0m\u001b[1;32m    500\u001b[0m \u001b[0;34m\u001b[0m\u001b[0m\n\u001b[1;32m    501\u001b[0m     \u001b[0;32mdef\u001b[0m \u001b[0mtranspose\u001b[0m\u001b[0;34m(\u001b[0m\u001b[0mself\u001b[0m\u001b[0;34m)\u001b[0m\u001b[0;34m:\u001b[0m\u001b[0;34m\u001b[0m\u001b[0m\n",
      "\u001b[0;31mAttributeError\u001b[0m: indptr not found"
     ]
    }
   ],
   "source": [
    "combined_sparse.indptr"
   ]
  },
  {
   "cell_type": "code",
   "execution_count": 36,
   "metadata": {
    "collapsed": false
   },
   "outputs": [
    {
     "ename": "AttributeError",
     "evalue": "indptr not found",
     "output_type": "error",
     "traceback": [
      "\u001b[0;31m---------------------------------------------------------------------------\u001b[0m",
      "\u001b[0;31mAttributeError\u001b[0m                            Traceback (most recent call last)",
      "\u001b[0;32m<ipython-input-36-bd2db86db462>\u001b[0m in \u001b[0;36m<module>\u001b[0;34m()\u001b[0m\n\u001b[0;32m----> 1\u001b[0;31m \u001b[0mcombined_sparse\u001b[0m\u001b[0;34m.\u001b[0m\u001b[0mindptr\u001b[0m\u001b[0;34m\u001b[0m\u001b[0m\n\u001b[0m",
      "\u001b[0;32m/usr/local/lib/python2.7/site-packages/scipy/sparse/base.pyc\u001b[0m in \u001b[0;36m__getattr__\u001b[0;34m(self, attr)\u001b[0m\n\u001b[1;32m    497\u001b[0m             \u001b[0;32mreturn\u001b[0m \u001b[0mself\u001b[0m\u001b[0;34m.\u001b[0m\u001b[0mgetnnz\u001b[0m\u001b[0;34m(\u001b[0m\u001b[0;34m)\u001b[0m\u001b[0;34m\u001b[0m\u001b[0m\n\u001b[1;32m    498\u001b[0m         \u001b[0;32melse\u001b[0m\u001b[0;34m:\u001b[0m\u001b[0;34m\u001b[0m\u001b[0m\n\u001b[0;32m--> 499\u001b[0;31m             \u001b[0;32mraise\u001b[0m \u001b[0mAttributeError\u001b[0m\u001b[0;34m(\u001b[0m\u001b[0mattr\u001b[0m \u001b[0;34m+\u001b[0m \u001b[0;34m\" not found\"\u001b[0m\u001b[0;34m)\u001b[0m\u001b[0;34m\u001b[0m\u001b[0m\n\u001b[0m\u001b[1;32m    500\u001b[0m \u001b[0;34m\u001b[0m\u001b[0m\n\u001b[1;32m    501\u001b[0m     \u001b[0;32mdef\u001b[0m \u001b[0mtranspose\u001b[0m\u001b[0;34m(\u001b[0m\u001b[0mself\u001b[0m\u001b[0;34m)\u001b[0m\u001b[0;34m:\u001b[0m\u001b[0;34m\u001b[0m\u001b[0m\n",
      "\u001b[0;31mAttributeError\u001b[0m: indptr not found"
     ]
    }
   ],
   "source": [
    "combined_sparse.indptr"
   ]
  },
  {
   "cell_type": "code",
   "execution_count": null,
   "metadata": {
    "collapsed": true
   },
   "outputs": [],
   "source": [
    "shortdescs = map(lambda x: x.encode('utf-8') if x else x, names)"
   ]
  }
 ],
 "metadata": {
  "kernelspec": {
   "display_name": "Python 2",
   "language": "python",
   "name": "python2"
  },
  "language_info": {
   "codemirror_mode": {
    "name": "ipython",
    "version": 2
   },
   "file_extension": ".py",
   "mimetype": "text/x-python",
   "name": "python",
   "nbconvert_exporter": "python",
   "pygments_lexer": "ipython2",
   "version": "2.7.10"
  }
 },
 "nbformat": 4,
 "nbformat_minor": 0
}
