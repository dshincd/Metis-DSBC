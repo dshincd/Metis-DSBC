{
 "cells": [
  {
   "cell_type": "code",
   "execution_count": 638,
   "metadata": {
    "collapsed": true
   },
   "outputs": [],
   "source": [
    "# API\n",
    "from pycrunchbase import *\n",
    "\n",
    "# Python\n",
    "from datetime import datetime\n",
    "from collections import Counter\n",
    "import pandas as pd\n",
    "import numpy as np\n",
    "from scipy.sparse import csr_matrix\n",
    "import re\n",
    "\n",
    "# Database\n",
    "from pymongo import MongoClient\n",
    "\n",
    "# Graphing\n",
    "import matplotlib.pyplot as plt\n",
    "import seaborn as sns\n",
    "%matplotlib inline\n",
    "\n",
    "# Machine learning\n",
    "from sklearn.feature_extraction.text import CountVectorizer\n",
    "from nltk import tokenize\n",
    "client = MongoClient()"
   ]
  },
  {
   "cell_type": "code",
   "execution_count": 756,
   "metadata": {
    "collapsed": true
   },
   "outputs": [],
   "source": [
    "# initiate a kojak database and collection with documents related to crunch_ppl\n",
    "\n",
    "client = MongoClient()\n",
    "db = client.kojak\n",
    "orgs_api = db.orgs_api"
   ]
  },
  {
   "cell_type": "code",
   "execution_count": 757,
   "metadata": {
    "collapsed": false
   },
   "outputs": [],
   "source": [
    "orgs_db = orgs_api.find()"
   ]
  },
  {
   "cell_type": "code",
   "execution_count": 4,
   "metadata": {
    "collapsed": false
   },
   "outputs": [],
   "source": [
    "closed = []\n",
    "\n",
    "for org in orgs_db:\n",
    "    closed.append(org[\"properties\"][\"is_closed\"])"
   ]
  },
  {
   "cell_type": "code",
   "execution_count": 446,
   "metadata": {
    "collapsed": false
   },
   "outputs": [],
   "source": [
    "# companies = pd.read_excel(io=\"/Users/DanShin/Downloads/Data/crunchbase_export.xlsx\", sheetname=\"Companies\")\n",
    "investments = pd.read_excel(io=\"/Users/DanShin/Downloads/Data/crunchbase_export.xlsx\", sheetname=\"Investments\")"
   ]
  },
  {
   "cell_type": "code",
   "execution_count": 289,
   "metadata": {
    "collapsed": true
   },
   "outputs": [],
   "source": [
    "def clean_companies(companies_df):\n",
    "    # convert erroneous datetimes to NaT\n",
    "    companies_df.first_funding_at = companies_df.first_funding_at.apply(lambda x: np.nan if type(x) == unicode else x)\n",
    "    return companies_df"
   ]
  },
  {
   "cell_type": "code",
   "execution_count": null,
   "metadata": {
    "collapsed": true
   },
   "outputs": [],
   "source": [
    "clean_companies(companies)"
   ]
  },
  {
   "cell_type": "code",
   "execution_count": 42,
   "metadata": {
    "collapsed": false
   },
   "outputs": [],
   "source": [
    "test_org = orgs_api.find()[8]"
   ]
  },
  {
   "cell_type": "code",
   "execution_count": 142,
   "metadata": {
    "collapsed": false
   },
   "outputs": [
    {
     "data": {
      "text/plain": [
       "dict_keys([u'relationships', u'_id', u'type', u'uuid', u'properties'])"
      ]
     },
     "execution_count": 142,
     "metadata": {},
     "output_type": "execute_result"
    }
   ],
   "source": [
    "test_org.viewkeys()"
   ]
  },
  {
   "cell_type": "code",
   "execution_count": 143,
   "metadata": {
    "collapsed": false,
    "scrolled": false
   },
   "outputs": [
    {
     "data": {
      "text/plain": [
       "{u'api_path': u'organizations/red',\n",
       " u'closed_on': None,\n",
       " u'closed_on_trust_code': 0,\n",
       " u'created_at': 1298508763,\n",
       " u'description': u'(RED) was founded in 2006 by Bono and Bobby Shriver to get businesses and people involved in the fight against AIDS.  (RED) was created to help provide a sustainable flow of money from the private sector to fight AIDS. They\\u2019ve raised over $200 million to date through the sale of (RED) products from iconic companies - like Apple and Starbucks \\u2013 and from (RED) events. And 100% of that money goes to work on the ground.  dfgdfgdf\\n',\n",
       " u'founded_on': u'2006-07-09',\n",
       " u'founded_on_trust_code': 7,\n",
       " u'homepage_url': u'http://www.red.org',\n",
       " u'is_closed': False,\n",
       " u'name': u'(RED)',\n",
       " u'num_employees_max': 500,\n",
       " u'num_employees_min': 251,\n",
       " u'number_of_investments': 0,\n",
       " u'permalink': u'red',\n",
       " u'primary_role': u'company',\n",
       " u'role_company': True,\n",
       " u'role_group': False,\n",
       " u'role_investor': False,\n",
       " u'role_school': False,\n",
       " u'short_description': u'(RED) was founded in 2006 by Bono and Bobby Shriver to get businesses and people involved in the fight against AIDS.',\n",
       " u'total_funding_usd': 2323,\n",
       " u'updated_at': 1433922944,\n",
       " u'web_path': u'organization/red'}"
      ]
     },
     "execution_count": 143,
     "metadata": {},
     "output_type": "execute_result"
    }
   ],
   "source": [
    "test_org[\"properties\"]"
   ]
  },
  {
   "cell_type": "code",
   "execution_count": 144,
   "metadata": {
    "collapsed": false
   },
   "outputs": [
    {
     "data": {
      "text/plain": [
       "dict_keys([u'current_team', u'primary_image', u'past_team', u'headquarters', u'websites', u'acquired_by', u'offices', u'images', u'news', u'funding_rounds', u'categories'])"
      ]
     },
     "execution_count": 144,
     "metadata": {},
     "output_type": "execute_result"
    }
   ],
   "source": [
    "test_org[\"relationships\"].viewkeys()"
   ]
  },
  {
   "cell_type": "code",
   "execution_count": 145,
   "metadata": {
    "collapsed": false
   },
   "outputs": [
    {
     "data": {
      "text/plain": [
       "{u'cardinality': u'ManyToMany',\n",
       " u'items': [{u'properties': {u'created_at': 1397980727,\n",
       "    u'name': u'Nonprofits',\n",
       "    u'organizations_in_category': 934,\n",
       "    u'products_in_category': 3,\n",
       "    u'updated_at': 1434019823,\n",
       "    u'web_path': u'category/nonprofits/fb2f0892ea6a8362461250e381ed9b08'},\n",
       "   u'type': u'Category',\n",
       "   u'uuid': u'fb2f0892ea6a8362461250e381ed9b08'}],\n",
       " u'paging': {u'first_page_url': u'https://api.crunchbase.com/v/3/organizations/red/categories',\n",
       "  u'sort_order': u'created_at DESC',\n",
       "  u'total_items': 1}}"
      ]
     },
     "execution_count": 145,
     "metadata": {},
     "output_type": "execute_result"
    }
   ],
   "source": [
    "test_org[\"relationships\"][\"categories\"]"
   ]
  },
  {
   "cell_type": "code",
   "execution_count": 146,
   "metadata": {
    "collapsed": false
   },
   "outputs": [
    {
     "data": {
      "text/plain": [
       "True"
      ]
     },
     "execution_count": 146,
     "metadata": {},
     "output_type": "execute_result"
    }
   ],
   "source": [
    "\"current_team\" in test_org[\"relationships\"]"
   ]
  },
  {
   "cell_type": "code",
   "execution_count": 104,
   "metadata": {
    "collapsed": false
   },
   "outputs": [],
   "source": [
    "X = test.iloc[:,0:2]\n",
    "y = test.iloc[:,2]"
   ]
  },
  {
   "cell_type": "code",
   "execution_count": 149,
   "metadata": {
    "collapsed": false
   },
   "outputs": [
    {
     "name": "stdout",
     "output_type": "stream",
     "text": [
      "0.719537815126\n"
     ]
    }
   ],
   "source": [
    "total = orgs_db.count()\n",
    "has_team = 0\n",
    "\n",
    "for org in orgs_db:\n",
    "    if \"current_team\" in org[\"relationships\"]:\n",
    "        has_team += 1\n",
    "    \n",
    "print float(has_team)/total"
   ]
  },
  {
   "cell_type": "code",
   "execution_count": 91,
   "metadata": {
    "collapsed": false
   },
   "outputs": [],
   "source": [
    "cb_api_key = \"f724cd5232dd318067da50fd13ec28bc\"\n",
    "cb = CrunchBase(cb_api_key)\n",
    "some_person = cb.person(\"bill-gates\")"
   ]
  },
  {
   "cell_type": "code",
   "execution_count": 92,
   "metadata": {
    "collapsed": false
   },
   "outputs": [
    {
     "data": {
      "text/plain": [
       "u'Person'"
      ]
     },
     "execution_count": 92,
     "metadata": {},
     "output_type": "execute_result"
    }
   ],
   "source": [
    "some_person.data[\"type\"]"
   ]
  },
  {
   "cell_type": "code",
   "execution_count": 167,
   "metadata": {
    "collapsed": false
   },
   "outputs": [
    {
     "data": {
      "text/plain": [
       "dict_keys([u'founded_companies', u'jobs', u'primary_image', u'primary_affiliation', u'websites', u'degrees', u'images', u'news', u'advisor_at', u'primary_location', u'investments'])"
      ]
     },
     "execution_count": 167,
     "metadata": {},
     "output_type": "execute_result"
    }
   ],
   "source": [
    "some_person.data[\"relationships\"].viewkeys()"
   ]
  },
  {
   "cell_type": "code",
   "execution_count": 209,
   "metadata": {
    "collapsed": false
   },
   "outputs": [],
   "source": [
    "# extract school info from people\n",
    "\n",
    "school = []\n",
    "for entry in some_person.data[\"relationships\"][\"degrees\"][\"items\"]:\n",
    "    entry_nested = entry[\"relationships\"][\"school\"][\"properties\"][\"name\"]\n",
    "    school.append(entry_nested)"
   ]
  },
  {
   "cell_type": "code",
   "execution_count": 214,
   "metadata": {
    "collapsed": false
   },
   "outputs": [
    {
     "data": {
      "text/plain": [
       "Counter({u'operating': 47220, u'acquired': 4302, u'closed': 3032, u'ipo': 1405, nan: 1197})"
      ]
     },
     "execution_count": 214,
     "metadata": {},
     "output_type": "execute_result"
    }
   ],
   "source": [
    "# 3 classes that are being predicted - acquired, closed, ipo\n",
    "# only use the set which has status = to one of these 3 categories\n",
    "# maybe come up with a startup grade out of 100\n",
    "# do a nearest neighbors using other information\n",
    "# separate category_list out into separate entities\n",
    "# funding rounds\n",
    "# founded_year\n",
    "# founded_quarter\n",
    "# founded_month\n",
    "# time to first_funding\n",
    "# average time between funding rounds\n",
    "# funding at each round (seed, angel, series a, series b)\n",
    "# number of funding rounds\n",
    "# maybe do topic modeling on all company descriptions and use topics as a feature'\n",
    "# number of founders\n",
    "# founder schools\n",
    "\n",
    "Counter(companies.status)"
   ]
  },
  {
   "cell_type": "code",
   "execution_count": 31,
   "metadata": {
    "collapsed": false
   },
   "outputs": [],
   "source": [
    "# extract school info from people\n",
    "\n",
    "schools = []\n",
    "num = 0\n",
    "\n",
    "for company in orgs_db:\n",
    "    try:\n",
    "        for entry in company.data[\"relationships\"][\"degrees\"][\"items\"]:\n",
    "            entry_nested = entry[\"relationships\"][\"school\"][\"properties\"][\"name\"]\n",
    "            schools.append(entry_nested)\n",
    "        num += 1\n",
    "    except:\n",
    "        continue"
   ]
  },
  {
   "cell_type": "code",
   "execution_count": 111,
   "metadata": {
    "collapsed": false
   },
   "outputs": [],
   "source": [
    "test_org = orgs_api.find_one({\"uuid\":\"df6628127f970b439d3e12f64f504fbb\"})"
   ]
  },
  {
   "cell_type": "code",
   "execution_count": 118,
   "metadata": {
    "collapsed": false
   },
   "outputs": [
    {
     "data": {
      "text/plain": [
       "{u'properties': {u'created_at': 1204653519,\n",
       "  u'ended_on': None,\n",
       "  u'ended_on_trust_code': None,\n",
       "  u'started_on': u'2008-03-01',\n",
       "  u'started_on_trust_code': 7,\n",
       "  u'title': u'COO',\n",
       "  u'updated_at': 1398003215},\n",
       " u'relationships': {u'person': {u'properties': {u'api_path': u'people/sheryl-sandberg',\n",
       "    u'born_on': None,\n",
       "    u'born_on_trust_code': None,\n",
       "    u'created_at': 1204682319,\n",
       "    u'died_on': None,\n",
       "    u'died_on_trust_code': None,\n",
       "    u'first_name': u'Sheryl',\n",
       "    u'is_deceased': False,\n",
       "    u'last_name': u'Sandberg',\n",
       "    u'permalink': u'sheryl-sandberg',\n",
       "    u'role_investor': True,\n",
       "    u'updated_at': 1433774229,\n",
       "    u'web_path': u'person/sheryl-sandberg'},\n",
       "   u'type': u'Person',\n",
       "   u'uuid': u'6bdcaf25865ad1e190f7330b99a4ee36'}},\n",
       " u'type': u'Job',\n",
       " u'uuid': u'a0e3eb89f81bc79ee797deae68e6ade7'}"
      ]
     },
     "execution_count": 118,
     "metadata": {},
     "output_type": "execute_result"
    }
   ],
   "source": [
    "team = test_org[\"relationships\"][\"current_team\"][\"items\"]\n",
    "team[1]"
   ]
  },
  {
   "cell_type": "code",
   "execution_count": 101,
   "metadata": {
    "collapsed": false
   },
   "outputs": [
    {
     "data": {
      "text/plain": [
       "dict_keys([u'relationships', u'_id', u'type', u'uuid', u'properties'])"
      ]
     },
     "execution_count": 101,
     "metadata": {},
     "output_type": "execute_result"
    }
   ],
   "source": [
    "orgs_api.find_one().viewkeys()"
   ]
  },
  {
   "cell_type": "code",
   "execution_count": 103,
   "metadata": {
    "collapsed": false
   },
   "outputs": [],
   "source": [
    "orgs_odm_df = pd.read_csv(\"/Users/DanShin/Downloads/Data/odm/organizations.csv\")\n"
   ]
  },
  {
   "cell_type": "code",
   "execution_count": 108,
   "metadata": {
    "collapsed": false
   },
   "outputs": [
    {
     "data": {
      "text/plain": [
       "4         df6628127f970b439d3e12f64f504fbb\n",
       "269283    b6ed10344e3cad7e6baef290de9c0649\n",
       "Name: crunchbase_uuid, dtype: object"
      ]
     },
     "execution_count": 108,
     "metadata": {},
     "output_type": "execute_result"
    }
   ],
   "source": [
    "orgs_odm_df[orgs_odm_df.name == \"Facebook\"][\"crunchbase_uuid\"]"
   ]
  },
  {
   "cell_type": "code",
   "execution_count": 135,
   "metadata": {
    "collapsed": false
   },
   "outputs": [
    {
     "data": {
      "text/plain": [
       "Index([u'permalink', u'name', u'homepage_url', u'category_list', u'market', u'funding_total_usd', u'status', u'country_code', u'state_code', u'region', u'city', u'funding_rounds', u'founded_at', u'founded_month', u'founded_quarter', u'founded_year', u'first_funding_at', u'last_funding_at'], dtype='object')"
      ]
     },
     "execution_count": 135,
     "metadata": {},
     "output_type": "execute_result"
    }
   ],
   "source": [
    "companies.columns"
   ]
  },
  {
   "cell_type": "code",
   "execution_count": 574,
   "metadata": {
    "collapsed": false
   },
   "outputs": [],
   "source": [
    "# get company names\n",
    "def get_names(list_of_companies):\n",
    "    names = list_of_companies.name\n",
    "    return names\n",
    "\n",
    "# get matrix with category of each company\n",
    "def get_categories(list_of_companies):\n",
    "    # preprocess category_list\n",
    "    categories = list_of_companies.category_list\n",
    "    categories[categories.isnull()] = ''\n",
    "    categories = categories.str.replace(' ', '-')\n",
    "    categories = categories.str.strip('|')\n",
    "    categories = categories.apply(lambda x: x.replace(\"|\", \" \"))\n",
    "    # tokenize and vectorize\n",
    "    category_counts = CountVectorizer(tokenizer = tokenize.word_tokenize)\n",
    "    sparse_matrix = category_counts.fit_trainsform(categories)\n",
    "    return sparse_matrix.todense()\n",
    "\n",
    "def get_funding_rounds(list_of_companies):\n",
    "    num_rounds = list_of_companies.funding_rounds\n",
    "    return num_rounds\n",
    "\n",
    "def get_funding_total(list_of_companies):\n",
    "    # around 10,000 of 57,000 companies have 0 funding in the database???\n",
    "    funding_total_usd = list_of_companies.funding_total_usd\n",
    "    return funding_total_usd\n",
    "\n",
    "def get_founded_year(list_of_companies):\n",
    "    founded_year = list_of_companies.founded_year\n",
    "    return founded_year\n",
    "\n",
    "def get_founded_month(list_of_companies):\n",
    "    founded_year = list_of_companies.founded_year\n",
    "    return founded_year\n",
    "\n",
    "def get_founded_quarter(list_of_companies):\n",
    "    quarter = list_of_companies.founded_quarter\n",
    "    quarter = quarter.apply(lambda x: x[6:] if type(x) == unicode else x)\n",
    "    return quarter\n",
    "\n",
    "def get_first_funding(list_of_companies):\n",
    "    first_funding = list_of_companies.first_funding_at\n",
    "    return first_funding\n",
    "    \n",
    "def get_last_funding(list_of_companies):\n",
    "    last_funding = list_of_companies.last_funding_at\n",
    "    return last_funding\n",
    "\n",
    "def time_to_first_funding(list_of_companies):\n",
    "    time_to_first = list_of_companies.first_funding_at - list_of_companies.founded_at\n",
    "    return time_to_first\n",
    "\n",
    "def get_seed(list_of_companies):\n",
    "    seed_fund = []\n",
    "    for company in list_of_companies.name:\n",
    "        mongo_call = orgs_api.find_one({\"properties.name\" : company})\n",
    "        try:\n",
    "            funding_info = mongo_call[\"relationships\"][\"funding_rounds\"][\"items\"]\n",
    "        except:\n",
    "            seed_fund.append(np.nan)\n",
    "            continue\n",
    "        for funding_round in funding_info:\n",
    "            if funding_round[\"properties\"][\"funding_type\"] == \"seed\":\n",
    "                seed_fund.append(funding_round[\"properties\"][\"money_raised_usd\"])\n",
    "            else:\n",
    "                seed_fund.append(np.nan)\n",
    "    return seed_fund\n",
    "\n",
    "def get_angel(list_of_companies):\n",
    "    angel_fund = []\n",
    "    for company in list_of_companies.name:\n",
    "        mongo_call = orgs_api.find_one({\"properties.name\" : company})\n",
    "        try:\n",
    "            funding_info = mongo_call[\"relationships\"][\"funding_rounds\"][\"items\"]\n",
    "        except:\n",
    "            angel_fund.append(np.nan)\n",
    "            continue\n",
    "        for funding_round in funding_info:\n",
    "            if funding_round[\"properties\"][\"funding_type\"] == \"angel\":\n",
    "                angel_fund.append(funding_round[\"properties\"][\"money_raised_usd\"])\n",
    "            else:\n",
    "                angel_fund.append(np.nan)\n",
    "    return angel_fund\n",
    "\n",
    "def get_series_a(list_of_companies):\n",
    "    series_a_fund = []\n",
    "    for company in list_of_companies.name:\n",
    "        mongo_call = orgs_api.find_one({\"properties.name\" : company})\n",
    "        try:\n",
    "            funding_info = mongo_call[\"relationships\"][\"funding_rounds\"][\"items\"]\n",
    "        except:\n",
    "            series_a_fund.append(np.nan)\n",
    "            continue\n",
    "        for funding_round in funding_info:\n",
    "            if funding_round[\"properties\"][\"funding_type\"] == \"venture\" and funding_round[\"properties\"][\"series\"].upper() == \"A\":\n",
    "                series_a_fund.append(funding_round[\"properties\"][\"money_raised_usd\"])\n",
    "            else:\n",
    "                series_a_fund.append(np.nan)\n",
    "    return series_a_fund\n",
    "\n",
    "def get_series_b(list_of_companies):\n",
    "    series_b_fund = []\n",
    "    for company in list_of_companies.name:\n",
    "        mongo_call = orgs_api.find_one({\"properties.name\" : company})\n",
    "        try:\n",
    "            funding_info = mongo_call[\"relationships\"][\"funding_rounds\"][\"items\"]\n",
    "        except:\n",
    "            series_b_fund.append(np.nan)\n",
    "            continue\n",
    "        for funding_round in funding_info:\n",
    "            if funding_round[\"properties\"][\"funding_type\"] == \"venture\" and funding_round[\"properties\"][\"series\"].upper() == \"B\":\n",
    "                series_b_fund.append(funding_round[\"properties\"][\"money_raised_usd\"])\n",
    "            else:\n",
    "                series_b_fund.append(np.nan)\n",
    "    return series_b_fund\n",
    "\n",
    "def get_series_c(list_of_companies):\n",
    "    series_c_fund = []\n",
    "    for company in list_of_companies.name:\n",
    "        mongo_call = orgs_api.find_one({\"properties.name\" : company})\n",
    "        try:\n",
    "            funding_info = mongo_call[\"relationships\"][\"funding_rounds\"][\"items\"]\n",
    "        except:\n",
    "            series_a_fund.append(np.nan)\n",
    "            continue\n",
    "        for funding_round in funding_info:\n",
    "            if funding_round[\"properties\"][\"funding_type\"] == \"venture\" and funding_round[\"properties\"][\"series\"].upper() == \"C\":\n",
    "                series_c_fund.append(funding_round[\"properties\"][\"money_raised_usd\"])\n",
    "            else:\n",
    "                series_c_fund.append(np.nan)\n",
    "    return series_c_fund\n",
    "\n",
    "def get_series_d(list_of_companies):\n",
    "    series_d_fund = []\n",
    "    for company in list_of_companies.name:\n",
    "        mongo_call = orgs_api.find_one({\"properties.name\" : company})\n",
    "        try:\n",
    "            funding_info = mongo_call[\"relationships\"][\"funding_rounds\"][\"items\"]\n",
    "        except:\n",
    "            series_a_fund.append(np.nan)\n",
    "            continue\n",
    "        for funding_round in funding_info:\n",
    "            if funding_round[\"properties\"][\"funding_type\"] == \"venture\" and funding_round[\"properties\"][\"series\"].upper() == \"D\":\n",
    "                series_d_fund.append(funding_round[\"properties\"][\"money_raised_usd\"])\n",
    "            else:\n",
    "                series_d_fund.append(np.nan)\n",
    "    return series_d_fund"
   ]
  },
  {
   "cell_type": "code",
   "execution_count": 753,
   "metadata": {
    "collapsed": false
   },
   "outputs": [],
   "source": [
    "names = get_names(companies)"
   ]
  },
  {
   "cell_type": "code",
   "execution_count": 755,
   "metadata": {
    "collapsed": false
   },
   "outputs": [
    {
     "data": {
      "text/plain": [
       "57156"
      ]
     },
     "execution_count": 755,
     "metadata": {},
     "output_type": "execute_result"
    }
   ],
   "source": [
    "len(names)"
   ]
  },
  {
   "cell_type": "code",
   "execution_count": 298,
   "metadata": {
    "collapsed": false
   },
   "outputs": [
    {
     "data": {
      "text/plain": [
       "False    46482\n",
       "True     10674\n",
       "dtype: int64"
      ]
     },
     "execution_count": 298,
     "metadata": {},
     "output_type": "execute_result"
    }
   ],
   "source": [
    "companies.funding_total_usd.apply(lambda x: True if x == 0 else False).value_counts()"
   ]
  },
  {
   "cell_type": "code",
   "execution_count": 406,
   "metadata": {
    "collapsed": false
   },
   "outputs": [
    {
     "data": {
      "text/plain": [
       "19006    1\n",
       "56796    3\n",
       "49537    1\n",
       "45623    1\n",
       "28543    1\n",
       "27709    1\n",
       "55747    1\n",
       "25843    1\n",
       "9061     2\n",
       "35966    1\n",
       "9881     1\n",
       "52139    2\n",
       "48936    2\n",
       "22192    1\n",
       "22161    1\n",
       "44600    1\n",
       "14709    1\n",
       "22305    1\n",
       "52159    1\n",
       "54888    1\n",
       "34129    1\n",
       "29114    1\n",
       "3735     1\n",
       "43911    2\n",
       "48844    1\n",
       "41579    1\n",
       "34789    1\n",
       "9348     1\n",
       "49358    2\n",
       "5116     1\n",
       "        ..\n",
       "12164    1\n",
       "28809    1\n",
       "6770     1\n",
       "14714    1\n",
       "6821     1\n",
       "48029    1\n",
       "12423    1\n",
       "31176    1\n",
       "33863    1\n",
       "32869    1\n",
       "6927     1\n",
       "27383    1\n",
       "27207    1\n",
       "44172    1\n",
       "35125    1\n",
       "18480    1\n",
       "1623     1\n",
       "45118    1\n",
       "31667    1\n",
       "9136     1\n",
       "25949    1\n",
       "11745    1\n",
       "10345    1\n",
       "38302    1\n",
       "4853     1\n",
       "55625    1\n",
       "35359    1\n",
       "22240    1\n",
       "31070    1\n",
       "31235    1\n",
       "Name: funding_rounds, dtype: int64"
      ]
     },
     "execution_count": 406,
     "metadata": {},
     "output_type": "execute_result"
    }
   ],
   "source": [
    "companies.funding_rounds"
   ]
  },
  {
   "cell_type": "code",
   "execution_count": 325,
   "metadata": {
    "collapsed": false
   },
   "outputs": [
    {
     "data": {
      "text/plain": [
       "<matplotlib.axes._subplots.AxesSubplot at 0x148b60f90>"
      ]
     },
     "execution_count": 325,
     "metadata": {},
     "output_type": "execute_result"
    },
    {
     "data": {
      "image/png": "[encoded data removed]",
      "text/plain": [
       "<matplotlib.figure.Figure at 0x148b72e90>"
      ]
     },
     "metadata": {},
     "output_type": "display_data"
    }
   ],
   "source": [
    "companies.plot(\"founded_quarter\", \"funding_total_usd\")"
   ]
  },
  {
   "cell_type": "code",
   "execution_count": 322,
   "metadata": {
    "collapsed": false
   },
   "outputs": [
    {
     "data": {
      "text/plain": [
       "False"
      ]
     },
     "execution_count": 322,
     "metadata": {},
     "output_type": "execute_result"
    }
   ],
   "source": [
    "'1996-Q1' > '2010-Q2'"
   ]
  },
  {
   "cell_type": "code",
   "execution_count": 320,
   "metadata": {
    "collapsed": false
   },
   "outputs": [],
   "source": [
    "companies.founded_quarter = companies.founded_quarter.str.strip()"
   ]
  },
  {
   "cell_type": "code",
   "execution_count": 332,
   "metadata": {
    "collapsed": false
   },
   "outputs": [],
   "source": [
    "companies = companies.sort(\"first_funding_at\")"
   ]
  },
  {
   "cell_type": "code",
   "execution_count": 360,
   "metadata": {
    "collapsed": false
   },
   "outputs": [
    {
     "data": {
      "image/png": "[encoded data removed]",
      "text/plain": [
       "<matplotlib.figure.Figure at 0x14b925050>"
      ]
     },
     "metadata": {},
     "output_type": "display_data"
    }
   ],
   "source": [
    "companies.hist(\"founded_year\", by = \"status\", bins = 50, xlabelsize = 15, ylabelsize = 15, figsize = (16,16))\n",
    "plt.savefig(\"plot.png\")"
   ]
  },
  {
   "cell_type": "code",
   "execution_count": 409,
   "metadata": {
    "collapsed": false
   },
   "outputs": [
    {
     "data": {
      "text/plain": [
       "dict_keys([u'acquisitions', u'current_team', u'primary_image', u'investors', u'past_team', u'headquarters', u'websites', u'funding_rounds', u'memberships', u'ipo', u'competitors', u'products', u'offices', u'news', u'images', u'board_members_and_advisors', u'founders', u'investments', u'sub_organizations', u'categories'])"
      ]
     },
     "execution_count": 409,
     "metadata": {},
     "output_type": "execute_result"
    }
   ],
   "source": [
    "orgs_api.find_one({\"properties.name\": \"Facebook\"})[\"relationships\"].viewkeys()"
   ]
  },
  {
   "cell_type": "code",
   "execution_count": 568,
   "metadata": {
    "collapsed": false
   },
   "outputs": [
    {
     "data": {
      "text/plain": [
       "{u'announced_on': u'2011-04-01',\n",
       " u'announced_on_trust_code': 7,\n",
       " u'api_path': u'funding-rounds/542034e9a857d2320d88aff73b6e8a3e',\n",
       " u'closed_on': None,\n",
       " u'closed_on_trust_code': None,\n",
       " u'created_at': 1302628682,\n",
       " u'funding_type': u'venture',\n",
       " u'money_raised': 10700000,\n",
       " u'money_raised_currency_code': u'USD',\n",
       " u'money_raised_usd': 10700000,\n",
       " u'series': u'B',\n",
       " u'series_qualifier': None,\n",
       " u'target_money_raised': None,\n",
       " u'target_money_raised_currency_code': None,\n",
       " u'target_money_raised_usd': None,\n",
       " u'updated_at': 1429651376,\n",
       " u'web_path': u'funding-round/542034e9a857d2320d88aff73b6e8a3e'}"
      ]
     },
     "execution_count": 568,
     "metadata": {},
     "output_type": "execute_result"
    }
   ],
   "source": [
    "orgs_api.find_one({\"properties.name\": \"Slack\"})[\"relationships\"][\"funding_rounds\"][\"items\"][4][\"properties\"]"
   ]
  },
  {
   "cell_type": "code",
   "execution_count": 438,
   "metadata": {
    "collapsed": false,
    "scrolled": true
   },
   "outputs": [
    {
     "data": {
      "text/plain": [
       "{u'_id': ObjectId('558201a6ab99e70229cbc844'),\n",
       " u'properties': {u'api_path': u'organizations/bond-street-marketplace',\n",
       "  u'closed_on': None,\n",
       "  u'closed_on_trust_code': 0,\n",
       "  u'created_at': 1392987958,\n",
       "  u'description': u'Bond Street is a startup focused on transforming small business lending through technology, data and design.   Small business owners are the foundation for growth in our economy, and yet today\\u2019s banking system has left them behind.  We\\u2019re building a better future where access to financing is simple, transparent and fair.  \\n',\n",
       "  u'founded_on': u'2013-10-29',\n",
       "  u'founded_on_trust_code': 7,\n",
       "  u'homepage_url': u'https://onbondstreet.com',\n",
       "  u'is_closed': False,\n",
       "  u'name': u'Bond Street',\n",
       "  u'num_employees_max': 10,\n",
       "  u'num_employees_min': 1,\n",
       "  u'number_of_investments': 0,\n",
       "  u'permalink': u'bond-street-marketplace',\n",
       "  u'primary_role': u'company',\n",
       "  u'role_company': False,\n",
       "  u'role_group': False,\n",
       "  u'role_investor': False,\n",
       "  u'role_school': False,\n",
       "  u'short_description': u'Bond Street is a startup focused on transforming small business lending through technology, data and design.',\n",
       "  u'total_funding_usd': 10753456,\n",
       "  u'updated_at': 1434557241,\n",
       "  u'web_path': u'organization/bond-street-marketplace'},\n",
       " u'relationships': {u'categories': {u'cardinality': u'ManyToMany',\n",
       "   u'items': [{u'properties': {u'created_at': 1421191119,\n",
       "      u'name': u'FinTech',\n",
       "      u'organizations_in_category': 1446,\n",
       "      u'products_in_category': 3,\n",
       "      u'updated_at': 1434578358,\n",
       "      u'web_path': u'category/fintech/e06799a9f78976e749a771ee980a70ec'},\n",
       "     u'type': u'Category',\n",
       "     u'uuid': u'e06799a9f78976e749a771ee980a70ec'},\n",
       "    {u'properties': {u'created_at': 1397980727,\n",
       "      u'name': u'Finance',\n",
       "      u'organizations_in_category': 6346,\n",
       "      u'products_in_category': 35,\n",
       "      u'updated_at': 1434539463,\n",
       "      u'web_path': u'category/finance/ae5718dc8602c733e62b28e6167091ad'},\n",
       "     u'type': u'Category',\n",
       "     u'uuid': u'ae5718dc8602c733e62b28e6167091ad'}],\n",
       "   u'paging': {u'first_page_url': u'https://api.crunchbase.com/v/3/organizations/bond-street-marketplace/categories',\n",
       "    u'sort_order': u'created_at DESC',\n",
       "    u'total_items': 2}},\n",
       "  u'current_team': {u'cardinality': u'OneToMany',\n",
       "   u'items': [{u'properties': {u'created_at': 1392959158,\n",
       "      u'ended_on': None,\n",
       "      u'ended_on_trust_code': None,\n",
       "      u'started_on': None,\n",
       "      u'started_on_trust_code': None,\n",
       "      u'title': u'Co-Founder & CEO',\n",
       "      u'updated_at': 1398003298},\n",
       "     u'relationships': {u'person': {u'properties': {u'api_path': u'people/david-haber',\n",
       "        u'born_on': None,\n",
       "        u'born_on_trust_code': None,\n",
       "        u'created_at': 1270640302,\n",
       "        u'died_on': None,\n",
       "        u'died_on_trust_code': None,\n",
       "        u'first_name': u'David',\n",
       "        u'is_deceased': False,\n",
       "        u'last_name': u'Haber',\n",
       "        u'permalink': u'david-haber',\n",
       "        u'role_investor': False,\n",
       "        u'updated_at': 1424962695,\n",
       "        u'web_path': u'person/david-haber'},\n",
       "       u'type': u'Person',\n",
       "       u'uuid': u'b52e487058d802da0dea298af7d8d709'}},\n",
       "     u'type': u'Job',\n",
       "     u'uuid': u'8c1231782414d4b6e9bc14e842365dbf'},\n",
       "    {u'properties': {u'created_at': 1394637254,\n",
       "      u'ended_on': None,\n",
       "      u'ended_on_trust_code': None,\n",
       "      u'started_on': None,\n",
       "      u'started_on_trust_code': None,\n",
       "      u'title': u'Co-Founder & CTO',\n",
       "      u'updated_at': 1398005148},\n",
       "     u'relationships': {u'person': {u'properties': {u'api_path': u'people/peyton-sherwood',\n",
       "        u'born_on': None,\n",
       "        u'born_on_trust_code': None,\n",
       "        u'created_at': 1394662453,\n",
       "        u'died_on': None,\n",
       "        u'died_on_trust_code': None,\n",
       "        u'first_name': u'Peyton',\n",
       "        u'is_deceased': False,\n",
       "        u'last_name': u'Sherwood',\n",
       "        u'permalink': u'peyton-sherwood',\n",
       "        u'role_investor': False,\n",
       "        u'updated_at': 1432229342,\n",
       "        u'web_path': u'person/peyton-sherwood'},\n",
       "       u'type': u'Person',\n",
       "       u'uuid': u'b882c85e3c94e0778bd2f09c8e1cf829'}},\n",
       "     u'type': u'Job',\n",
       "     u'uuid': u'1917711f5e875df323eb406434b2477e'},\n",
       "    {u'properties': {u'created_at': 1413496032,\n",
       "      u'ended_on': None,\n",
       "      u'ended_on_trust_code': None,\n",
       "      u'started_on': None,\n",
       "      u'started_on_trust_code': None,\n",
       "      u'title': u'Chief Credit Officer',\n",
       "      u'updated_at': 1413496032},\n",
       "     u'relationships': {u'person': {u'properties': {u'api_path': u'people/jerry-weiss',\n",
       "        u'born_on': None,\n",
       "        u'born_on_trust_code': None,\n",
       "        u'created_at': 1413496032,\n",
       "        u'died_on': None,\n",
       "        u'died_on_trust_code': None,\n",
       "        u'first_name': u'Jerry',\n",
       "        u'is_deceased': False,\n",
       "        u'last_name': u'Weiss',\n",
       "        u'permalink': u'jerry-weiss',\n",
       "        u'role_investor': False,\n",
       "        u'updated_at': 1430124850,\n",
       "        u'web_path': u'person/jerry-weiss'},\n",
       "       u'type': u'Person',\n",
       "       u'uuid': u'e2640f29b60848cb5922559a8191cfdb'}},\n",
       "     u'type': u'Job',\n",
       "     u'uuid': u'de99480502d94e4d0869488e3771e3ec'}],\n",
       "   u'paging': {u'first_page_url': u'https://api.crunchbase.com/v/3/organizations/bond-street-marketplace/current_team',\n",
       "    u'sort_order': u'created_at DESC',\n",
       "    u'total_items': 3}},\n",
       "  u'founders': {u'cardinality': u'ManyToMany',\n",
       "   u'items': [{u'properties': {u'api_path': u'people/peyton-sherwood',\n",
       "      u'born_on': None,\n",
       "      u'born_on_trust_code': None,\n",
       "      u'created_at': 1394662453,\n",
       "      u'died_on': None,\n",
       "      u'died_on_trust_code': None,\n",
       "      u'first_name': u'Peyton',\n",
       "      u'is_deceased': False,\n",
       "      u'last_name': u'Sherwood',\n",
       "      u'permalink': u'peyton-sherwood',\n",
       "      u'role_investor': False,\n",
       "      u'updated_at': 1432229342,\n",
       "      u'web_path': u'person/peyton-sherwood'},\n",
       "     u'type': u'Person',\n",
       "     u'uuid': u'b882c85e3c94e0778bd2f09c8e1cf829'},\n",
       "    {u'properties': {u'api_path': u'people/david-haber',\n",
       "      u'born_on': None,\n",
       "      u'born_on_trust_code': None,\n",
       "      u'created_at': 1270640302,\n",
       "      u'died_on': None,\n",
       "      u'died_on_trust_code': None,\n",
       "      u'first_name': u'David',\n",
       "      u'is_deceased': False,\n",
       "      u'last_name': u'Haber',\n",
       "      u'permalink': u'david-haber',\n",
       "      u'role_investor': False,\n",
       "      u'updated_at': 1424962695,\n",
       "      u'web_path': u'person/david-haber'},\n",
       "     u'type': u'Person',\n",
       "     u'uuid': u'b52e487058d802da0dea298af7d8d709'}],\n",
       "   u'paging': {u'first_page_url': u'https://api.crunchbase.com/v/3/organizations/bond-street-marketplace/founders',\n",
       "    u'sort_order': u'created_at DESC',\n",
       "    u'total_items': 2}},\n",
       "  u'funding_rounds': {u'cardinality': u'OneToMany',\n",
       "   u'items': [{u'properties': {u'announced_on': u'2015-04-22',\n",
       "      u'announced_on_trust_code': 7,\n",
       "      u'api_path': u'funding-rounds/f4f3f929871f8c03b2b15282d100363f',\n",
       "      u'closed_on': None,\n",
       "      u'closed_on_trust_code': None,\n",
       "      u'created_at': 1429765212,\n",
       "      u'funding_type': u'venture',\n",
       "      u'money_raised': 9253456,\n",
       "      u'money_raised_currency_code': u'USD',\n",
       "      u'money_raised_usd': 9253456,\n",
       "      u'series': None,\n",
       "      u'series_qualifier': None,\n",
       "      u'target_money_raised': 10003457,\n",
       "      u'target_money_raised_currency_code': u'USD',\n",
       "      u'target_money_raised_usd': 10003457,\n",
       "      u'updated_at': 1429765409,\n",
       "      u'web_path': u'funding-round/f4f3f929871f8c03b2b15282d100363f'},\n",
       "     u'type': u'FundingRound',\n",
       "     u'uuid': u'f4f3f929871f8c03b2b15282d100363f'},\n",
       "    {u'properties': {u'announced_on': u'2014-02-20',\n",
       "      u'announced_on_trust_code': 7,\n",
       "      u'api_path': u'funding-rounds/0107a333b8c778427fec9b7d3e1288bb',\n",
       "      u'closed_on': None,\n",
       "      u'closed_on_trust_code': None,\n",
       "      u'created_at': 1392959158,\n",
       "      u'funding_type': u'venture',\n",
       "      u'money_raised': 1500000,\n",
       "      u'money_raised_currency_code': u'USD',\n",
       "      u'money_raised_usd': 1500000,\n",
       "      u'series': None,\n",
       "      u'series_qualifier': None,\n",
       "      u'target_money_raised': None,\n",
       "      u'target_money_raised_currency_code': None,\n",
       "      u'target_money_raised_usd': None,\n",
       "      u'updated_at': 1415306645,\n",
       "      u'web_path': u'funding-round/0107a333b8c778427fec9b7d3e1288bb'},\n",
       "     u'type': u'FundingRound',\n",
       "     u'uuid': u'0107a333b8c778427fec9b7d3e1288bb'}],\n",
       "   u'paging': {u'first_page_url': u'https://api.crunchbase.com/v/3/organizations/bond-street-marketplace/funding_rounds',\n",
       "    u'sort_order': u'created_at DESC',\n",
       "    u'total_items': 2}},\n",
       "  u'headquarters': {u'cardinality': u'OneToOne',\n",
       "   u'item': {u'properties': {u'city': u'New York',\n",
       "     u'city_web_path': u'location/new-york/d64b7615985cfbf44affaa89d70c4050',\n",
       "     u'country': u'United States',\n",
       "     u'country_code2': u'US',\n",
       "     u'country_code3': u'USA',\n",
       "     u'country_web_path': u'location/united-states/f110fca2105599f6996d011c198b3928',\n",
       "     u'created_at': 1392959158,\n",
       "     u'latitude': None,\n",
       "     u'longitude': None,\n",
       "     u'name': None,\n",
       "     u'postal_code': None,\n",
       "     u'region': u'New York',\n",
       "     u'region_code2': u'NY',\n",
       "     u'region_web_path': u'location/new-york/83ead471332bd02e67b767279aed075b',\n",
       "     u'street_1': None,\n",
       "     u'street_2': None,\n",
       "     u'updated_at': 1397992291},\n",
       "    u'type': u'Address',\n",
       "    u'uuid': u'2d75ae3f67f2b8518b8e3d9df904de73'}},\n",
       "  u'images': {u'cardinality': u'OneToMany',\n",
       "   u'items': [{u'properties': {u'asset_path': u'image/upload/v1430125068/myysgjtsrba82pis4fik.png',\n",
       "      u'content_type': u'png',\n",
       "      u'created_at': 1430125070,\n",
       "      u'filesize': None,\n",
       "      u'height': None,\n",
       "      u'updated_at': 1430125070,\n",
       "      u'width': None},\n",
       "     u'type': u'Image',\n",
       "     u'uuid': u'dc22a877a9b6426aab98eb6027c509eb'}],\n",
       "   u'paging': {u'first_page_url': u'https://api.crunchbase.com/v/3/organizations/bond-street-marketplace/images',\n",
       "    u'sort_order': u'created_at DESC',\n",
       "    u'total_items': 1}},\n",
       "  u'news': {u'cardinality': u'OneToMany',\n",
       "   u'items': [{u'properties': {u'author': u'Alexia Tsotsis',\n",
       "      u'created_at': 1350965929,\n",
       "      u'posted_on': u'2012-10-22',\n",
       "      u'title': u'Which One Of These Do I Have To Spill Water On To Make People Irrationally Start Buying&nbsp;$FB?',\n",
       "      u'updated_at': 2012,\n",
       "      u'url': u'http://techcrunch.com/2012/10/22/create-instead-of-living-off-the-buying-and-selling-of-others/'},\n",
       "     u'type': u'News',\n",
       "     u'uuid': u'cb30df17f797a4f7dd4f323a088d8cb6'}],\n",
       "   u'paging': {u'first_page_url': u'https://api.crunchbase.com/v/3/organizations/bond-street-marketplace/news',\n",
       "    u'sort_order': u'created_at DESC',\n",
       "    u'total_items': 1}},\n",
       "  u'offices': {u'cardinality': u'OneToMany',\n",
       "   u'items': [{u'properties': {u'city': u'New York',\n",
       "      u'city_web_path': u'location/new-york/d64b7615985cfbf44affaa89d70c4050',\n",
       "      u'country': u'United States',\n",
       "      u'country_code2': u'US',\n",
       "      u'country_code3': u'USA',\n",
       "      u'country_web_path': u'location/united-states/f110fca2105599f6996d011c198b3928',\n",
       "      u'created_at': 1392959158,\n",
       "      u'latitude': None,\n",
       "      u'longitude': None,\n",
       "      u'name': None,\n",
       "      u'postal_code': None,\n",
       "      u'region': u'New York',\n",
       "      u'region_code2': u'NY',\n",
       "      u'region_web_path': u'location/new-york/83ead471332bd02e67b767279aed075b',\n",
       "      u'street_1': None,\n",
       "      u'street_2': None,\n",
       "      u'updated_at': 1397992291},\n",
       "     u'type': u'Address',\n",
       "     u'uuid': u'2d75ae3f67f2b8518b8e3d9df904de73'}],\n",
       "   u'paging': {u'first_page_url': u'https://api.crunchbase.com/v/3/organizations/bond-street-marketplace/offices',\n",
       "    u'sort_order': u'created_at DESC',\n",
       "    u'total_items': 1}},\n",
       "  u'primary_image': {u'cardinality': u'OneToOne',\n",
       "   u'item': {u'properties': {u'asset_url': u'https://www.crunchbase.com/organization/bond-street-marketplace/primary-image/raw',\n",
       "     u'content_type': u'jpg',\n",
       "     u'created_at': 1398236028,\n",
       "     u'filesize': None,\n",
       "     u'height': None,\n",
       "     u'updated_at': 1434557240,\n",
       "     u'width': None},\n",
       "    u'type': u'Image',\n",
       "    u'uuid': u'8dbae7cdeb9f4bed4778f18857f6f3fb'}},\n",
       "  u'websites': {u'cardinality': u'OneToMany',\n",
       "   u'items': [{u'properties': {u'created_at': 1414338519,\n",
       "      u'updated_at': 1414338520,\n",
       "      u'url': u'http://www.linkedin.com/company/bond-street',\n",
       "      u'website': u'linkedin'},\n",
       "     u'type': u'Website',\n",
       "     u'uuid': u'19088c680e49a8eed352abc22ce4f808'},\n",
       "    {u'properties': {u'created_at': 1414338518,\n",
       "      u'updated_at': 1414338519,\n",
       "      u'url': u'http://www.instagram.com/onbondstreet',\n",
       "      u'website': u'instagram'},\n",
       "     u'type': u'Website',\n",
       "     u'uuid': u'3fe27261c122fab6d7c01605b56766d1'},\n",
       "    {u'properties': {u'created_at': 1414338518,\n",
       "      u'updated_at': 1414338518,\n",
       "      u'url': u'http://www.facebook.com/onbondstreet',\n",
       "      u'website': u'facebook'},\n",
       "     u'type': u'Website',\n",
       "     u'uuid': u'8911466cacc4a759b5957a214a821dca'},\n",
       "    {u'properties': {u'created_at': 1392959158,\n",
       "      u'updated_at': 1409407959,\n",
       "      u'url': u'http://twitter.com/onbondstreet',\n",
       "      u'website': u'twitter'},\n",
       "     u'type': u'Website',\n",
       "     u'uuid': u'21a3c862d6b515fb49358e71a03ae9af'},\n",
       "    {u'properties': {u'created_at': 1392959158,\n",
       "      u'updated_at': 1413496108,\n",
       "      u'url': u'https://onbondstreet.com',\n",
       "      u'website': u'homepage'},\n",
       "     u'type': u'Website',\n",
       "     u'uuid': u'06c18dd1ddb0c3c94b8c3c0f19ab6a68'}],\n",
       "   u'paging': {u'first_page_url': u'https://api.crunchbase.com/v/3/organizations/bond-street-marketplace/websites',\n",
       "    u'sort_order': u'created_at DESC',\n",
       "    u'total_items': 5}}},\n",
       " u'type': u'Organization',\n",
       " u'uuid': u'c999f1b4ac7f3f69e4e352f2b9e4f237'}"
      ]
     },
     "execution_count": 438,
     "metadata": {},
     "output_type": "execute_result"
    }
   ],
   "source": [
    "orgs_api.find_one({\"properties.name\": \"M\"})"
   ]
  },
  {
   "cell_type": "code",
   "execution_count": 451,
   "metadata": {
    "collapsed": false
   },
   "outputs": [
    {
     "name": "stdout",
     "output_type": "stream",
     "text": [
      "[nan, u'Moonlighting', u'August', u'Coinify', u'Amplitude', u'Piper', u'Symphony', u'Shake', u'Chime', u'Swarm', u'Clover', u'Jasper', u'Ripl', u'Native', u'Tutored', u'Innovis', u'Robin', u'rumr', u'Worcester Polytechnic Institute', u'Sidewalk', u'Breeze', u'Mozaico', u'Vessel', u'Torch', u'Meta', u'Zesty', u'Dazo', u'APS', u'Pangea', u'Radius', u'Splash', u'StoryToys', u'Dispatch', u'Dabble', u'Spoonfed', u'Cue', u'Agora', u'Stitch', u'Sidecar', u'The Learning Lab', u'Operator', u'Fetchr', u'Draft', u'Shift', u'Kudo', u'VistaBee', u'Castle', u'Classy', u'Friday', u'Versus', u'Nourish', u'Samsara', u'Cortex', u'Evento', u'Note', u'DocDoc', u'MediaLink', u'Hubbub', u'Particle', u'Warbler', u'Booster', u'Stoke', u'Kiwi', u'Flowhub', u'Track', u'Nudge', u'Superfly', u'Tribute', u'Workface', u'Crowdfunder', u'Kapture', u'Roadmap', u'Hive', u'Haven', u'Compass', u'Bolt', u'Hitch', u'eeGeo', u'Szl', u'Dash', u'Kite', u'Tiempo', u'Bundle', u'Gecko', u'Sprig', u'Leaf', u'Leap', u'Inspire Energy', u'Cinnamon', u'Circle', u'Singular', u'Karma', u'Wacai', u'Hopscotch', u'Wello', u'Bark & Co', u'Ideal Me', u'Matchup', u'Peek', u'Gather', u'Kinetic', u'Weave', u'Clarity', u'Level', u'Roost', u'Blink', u'Dojo', u'Spire', u'Next Gauge', u'Peach', u'Splore', u'Polar', u'Greenease', u'Lockbox', u'Anews, Inc.', u'University of Rochester', u'Wise Connect', u'SHIFT', u'Convirza', u'GeoHangout', u'Helium', u'Poynt', u'Ginx', u'Cogito', u'Honey', u'Fastpoint Games', u'Traction', u'Sessions']\n"
     ]
    }
   ],
   "source": [
    "print [item + str(count) for item, count in Counter(companies.name).items() if count > 1]"
   ]
  },
  {
   "cell_type": "code",
   "execution_count": 575,
   "metadata": {
    "collapsed": true
   },
   "outputs": [],
   "source": [
    "ipo = 0.1\n",
    "acquired = 0.3\n",
    "closed = 0.6"
   ]
  },
  {
   "cell_type": "code",
   "execution_count": 617,
   "metadata": {
    "collapsed": false
   },
   "outputs": [
    {
     "name": "stdout",
     "output_type": "stream",
     "text": [
      "None\n",
      "None\n",
      "None\n"
     ]
    },
    {
     "data": {
      "image/png": "[encoded data removed]",
      "text/plain": [
       "<matplotlib.figure.Figure at 0x145473a10>"
      ]
     },
     "metadata": {},
     "output_type": "display_data"
    }
   ],
   "source": [
    "colors = ['yellowgreen', 'lightblue', 'lightcoral']\n",
    "patches, texts, autotexts = plt.pie([ipo,acquired,closed], labels = [\"ipo\", \"acquired\", \"closed\"], colors = colors,\n",
    "                                    shadow = True, autopct='%1.1f%%', startangle = 90)\n",
    "plt.axis('equal')\n",
    "for t in texts:\n",
    "    t.set_size(15.0)\n",
    "for a in autotexts:\n",
    "    a.set_size(13)\n",
    "    \n",
    "plt.savefig(\"piechart.png\")"
   ]
  },
  {
   "cell_type": "code",
   "execution_count": 618,
   "metadata": {
    "collapsed": false
   },
   "outputs": [
    {
     "data": {
      "text/plain": [
       "Index([u'permalink', u'name', u'homepage_url', u'category_list', u'market', u'funding_total_usd', u'status', u'country_code', u'state_code', u'region', u'city', u'funding_rounds', u'founded_at', u'founded_month', u'founded_quarter', u'founded_year', u'first_funding_at', u'last_funding_at'], dtype='object')"
      ]
     },
     "execution_count": 618,
     "metadata": {},
     "output_type": "execute_result"
    }
   ],
   "source": [
    "companies.columns"
   ]
  },
  {
   "cell_type": "code",
   "execution_count": 647,
   "metadata": {
    "collapsed": false
   },
   "outputs": [],
   "source": [
    "avg_fund_round_plot = companies.groupby(\"status\")[\"funding_rounds\"].mean()\n",
    "avg_fund_round_plot.sort()"
   ]
  },
  {
   "cell_type": "code",
   "execution_count": 697,
   "metadata": {
    "collapsed": false
   },
   "outputs": [
    {
     "data": {
      "image/png": "[encoded data removed]",
      "text/plain": [
       "<matplotlib.figure.Figure at 0x12a9a6f10>"
      ]
     },
     "metadata": {},
     "output_type": "display_data"
    }
   ],
   "source": [
    "avg_fund_round.plot(kind = \"bar\", figsize = (7, 5), rot = 0, alpha = 0.7, color = [\"lightcoral\", \"orange\", \"lightblue\", \"yellowgreen\"])\n",
    "plt.xticks(size = 13)\n",
    "plt.title(\"Average funding rounds\", size = 20)\n",
    "plt.xlabel(\"\")\n",
    "plt.ylabel(\"Average funding rounds\", size = 13)\n",
    "plt.tight_layout()\n",
    "plt.savefig(\"barplot.png\")"
   ]
  },
  {
   "cell_type": "code",
   "execution_count": 698,
   "metadata": {
    "collapsed": false
   },
   "outputs": [
    {
     "data": {
      "text/plain": [
       "Index([u'permalink', u'name', u'homepage_url', u'category_list', u'market', u'funding_total_usd', u'status', u'country_code', u'state_code', u'region', u'city', u'funding_rounds', u'founded_at', u'founded_month', u'founded_quarter', u'founded_year', u'first_funding_at', u'last_funding_at'], dtype='object')"
      ]
     },
     "execution_count": 698,
     "metadata": {},
     "output_type": "execute_result"
    }
   ],
   "source": [
    "companies.status"
   ]
  },
  {
   "cell_type": "code",
   "execution_count": 724,
   "metadata": {
    "collapsed": false
   },
   "outputs": [],
   "source": [
    "closed_funding = companies[companies.status == \"closed\"][\"funding_rounds\"].value_counts()\n",
    "ipo_funding = companies[companies.status == \"ipo\"][\"funding_rounds\"].value_counts()\n",
    "acquired_funding = companies[companies.status == \"acquired\"][\"funding_rounds\"].value_counts()"
   ]
  },
  {
   "cell_type": "code",
   "execution_count": 722,
   "metadata": {
    "collapsed": false
   },
   "outputs": [
    {
     "data": {
      "text/plain": [
       "Int64Index([1, 2, 3, 4, 5, 6, 8, 7, 9, 11, 14], dtype='int64')"
      ]
     },
     "execution_count": 722,
     "metadata": {},
     "output_type": "execute_result"
    }
   ],
   "source": [
    "closed_funding.index"
   ]
  },
  {
   "cell_type": "markdown",
   "metadata": {},
   "source": [
    "plt.figure(figsize=(8,6))\n",
    "ipo_funding.plot(color = \"yellowgreen\")\n",
    "closed_funding.plot(color = \"lightcoral\")\n",
    "acquired_funding.plot(color = \"lightblue\")\n",
    "plt.legend([\"ipo\", \"closed\", \"acquired\"])\n",
    "plt.xlabel(\"Number of funding rounds\", size = 13)\n",
    "plt.ylabel(\"Frequency\", size = 13)\n",
    "plt.savefig(\"funding_round_line.png\")"
   ]
  },
  {
   "cell_type": "code",
   "execution_count": 749,
   "metadata": {
    "collapsed": false
   },
   "outputs": [
    {
     "data": {
      "text/plain": [
       "(243, 18)"
      ]
     },
     "execution_count": 749,
     "metadata": {},
     "output_type": "execute_result"
    }
   ],
   "source": [
    "companies[companies.funding_rounds > 8].shape"
   ]
  },
  {
   "cell_type": "code",
   "execution_count": 750,
   "metadata": {
    "collapsed": false
   },
   "outputs": [
    {
     "data": {
      "text/plain": [
       "(57156, 18)"
      ]
     },
     "execution_count": 750,
     "metadata": {},
     "output_type": "execute_result"
    }
   ],
   "source": [
    "companies.shape"
   ]
  },
  {
   "cell_type": "code",
   "execution_count": 751,
   "metadata": {
    "collapsed": false
   },
   "outputs": [
    {
     "data": {
      "text/plain": [
       "Index([u'permalink', u'name', u'homepage_url', u'category_list', u'market', u'funding_total_usd', u'status', u'country_code', u'state_code', u'region', u'city', u'funding_rounds', u'founded_at', u'founded_month', u'founded_quarter', u'founded_year', u'first_funding_at', u'last_funding_at'], dtype='object')"
      ]
     },
     "execution_count": 751,
     "metadata": {},
     "output_type": "execute_result"
    }
   ],
   "source": [
    "companies.columns"
   ]
  },
  {
   "cell_type": "code",
   "execution_count": null,
   "metadata": {
    "collapsed": true
   },
   "outputs": [],
   "source": []
  }
 ],
 "metadata": {
  "kernelspec": {
   "display_name": "Python 2",
   "language": "python",
   "name": "python2"
  },
  "language_info": {
   "codemirror_mode": {
    "name": "ipython",
    "version": 2
   },
   "file_extension": ".py",
   "mimetype": "text/x-python",
   "name": "python",
   "nbconvert_exporter": "python",
   "pygments_lexer": "ipython2",
   "version": "2.7.10"
  }
 },
 "nbformat": 4,
 "nbformat_minor": 0
}
