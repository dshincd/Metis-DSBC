{
 "cells": [
  {
   "cell_type": "markdown",
   "metadata": {},
   "source": [
    "# Project Luther"
   ]
  },
  {
   "cell_type": "code",
   "execution_count": 507,
   "metadata": {
    "collapsed": false
   },
   "outputs": [],
   "source": [
    "# import modules\n",
    "\n",
    "import urllib2\n",
    "from bs4 import BeautifulSoup\n",
    "import pickle\n",
    "import re\n",
    "import matplotlib.pyplot as plt\n",
    "import pandas as pd\n",
    "import numpy as np\n",
    "import random\n",
    "import scipy as sp"
   ]
  },
  {
   "cell_type": "code",
   "execution_count": 2,
   "metadata": {
    "collapsed": false
   },
   "outputs": [],
   "source": [
    "# load list of box office mojo targets for movies\n",
    "\n",
    "with open (\"movie_list2.pkl\") as f:\n",
    "    movie_list = pickle.load(f)"
   ]
  },
  {
   "cell_type": "code",
   "execution_count": 4,
   "metadata": {
    "collapsed": true
   },
   "outputs": [],
   "source": [
    "countries = ['Argentina', 'Australia', 'Austria', 'Belgium', 'Bolivia', 'Brazil', 'Bulgaria', 'Chile', 'China',\n",
    "             'Colombia', 'Croatia', 'Czech Republic', 'Denmark' , 'East Africa', 'Egypt', 'Estonia', 'Finland',\n",
    "             'France', 'Germany', 'Ghana', 'Greece', 'Hong Kong', 'Hungary', 'Iceland', 'India', 'Italy', 'Japan',\n",
    "            'Latvia', 'Lebanon', 'Lithuania', 'Malaysia', 'Mexico', 'Netherlands', 'New Zealand', 'Nigeria',\n",
    "            'Norway', 'Peru', 'Philippines', 'Poland', 'Portugal', 'Romania', 'Russia - CIS', 'Serbia & Montenegro',\n",
    "            'Singapore', 'Slovakia', 'Slovenia', 'South Africa (Entire Region)', 'South Korea', 'Spain', 'Sweden',\n",
    "            'Switzerland', 'Taiwan', 'Thailand', 'Turkey', 'Ukraine', 'United Arab Emirates', 'United Kingdom',\n",
    "            'Uruguay', 'Venezuela']"
   ]
  },
  {
   "cell_type": "code",
   "execution_count": 5,
   "metadata": {
    "collapsed": false,
    "scrolled": true
   },
   "outputs": [],
   "source": [
    "# find domestic gross, foreign gross, country gross for each movie\n",
    "\n",
    "intl_gross = {}\n",
    "for movie in movie_list:\n",
    "    intl_gross.setdefault(movie[:-4], {})\n",
    "\n",
    "def get_data():\n",
    "    for k, v in intl_gross.iteritems():\n",
    "        try:\n",
    "            url = \"http://www.boxofficemojo.com/movies/?page=intl&id=\" + k + \".htm\"\n",
    "            page = urllib2.urlopen(url)\n",
    "            soup = BeautifulSoup(page)\n",
    "        except: \n",
    "            print \"Can't scrape \"\n",
    "            continue\n",
    "        \n",
    "        # domestic total\n",
    "        \n",
    "        domestic_total = soup.find(text = re.compile(\"Domestic Total\"))\n",
    "        try:\n",
    "            v['Domestic Total'] = int(str(domestic_total.parent.find(\"b\").string).replace(\",\", \"\").replace(\"$\", \"\"))\n",
    "        except:\n",
    "            pass\n",
    "        \n",
    "        # foreign total\n",
    "        \n",
    "        foreign_total = soup.find(text = \"FOREIGN TOTAL\")\n",
    "        try:\n",
    "            foreign_total = foreign_total.parent.parent.parent.parent.parent.find_all(\"b\")[1]\n",
    "            try: \n",
    "                v['Foreign Total'] = int(str(foreign_total.string).replace(\",\", \"\").replace(\"$\", \"\"))\n",
    "            except:\n",
    "                pass\n",
    "        except:\n",
    "            pass\n",
    "        \n",
    "        # gross for each country\n",
    "        \n",
    "        for country in countries:\n",
    "            foreign_total = soup.find(text = country)\n",
    "            if foreign_total != None:\n",
    "                try:\n",
    "                    v[country] = int(str(foreign_total.parent.parent.parent.parent.parent.find_all(\"b\")[1].string).replace(\",\", \"\"). replace(\"$\", \"\"))\n",
    "                except:\n",
    "                    pass"
   ]
  },
  {
   "cell_type": "code",
   "execution_count": 6,
   "metadata": {
    "collapsed": true
   },
   "outputs": [],
   "source": [
    "with open(\"foreign_dict_dan.pkl\", \"r\") as f:\n",
    "    movies_dict = pickle.load(f)"
   ]
  },
  {
   "cell_type": "code",
   "execution_count": 7,
   "metadata": {
    "collapsed": true
   },
   "outputs": [],
   "source": [
    "def get_data_main():\n",
    "    for k, v in movies_dict.iteritems():\n",
    "        try:\n",
    "            url = \"http://www.boxofficemojo.com/movies/?page=main&id=\" + k + \".htm\"\n",
    "            page = urllib2.urlopen(url)\n",
    "            soup = BeautifulSoup(page)\n",
    "        except: \n",
    "            print \"Can't scrape \" + k\n",
    "            continue\n",
    "        try:\n",
    "            v['Genre'] = str(soup.find(text = \"Genre: \").next_sibling.string)\n",
    "        except:\n",
    "            pass\n",
    "        try:\n",
    "            v['Release Date'] = str(soup.find(text = \"Release Date: \").next_sibling.string)\n",
    "        except:\n",
    "            pass\n",
    "        try:\n",
    "            v['Director'] = str(soup.find(text = \"Director:\").parent.parent.parent.parent.next_sibling.string)\n",
    "        except:\n",
    "            pass\n",
    "        try:\n",
    "            v['Writer'] = str(soup.find(text = \"Writer:\").parent.parent.parent.parent.next_sibling.string)\n",
    "        except:\n",
    "            pass\n",
    "        try:\n",
    "            v['Actors'] = [str(string) for string in list(soup.find(text = \"Actors:\").parent.parent.parent.parent.next_sibling.strings)]\n",
    "        except:\n",
    "            pass\n",
    "        try:\n",
    "            v['Producers'] = [str(string) for string in list(soup.find(text = \"Producers:\").parent.parent.parent.parent.next_sibling.strings)]\n",
    "        except:\n",
    "            pass"
   ]
  },
  {
   "cell_type": "code",
   "execution_count": 8,
   "metadata": {
    "collapsed": false
   },
   "outputs": [
    {
     "name": "stdout",
     "output_type": "stream",
     "text": [
      "Can't scrape likefatherlikeson\n",
      "Can't scrape spectacularnow\n",
      "Can't scrape lordoftheflies\n",
      "Can't scrape sheshavingababy\n",
      "Can't scrape bodyofevidence\n",
      "Can't scrape omen2\n",
      "Can't scrape omen3\n",
      "Can't scrape rumbleinthebronx\n",
      "0:25:37.398967\n"
     ]
    }
   ],
   "source": [
    "\n",
    "get_data_main()\n",
    "\n",
    "elapsed = datetime.datetime.now() - before\n",
    "print elapsed"
   ]
  },
  {
   "cell_type": "code",
   "execution_count": 506,
   "metadata": {
    "collapsed": false
   },
   "outputs": [],
   "source": [
    "with open(\"final_scraped_product.pkl\", \"w\") as f:\n",
    "    pickle.dump(movies_dict, f)"
   ]
  },
  {
   "cell_type": "code",
   "execution_count": 204,
   "metadata": {
    "collapsed": true
   },
   "outputs": [],
   "source": [
    "df = pd.DataFrame(movies_dict)\n",
    "df = df.transpose()"
   ]
  },
  {
   "cell_type": "code",
   "execution_count": 205,
   "metadata": {
    "collapsed": false
   },
   "outputs": [],
   "source": [
    "def format_date(n):\n",
    "    try:\n",
    "        return datetime.datetime.strptime(n, \"%B %d, %Y\")\n",
    "    except:\n",
    "        try:\n",
    "            return datetime.datetime.strptime(n, \"%B %Y\")\n",
    "        except:\n",
    "            try:\n",
    "                return datetime.datetime.strptime(n, \"%Y\")\n",
    "            except:\n",
    "                return np.nan\n",
    "\n",
    "df[\"Release Date\"] = map(lambda x: format_date(x), df[\"Release Date\"])\n",
    "df = df.sort(\"Release Date\")"
   ]
  },
  {
   "cell_type": "code",
   "execution_count": 206,
   "metadata": {
    "collapsed": false
   },
   "outputs": [],
   "source": [
    "def get_year(dt):\n",
    "    if type(dt) == datetime.datetime:\n",
    "        return int(dt.year)\n",
    "    else:\n",
    "        return np.nan\n",
    "df[\"Release Year\"] = df[\"Release Date\"].apply(lambda x: get_year(x))"
   ]
  },
  {
   "cell_type": "code",
   "execution_count": 285,
   "metadata": {
    "collapsed": false
   },
   "outputs": [],
   "source": [
    "plt.bar(df[\"Release Year\"], df[\"Foreign Total\"])\n",
    "plt.xlim([1960,2015])\n",
    "plt.xlabel(\"Year of Release\")\n",
    "plt.ylabel(\"Foreign Total Gross\")\n",
    "plt.title(\"Foreign Total Gross by Year of Release\")\n",
    "plt.show()"
   ]
  },
  {
   "cell_type": "code",
   "execution_count": 462,
   "metadata": {
    "collapsed": false
   },
   "outputs": [
    {
     "name": "stdout",
     "output_type": "stream",
     "text": [
      "[  8.23194784e-05   1.64086033e+07]\n"
     ]
    }
   ],
   "source": [
    "# Separate out movies with non-null Domestic and Foreign totals\n",
    "\n",
    "dom_for = df[df[\"Domestic Total\"].notnull() & df[\"Foreign Total\"].notnull()]\n",
    "\n",
    "# create a polyfit \n",
    "\n",
    "p = np.polyfit(dom_for[\"Domestic Total ** 1.5\"].astype(float),dom_for[\"Foreign Total\"].astype(float),1)\n",
    "fit = np.poly1d(p)\n",
    "print p"
   ]
  },
  {
   "cell_type": "code",
   "execution_count": 491,
   "metadata": {
    "collapsed": false
   },
   "outputs": [],
   "source": [
    "plt.scatter(df[\"Domestic Total ** 1.5\"], df[\"Foreign Total\"])\n",
    "plt.plot(df[\"Domestic Total ** 1.5\"], fit(df[\"Domestic Total ** 1.5\"]))\n",
    "plt.xlabel(\"Domestic Total ^ 1.5\")\n",
    "plt.ylabel(\"Foreign Total\")\n",
    "plt.title(\"Foreign Total Gross vs Domestic Total Gross ^ 1.5\")\n",
    "plt.show()"
   ]
  },
  {
   "cell_type": "code",
   "execution_count": 442,
   "metadata": {
    "collapsed": false
   },
   "outputs": [
    {
     "data": {
      "text/plain": [
       "fourhorsemen                 war drama\n",
       "metropolis27                    sci-fi\n",
       "snowwhite                    animation\n",
       "wizardofoz                     fantasy\n",
       "gonewiththewind        historical epic\n",
       "pinocchio                    animation\n",
       "fantasia                     animation\n",
       "citizenkane                      drama\n",
       "sergeantyork                       war\n",
       "bambi                        animation\n",
       "casablanca                     romance\n",
       "bellsofstmarys                   drama\n",
       "bestyearsofourlives              drama\n",
       "duelinthesun                   western\n",
       "greatestshowonearth              drama\n",
       "...\n",
       "thelongestride           romance\n",
       "monkeykingdom        documentary\n",
       "cybernatural              horror\n",
       "truestory                  drama\n",
       "paulblart2                comedy\n",
       "bodyofevidence               nan\n",
       "elizabeth                    nan\n",
       "likefatherlikeson            nan\n",
       "lordoftheflies               nan\n",
       "omen2                        nan\n",
       "omen3                        nan\n",
       "rumbleinthebronx             nan\n",
       "sheshavingababy              nan\n",
       "simpleplan                   nan\n",
       "spectacularnow               nan\n",
       "Name: Genre, Length: 6878, dtype: object"
      ]
     },
     "execution_count": 442,
     "metadata": {},
     "output_type": "execute_result"
    }
   ],
   "source": [
    "df[\"Genre\"].apply(lambda x: x.lower())"
   ]
  },
  {
   "cell_type": "code",
   "execution_count": 344,
   "metadata": {
    "collapsed": false
   },
   "outputs": [],
   "source": [
    "df[\"Genre\"] = df[\"Genre\"].astype(str)"
   ]
  },
  {
   "cell_type": "code",
   "execution_count": 354,
   "metadata": {
    "collapsed": false
   },
   "outputs": [],
   "source": [
    "def action(x):\n",
    "    if \"action\" in x.lower():\n",
    "        return 1\n",
    "    else:\n",
    "        return 0\n",
    "\n",
    "df[\"Action\"] = df[\"Genre\"].apply(lambda x: action(x))"
   ]
  },
  {
   "cell_type": "code",
   "execution_count": 384,
   "metadata": {
    "collapsed": true
   },
   "outputs": [],
   "source": [
    "def comedy(x):\n",
    "    if \"comedy\" in x.lower():\n",
    "        return 1\n",
    "    else:\n",
    "        return 0\n",
    "\n",
    "df[\"Comedy\"] = df[\"Genre\"].apply(lambda x: comedy(x))"
   ]
  },
  {
   "cell_type": "code",
   "execution_count": 385,
   "metadata": {
    "collapsed": true
   },
   "outputs": [],
   "source": [
    "def adventure(x):\n",
    "    if \"adventure\" in x.lower():\n",
    "        return 1\n",
    "    else:\n",
    "        return 0\n",
    "\n",
    "df[\"Adventure\"] = df[\"Genre\"].apply(lambda x: adventure(x))"
   ]
  },
  {
   "cell_type": "code",
   "execution_count": 386,
   "metadata": {
    "collapsed": true
   },
   "outputs": [],
   "source": [
    "def drama(x):\n",
    "    if \"drama\" in x.lower():\n",
    "        return 1\n",
    "    else:\n",
    "        return 0\n",
    "\n",
    "df[\"Drama\"] = df[\"Genre\"].apply(lambda x: drama(x))"
   ]
  },
  {
   "cell_type": "code",
   "execution_count": null,
   "metadata": {
    "collapsed": true
   },
   "outputs": [],
   "source": []
  },
  {
   "cell_type": "code",
   "execution_count": 347,
   "metadata": {
    "collapsed": false
   },
   "outputs": [
    {
     "data": {
      "text/plain": [
       "True"
      ]
     },
     "execution_count": 347,
     "metadata": {},
     "output_type": "execute_result"
    }
   ],
   "source": [
    "a = \"action man\"\n",
    "\"action\" in a"
   ]
  },
  {
   "cell_type": "code",
   "execution_count": 389,
   "metadata": {
    "collapsed": false
   },
   "outputs": [
    {
     "data": {
      "text/plain": [
       "792"
      ]
     },
     "execution_count": 389,
     "metadata": {},
     "output_type": "execute_result"
    }
   ],
   "source": [
    "sum(df[\"Action\"])"
   ]
  },
  {
   "cell_type": "code",
   "execution_count": 357,
   "metadata": {
    "collapsed": false
   },
   "outputs": [
    {
     "data": {
      "text/plain": [
       "Comedy             834\n",
       "Unknown            625\n",
       "Drama              492\n",
       "Foreign            334\n",
       "Romantic Comedy    308\n",
       "Horror             287\n",
       "Thriller           259\n",
       "Animation          254\n",
       "Action             229\n",
       "Comedy / Drama     224\n",
       "Romance            171\n",
       "Family Comedy      150\n",
       "Documentary        144\n",
       "Action Comedy      141\n",
       "Period Drama       133\n",
       "...\n",
       "Historical Drama      23\n",
       "Sci-Fi                22\n",
       "Foreign / Action      20\n",
       "Adventure Comedy      17\n",
       "Period Action         17\n",
       "Historical Epic       14\n",
       "Sports Action         11\n",
       "Action Fantasy        11\n",
       "Period Horror         11\n",
       "Sci-Fi Fantasy        11\n",
       "Western Comedy        10\n",
       "nan                   10\n",
       "Foreign / Horror       6\n",
       "Romantic Adventure     4\n",
       "War Romance            4\n",
       "Length: 66, dtype: int64"
      ]
     },
     "execution_count": 357,
     "metadata": {},
     "output_type": "execute_result"
    }
   ],
   "source": [
    "df[\"Genre\"].value_counts()"
   ]
  },
  {
   "cell_type": "code",
   "execution_count": 429,
   "metadata": {
    "collapsed": false
   },
   "outputs": [],
   "source": [
    "com_tot = np.nansum(df[df[\"Comedy\"] == 1][\"Foreign Total\"].astype(float))\n",
    "act_tot = np.nansum(df[df[\"Action\"] == 1][\"Foreign Total\"].astype(float))\n",
    "drama_tot = np.nansum(df[df[\"Drama\"] == 1][\"Foreign Total\"].astype(float))\n",
    "adv_tot = np.nansum(df[df[\"Adventure\"] == 1][\"Foreign Total\"].astype(float))\n",
    "\n",
    "genre_df = pd.DataFrame([com_tot, act_tot, drama_tot, adv_tot], index = [\"Comedy\", \"Action\", \"Drama\", \"Adventure\"])"
   ]
  },
  {
   "cell_type": "code",
   "execution_count": 397,
   "metadata": {
    "collapsed": false
   },
   "outputs": [],
   "source": [
    "genre_df.plot(kind=\"bar\", legend = 0)\n",
    "plt.show()"
   ]
  },
  {
   "cell_type": "code",
   "execution_count": 430,
   "metadata": {
    "collapsed": true
   },
   "outputs": [],
   "source": [
    "action_movies = df[df[\"Action\"] == 1]"
   ]
  },
  {
   "cell_type": "code",
   "execution_count": 431,
   "metadata": {
    "collapsed": false
   },
   "outputs": [
    {
     "data": {
      "text/plain": [
       "792"
      ]
     },
     "execution_count": 431,
     "metadata": {},
     "output_type": "execute_result"
    }
   ],
   "source": [
    "len(action_movies)"
   ]
  },
  {
   "cell_type": "code",
   "execution_count": 494,
   "metadata": {
    "collapsed": false
   },
   "outputs": [],
   "source": [
    "plt.scatter(action_movies[\"Domestic Total\"], action_movies[\"Foreign Total\"])\n",
    "plt.plot(action_movies[\"Domestic Total\"], fit(action_movies[\"Domestic Total\"]))\n",
    "plt.xlabel(\"Domestic Total\")\n",
    "plt.ylabel(\"Foreign Total\")\n",
    "plt.title(\"Foreign Total vs Domestic Total for Action Movies\")\n",
    "plt.show()"
   ]
  },
  {
   "cell_type": "code",
   "execution_count": 493,
   "metadata": {
    "collapsed": false
   },
   "outputs": [
    {
     "name": "stdout",
     "output_type": "stream",
     "text": [
      "[  8.23194784e-05   1.64086033e+07]\n"
     ]
    }
   ],
   "source": [
    "# Separate out movies with non-null Domestic and Foreign totals for action movies\n",
    "\n",
    "action_dom_for = action_movies[action_movies[\"Domestic Total\"].notnull() & action_movies[\"Foreign Total\"].notnull()]\n",
    "\n",
    "# create a polyfit \n",
    "\n",
    "action_p = np.polyfit(action_dom_for[\"Domestic Total\"].astype(float),action_dom_for[\"Foreign Total\"].astype(float),1)\n",
    "fit = np.poly1d(action_p)\n",
    "print p"
   ]
  },
  {
   "cell_type": "code",
   "execution_count": 496,
   "metadata": {
    "collapsed": false
   },
   "outputs": [],
   "source": [
    "import scipy\n",
    "slope, intercept, r_value, p_value, std_err = scipy.stats.linregress(action_movies[\"Domestic Total\"], action_movies[\"Foreign Total\"])\n"
   ]
  },
  {
   "cell_type": "code",
   "execution_count": 518,
   "metadata": {
    "collapsed": false
   },
   "outputs": [
    {
     "ename": "TypeError",
     "evalue": "(\"unsupported operand type(s) for +: 'float' and 'list'\", u'occurred at index Actors')",
     "output_type": "error",
     "traceback": [
      "\u001b[0;31m---------------------------------------------------------------------------\u001b[0m",
      "\u001b[0;31mTypeError\u001b[0m                                 Traceback (most recent call last)",
      "\u001b[0;32m<ipython-input-518-f5095f87fa3b>\u001b[0m in \u001b[0;36m<module>\u001b[0;34m()\u001b[0m\n\u001b[0;32m----> 1\u001b[0;31m \u001b[0mcountry_total\u001b[0m \u001b[0;34m=\u001b[0m \u001b[0mdf\u001b[0m\u001b[0;34m.\u001b[0m\u001b[0mapply\u001b[0m\u001b[0;34m(\u001b[0m\u001b[0mnp\u001b[0m\u001b[0;34m.\u001b[0m\u001b[0mnansum\u001b[0m\u001b[0;34m)\u001b[0m\u001b[0;34m\u001b[0m\u001b[0m\n\u001b[0m",
      "\u001b[0;32m/usr/local/lib/python2.7/site-packages/pandas/core/frame.pyc\u001b[0m in \u001b[0;36mapply\u001b[0;34m(self, func, axis, broadcast, raw, reduce, args, **kwds)\u001b[0m\n\u001b[1;32m   3594\u001b[0m                     \u001b[0;32mif\u001b[0m \u001b[0mreduce\u001b[0m \u001b[0;32mis\u001b[0m \u001b[0mNone\u001b[0m\u001b[0;34m:\u001b[0m\u001b[0;34m\u001b[0m\u001b[0m\n\u001b[1;32m   3595\u001b[0m                         \u001b[0mreduce\u001b[0m \u001b[0;34m=\u001b[0m \u001b[0mTrue\u001b[0m\u001b[0;34m\u001b[0m\u001b[0m\n\u001b[0;32m-> 3596\u001b[0;31m                     \u001b[0;32mreturn\u001b[0m \u001b[0mself\u001b[0m\u001b[0;34m.\u001b[0m\u001b[0m_apply_standard\u001b[0m\u001b[0;34m(\u001b[0m\u001b[0mf\u001b[0m\u001b[0;34m,\u001b[0m \u001b[0maxis\u001b[0m\u001b[0;34m,\u001b[0m \u001b[0mreduce\u001b[0m\u001b[0;34m=\u001b[0m\u001b[0mreduce\u001b[0m\u001b[0;34m)\u001b[0m\u001b[0;34m\u001b[0m\u001b[0m\n\u001b[0m\u001b[1;32m   3597\u001b[0m             \u001b[0;32melse\u001b[0m\u001b[0;34m:\u001b[0m\u001b[0;34m\u001b[0m\u001b[0m\n\u001b[1;32m   3598\u001b[0m                 \u001b[0;32mreturn\u001b[0m \u001b[0mself\u001b[0m\u001b[0;34m.\u001b[0m\u001b[0m_apply_broadcast\u001b[0m\u001b[0;34m(\u001b[0m\u001b[0mf\u001b[0m\u001b[0;34m,\u001b[0m \u001b[0maxis\u001b[0m\u001b[0;34m)\u001b[0m\u001b[0;34m\u001b[0m\u001b[0m\n",
      "\u001b[0;32m/usr/local/lib/python2.7/site-packages/pandas/core/frame.pyc\u001b[0m in \u001b[0;36m_apply_standard\u001b[0;34m(self, func, axis, ignore_failures, reduce)\u001b[0m\n\u001b[1;32m   3684\u001b[0m             \u001b[0;32mtry\u001b[0m\u001b[0;34m:\u001b[0m\u001b[0;34m\u001b[0m\u001b[0m\n\u001b[1;32m   3685\u001b[0m                 \u001b[0;32mfor\u001b[0m \u001b[0mi\u001b[0m\u001b[0;34m,\u001b[0m \u001b[0mv\u001b[0m \u001b[0;32min\u001b[0m \u001b[0menumerate\u001b[0m\u001b[0;34m(\u001b[0m\u001b[0mseries_gen\u001b[0m\u001b[0;34m)\u001b[0m\u001b[0;34m:\u001b[0m\u001b[0;34m\u001b[0m\u001b[0m\n\u001b[0;32m-> 3686\u001b[0;31m                     \u001b[0mresults\u001b[0m\u001b[0;34m[\u001b[0m\u001b[0mi\u001b[0m\u001b[0;34m]\u001b[0m \u001b[0;34m=\u001b[0m \u001b[0mfunc\u001b[0m\u001b[0;34m(\u001b[0m\u001b[0mv\u001b[0m\u001b[0;34m)\u001b[0m\u001b[0;34m\u001b[0m\u001b[0m\n\u001b[0m\u001b[1;32m   3687\u001b[0m                     \u001b[0mkeys\u001b[0m\u001b[0;34m.\u001b[0m\u001b[0mappend\u001b[0m\u001b[0;34m(\u001b[0m\u001b[0mv\u001b[0m\u001b[0;34m.\u001b[0m\u001b[0mname\u001b[0m\u001b[0;34m)\u001b[0m\u001b[0;34m\u001b[0m\u001b[0m\n\u001b[1;32m   3688\u001b[0m             \u001b[0;32mexcept\u001b[0m \u001b[0mException\u001b[0m \u001b[0;32mas\u001b[0m \u001b[0me\u001b[0m\u001b[0;34m:\u001b[0m\u001b[0;34m\u001b[0m\u001b[0m\n",
      "\u001b[0;32m/usr/local/lib/python2.7/site-packages/numpy/lib/nanfunctions.pyc\u001b[0m in \u001b[0;36mnansum\u001b[0;34m(a, axis, dtype, out, keepdims)\u001b[0m\n\u001b[1;32m    504\u001b[0m     \"\"\"\n\u001b[1;32m    505\u001b[0m     \u001b[0ma\u001b[0m\u001b[0;34m,\u001b[0m \u001b[0mmask\u001b[0m \u001b[0;34m=\u001b[0m \u001b[0m_replace_nan\u001b[0m\u001b[0;34m(\u001b[0m\u001b[0ma\u001b[0m\u001b[0;34m,\u001b[0m \u001b[0;36m0\u001b[0m\u001b[0;34m)\u001b[0m\u001b[0;34m\u001b[0m\u001b[0m\n\u001b[0;32m--> 506\u001b[0;31m     \u001b[0;32mreturn\u001b[0m \u001b[0mnp\u001b[0m\u001b[0;34m.\u001b[0m\u001b[0msum\u001b[0m\u001b[0;34m(\u001b[0m\u001b[0ma\u001b[0m\u001b[0;34m,\u001b[0m \u001b[0maxis\u001b[0m\u001b[0;34m=\u001b[0m\u001b[0maxis\u001b[0m\u001b[0;34m,\u001b[0m \u001b[0mdtype\u001b[0m\u001b[0;34m=\u001b[0m\u001b[0mdtype\u001b[0m\u001b[0;34m,\u001b[0m \u001b[0mout\u001b[0m\u001b[0;34m=\u001b[0m\u001b[0mout\u001b[0m\u001b[0;34m,\u001b[0m \u001b[0mkeepdims\u001b[0m\u001b[0;34m=\u001b[0m\u001b[0mkeepdims\u001b[0m\u001b[0;34m)\u001b[0m\u001b[0;34m\u001b[0m\u001b[0m\n\u001b[0m\u001b[1;32m    507\u001b[0m \u001b[0;34m\u001b[0m\u001b[0m\n\u001b[1;32m    508\u001b[0m \u001b[0;34m\u001b[0m\u001b[0m\n",
      "\u001b[0;32m/usr/local/lib/python2.7/site-packages/numpy/core/fromnumeric.pyc\u001b[0m in \u001b[0;36msum\u001b[0;34m(a, axis, dtype, out, keepdims)\u001b[0m\n\u001b[1;32m   1722\u001b[0m     \u001b[0;32melse\u001b[0m\u001b[0;34m:\u001b[0m\u001b[0;34m\u001b[0m\u001b[0m\n\u001b[1;32m   1723\u001b[0m         return _methods._sum(a, axis=axis, dtype=dtype,\n\u001b[0;32m-> 1724\u001b[0;31m                             out=out, keepdims=keepdims)\n\u001b[0m\u001b[1;32m   1725\u001b[0m \u001b[0;34m\u001b[0m\u001b[0m\n\u001b[1;32m   1726\u001b[0m \u001b[0;32mdef\u001b[0m \u001b[0mproduct\u001b[0m \u001b[0;34m(\u001b[0m\u001b[0ma\u001b[0m\u001b[0;34m,\u001b[0m \u001b[0maxis\u001b[0m\u001b[0;34m=\u001b[0m\u001b[0mNone\u001b[0m\u001b[0;34m,\u001b[0m \u001b[0mdtype\u001b[0m\u001b[0;34m=\u001b[0m\u001b[0mNone\u001b[0m\u001b[0;34m,\u001b[0m \u001b[0mout\u001b[0m\u001b[0;34m=\u001b[0m\u001b[0mNone\u001b[0m\u001b[0;34m,\u001b[0m \u001b[0mkeepdims\u001b[0m\u001b[0;34m=\u001b[0m\u001b[0mFalse\u001b[0m\u001b[0;34m)\u001b[0m\u001b[0;34m:\u001b[0m\u001b[0;34m\u001b[0m\u001b[0m\n",
      "\u001b[0;32m/usr/local/lib/python2.7/site-packages/numpy/core/_methods.pyc\u001b[0m in \u001b[0;36m_sum\u001b[0;34m(a, axis, dtype, out, keepdims)\u001b[0m\n\u001b[1;32m     30\u001b[0m \u001b[0;34m\u001b[0m\u001b[0m\n\u001b[1;32m     31\u001b[0m \u001b[0;32mdef\u001b[0m \u001b[0m_sum\u001b[0m\u001b[0;34m(\u001b[0m\u001b[0ma\u001b[0m\u001b[0;34m,\u001b[0m \u001b[0maxis\u001b[0m\u001b[0;34m=\u001b[0m\u001b[0mNone\u001b[0m\u001b[0;34m,\u001b[0m \u001b[0mdtype\u001b[0m\u001b[0;34m=\u001b[0m\u001b[0mNone\u001b[0m\u001b[0;34m,\u001b[0m \u001b[0mout\u001b[0m\u001b[0;34m=\u001b[0m\u001b[0mNone\u001b[0m\u001b[0;34m,\u001b[0m \u001b[0mkeepdims\u001b[0m\u001b[0;34m=\u001b[0m\u001b[0mFalse\u001b[0m\u001b[0;34m)\u001b[0m\u001b[0;34m:\u001b[0m\u001b[0;34m\u001b[0m\u001b[0m\n\u001b[0;32m---> 32\u001b[0;31m     \u001b[0;32mreturn\u001b[0m \u001b[0mumr_sum\u001b[0m\u001b[0;34m(\u001b[0m\u001b[0ma\u001b[0m\u001b[0;34m,\u001b[0m \u001b[0maxis\u001b[0m\u001b[0;34m,\u001b[0m \u001b[0mdtype\u001b[0m\u001b[0;34m,\u001b[0m \u001b[0mout\u001b[0m\u001b[0;34m,\u001b[0m \u001b[0mkeepdims\u001b[0m\u001b[0;34m)\u001b[0m\u001b[0;34m\u001b[0m\u001b[0m\n\u001b[0m\u001b[1;32m     33\u001b[0m \u001b[0;34m\u001b[0m\u001b[0m\n\u001b[1;32m     34\u001b[0m \u001b[0;32mdef\u001b[0m \u001b[0m_prod\u001b[0m\u001b[0;34m(\u001b[0m\u001b[0ma\u001b[0m\u001b[0;34m,\u001b[0m \u001b[0maxis\u001b[0m\u001b[0;34m=\u001b[0m\u001b[0mNone\u001b[0m\u001b[0;34m,\u001b[0m \u001b[0mdtype\u001b[0m\u001b[0;34m=\u001b[0m\u001b[0mNone\u001b[0m\u001b[0;34m,\u001b[0m \u001b[0mout\u001b[0m\u001b[0;34m=\u001b[0m\u001b[0mNone\u001b[0m\u001b[0;34m,\u001b[0m \u001b[0mkeepdims\u001b[0m\u001b[0;34m=\u001b[0m\u001b[0mFalse\u001b[0m\u001b[0;34m)\u001b[0m\u001b[0;34m:\u001b[0m\u001b[0;34m\u001b[0m\u001b[0m\n",
      "\u001b[0;31mTypeError\u001b[0m: (\"unsupported operand type(s) for +: 'float' and 'list'\", u'occurred at index Actors')"
     ]
    }
   ],
   "source": [
    "country_total = df.apply(np.nansum)"
   ]
  },
  {
   "cell_type": "code",
   "execution_count": 554,
   "metadata": {
    "collapsed": false
   },
   "outputs": [
    {
     "name": "stdout",
     "output_type": "stream",
     "text": [
      "[ 16046724.19374579  16948322.47567568]\n"
     ]
    }
   ],
   "source": [
    "# Separate out movies with non-null Domestic and Foreign totals for action movies\n",
    "\n",
    "germanydf = df[df[\"Action\"].notnull() & df[\"China\"].notnull()]\n",
    "\n",
    "# create a polyfit \n",
    "\n",
    "germany_p = np.polyfit(germanydf[\"Action\"].astype(float),germanydf[\"China\"].astype(float),1)\n",
    "fit = np.poly1d(germany_p)\n",
    "print germany_p"
   ]
  },
  {
   "cell_type": "code",
   "execution_count": 555,
   "metadata": {
    "collapsed": true
   },
   "outputs": [],
   "source": [
    "plt.scatter(df[\"Action\"], df[\"China\"])\n",
    "plt.plot(df[\"Action\"], fit(df[\"Action\"]))\n",
    "plt.xlabel(\"Action Movie\")\n",
    "plt.ylabel(\"Germany\")\n",
    "plt.title(\"Germany vs Action\")\n",
    "plt.show()"
   ]
  },
  {
   "cell_type": "code",
   "execution_count": 525,
   "metadata": {
    "collapsed": false,
    "scrolled": true
   },
   "outputs": [
    {
     "data": {
      "text/plain": [
       "2240"
      ]
     },
     "execution_count": 525,
     "metadata": {},
     "output_type": "execute_result"
    }
   ],
   "source": [
    "est = smf."
   ]
  },
  {
   "cell_type": "code",
   "execution_count": 530,
   "metadata": {
    "collapsed": false
   },
   "outputs": [
    {
     "data": {
      "text/plain": [
       "Index([u'Actors', u'Argentina', u'Australia', u'Austria', u'Belgium', u'Bolivia', u'Brazil', u'Bulgaria', u'Chile', u'China', u'Colombia', u'Croatia', u'Czech Republic', u'Denmark', u'Director', u'Domestic Total', u'East Africa', u'Egypt', u'Estonia', u'Finland', u'Foreign Total', u'France', u'Genre', u'Germany', u'Ghana', u'Greece', u'Hong Kong', u'Hungary', u'Iceland', u'India', u'Italy', u'Japan', u'Latvia', u'Lebanon', u'Lithuania', u'Malaysia', u'Mexico', u'Netherlands', u'New Zealand', u'Nigeria', u'Norway', u'Peru', u'Philippines', u'Poland', u'Portugal', u'Producers', u'Release Date', u'Romania', u'Russia - CIS', u'Serbia & Montenegro', u'Singapore', u'Slovakia', u'Slovenia', u'South Africa (Entire Region)', u'South Korea', u'Spain', u'Sweden', u'Switzerland', u'Taiwan', u'Thailand', u'Turkey', u'Ukraine', u'United Arab Emirates', u'United Kingdom', u'Uruguay', u'Venezuela', u'Writer', u'Release Year', u'Foreign Pct', u'Domestic Total ** 1.5', u'Action', u'Comedy', u'Adventure', u'Drama'], dtype='object')"
      ]
     },
     "execution_count": 530,
     "metadata": {},
     "output_type": "execute_result"
    }
   ],
   "source": [
    "df.columns"
   ]
  },
  {
   "cell_type": "code",
   "execution_count": 538,
   "metadata": {
    "collapsed": true
   },
   "outputs": [],
   "source": [
    "import statsmodels.api as sm\n",
    "import statsmodels.formula.api as smf"
   ]
  },
  {
   "cell_type": "code",
   "execution_count": 544,
   "metadata": {
    "collapsed": true
   },
   "outputs": [],
   "source": [
    "df"
   ]
  }
 ],
 "metadata": {
  "kernelspec": {
   "display_name": "Python 2",
   "language": "python",
   "name": "python2"
  },
  "language_info": {
   "codemirror_mode": {
    "name": "ipython",
    "version": 2
   },
   "file_extension": ".py",
   "mimetype": "text/x-python",
   "name": "python",
   "nbconvert_exporter": "python",
   "pygments_lexer": "ipython2",
   "version": "2.7.9"
  }
 },
 "nbformat": 4,
 "nbformat_minor": 0
}
