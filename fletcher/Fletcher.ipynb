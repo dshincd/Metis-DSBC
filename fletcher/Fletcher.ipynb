{
 "cells": [
  {
   "cell_type": "markdown",
   "metadata": {},
   "source": [
    "## Fletcher\n",
    "\n",
    "#### Analyzingdata scientist listings"
   ]
  },
  {
   "cell_type": "code",
   "execution_count": 9,
   "metadata": {
    "collapsed": true
   },
   "outputs": [],
   "source": [
    "# code inspired from https://jessesw.com/Data-Science-Skills/\n",
    "\n",
    "from bs4 import BeautifulSoup # For HTML parsing\n",
    "import urllib2 # Website connections\n",
    "import re # Regular expressions\n",
    "from time import sleep # To prevent overwhelming the server between connections\n",
    "from collections import Counter # Keep track of our term counts\n",
    "from nltk.corpus import stopwords # Filter out stopwords, such as 'the', 'or', 'and'\n",
    "import pandas as pd # For converting results to a dataframe and bar chart plots\n",
    "from pymongo import MongoClient\n",
    "import ssl\n",
    "%matplotlib inline"
   ]
  },
  {
   "cell_type": "code",
   "execution_count": 20,
   "metadata": {
    "collapsed": false
   },
   "outputs": [
    {
     "data": {
      "text/plain": [
       "'description'"
      ]
     },
     "execution_count": 20,
     "metadata": {},
     "output_type": "execute_result"
    }
   ],
   "source": [
    "client = MongoClient()\n",
    "db = client.dsbc\n",
    "job_descs = db[\"job_descs2\"]\n",
    "job_descs.create_index(\"description\", name = \"description\", unique = True, sparse = True)"
   ]
  },
  {
   "cell_type": "code",
   "execution_count": null,
   "metadata": {
    "collapsed": false
   },
   "outputs": [],
   "source": [
    "def clean_text(url):\n",
    "    '''this function takes a url to a job posting as input and outputs cleaned text of job description'''\n",
    "    try:\n",
    "        page = urllib2.urlopen(url, timeout = 3)\n",
    "        soup = BeautifulSoup(page)\n",
    "    except:\n",
    "        try:\n",
    "            context = ssl._create_unverified_context()\n",
    "            page = urllib2.urlopen(url, context=context)\n",
    "            soup = BeautifulSoup(page)\n",
    "        except:\n",
    "            print \"can't load webpage: \" + url\n",
    "            return \n",
    "    \n",
    "    for script in soup([\"script\", \"style\"]):\n",
    "        script.extract()  # Remove these two elements from the BS4 object\n",
    "\n",
    "    text = soup.get_text() # Get the text from this\n",
    "    lines = (line.strip() for line in text.splitlines()) # break into lines\n",
    "    chunks = (phrase.strip() for line in lines for phrase in line.split(\"  \")) # break multi-headlines into a line each\n",
    "\n",
    "    def chunk_space(chunk):\n",
    "        chunk_out = chunk + ' ' # Need to fix spacing issue\n",
    "        return chunk_out\n",
    "\n",
    "    text = ''.join(chunk_space(chunk) for chunk in chunks if chunk).encode('utf-8') # Get rid of all blank lines and ends of line\n",
    "\n",
    "    # Now clean out all of the unicode junk (this line works great!!!)\n",
    "\n",
    "    try:\n",
    "        text = text.decode('unicode_escape').encode('ascii', 'ignore') # Need this as some websites aren't formatted\n",
    "    except:                                                            # in a way that this works, can occasionally throw\n",
    "        print \"Encoding error at: \" + url                              # an exception\n",
    "        return  \n",
    "\n",
    "    text = re.sub(\"[^a-zA-Z.+0-9]\",\" \", text)  # Now get rid of any terms that aren't words (include 3 for d3.js)\n",
    "                                                # Also include + for C++\n",
    "\n",
    "    text = text.lower().split()  # Go to lower case and split them apart\n",
    "\n",
    "    stop_words = set(stopwords.words(\"english\")) # Filter out any stop words\n",
    "    text = [w for w in text if not w in stop_words]\n",
    "\n",
    "    return text"
   ]
  },
  {
   "cell_type": "code",
   "execution_count": null,
   "metadata": {
    "collapsed": false
   },
   "outputs": [],
   "source": [
    "def get_count(soup):\n",
    "    '''get number of job postings for each location'''\n",
    "    \n",
    "    search_count = soup.find(\"div\", attrs = {\"id\": \"searchCount\"}).text\n",
    "    search_count = str(search_count)\n",
    "    search_count = search_count.split(\"of \")[1]\n",
    "    search_count = int(search_count.replace(\",\", \"\"))\n",
    "    return search_count"
   ]
  },
  {
   "cell_type": "code",
   "execution_count": null,
   "metadata": {
    "collapsed": true
   },
   "outputs": [],
   "source": [
    "def get_soup(location, list_index):\n",
    "    location = location.replace(\" \", \"+\")\n",
    "    url = 'http://www.indeed.com/jobs?q=Data+Scientist&l=' + location + '&jt=fulltime&start=' + str(list_index)\n",
    "    page = urllib2.urlopen(url)\n",
    "    soup = BeautifulSoup(page)\n",
    "    return soup"
   ]
  },
  {
   "cell_type": "code",
   "execution_count": null,
   "metadata": {
    "collapsed": false
   },
   "outputs": [],
   "source": [
    "def get_descriptions(location):\n",
    "    '''takes as input location in \"city, state\" format\n",
    "    and inserts document with company, job, title, and job description to mongodb database'''\n",
    "    \n",
    "    location_adj = location.replace(\" \", \"+\")\n",
    "    list_index = 0\n",
    "    \n",
    "    soup = get_soup(location_adj, list_index)\n",
    "    \n",
    "    jobs_count = get_count(soup) # gets number of job postings\n",
    "    \n",
    "    while (list_index < jobs_count) and (list_index < 1000):\n",
    "\n",
    "        soup = get_soup(location_adj, list_index)\n",
    "\n",
    "        job_links = soup.find_all(\"a\", attrs = {\"rel\": \"nofollow\", \"itemprop\": \"title\"})\n",
    "        company_names = soup.find_all(\"span\", attrs = {\"class\": \"company\", \"itemprop\": \"hiringOrganization\"})\n",
    "\n",
    "        for i in range(10):\n",
    "            try:\n",
    "                job_find = str(job_links[i]).split('href=\"')[1]\n",
    "                job_find = job_find.split('\"', 1)\n",
    "                job_url = job_find[0]\n",
    "                job_url = 'http://www.indeed.com' + job_url\n",
    "\n",
    "                job_title = job_find[1].split('title=\"')[1].split('\"')[0]\n",
    "                description = clean_text(job_url)\n",
    "                company_name = company_names[i].string.decode('unicode_escape').encode('ascii', 'ignore')\n",
    "\n",
    "                document = {\"title\": job_title, \"description\": description, \"company\": company_name, \"location\": location}\n",
    "                job_descs.insert(document)\n",
    "            \n",
    "            except:\n",
    "                pass\n",
    "\n",
    "        list_index += 10\n",
    "        "
   ]
  },
  {
   "cell_type": "code",
   "execution_count": null,
   "metadata": {
    "collapsed": false
   },
   "outputs": [
    {
     "name": "stdout",
     "output_type": "stream",
     "text": [
      "can't load webpage: http://www.indeed.com/rc/clk?jk=fe1b6ed033c3da05\n",
      "can't load webpage: http://www.indeed.com/rc/clk?jk=fe1b6ed033c3da05\n",
      "can't load webpage: http://www.indeed.com/rc/clk?jk=eea861a09c368b08\n",
      "can't load webpage: http://www.indeed.com/rc/clk?jk=f55817b461dd9296\n",
      "can't load webpage: http://www.indeed.com/rc/clk?jk=275d47934966c250\n",
      "can't load webpage: http://www.indeed.com/rc/clk?jk=ba5b4dd5ad709365\n",
      "can't load webpage: http://www.indeed.com/rc/clk?jk=1170cf8273017948"
     ]
    }
   ],
   "source": [
    "get_descriptions(\"New York, NY\")\n",
    "get_descriptions(\"San Francisco, CA\")\n",
    "get_descriptions(\"Washington, DC\")\n",
    "get_descriptions(\"Seattle, WA\")\n",
    "get_descriptions(\"Chicago, IL\")\n",
    "get_descriptions(\"Dallas, TX\")\n",
    "get_descriptions(\"Houston, TX\")\n",
    "get_descriptions(\"Los Angeles, CA\")\n",
    "get_descriptions(\"Cambridge, MA\")\n",
    "get_descriptions(\"Boston, MA\")\n",
    "# get_descriptions(\"San Diego, CA\")\n",
    "get_descriptions(\"Atlanta, GA\")\n",
    "get_descriptions(\"Philadelphia, PA\")\n",
    "get_descriptions(\"Austin, TX\")"
   ]
  },
  {
   "cell_type": "code",
   "execution_count": null,
   "metadata": {
    "collapsed": true
   },
   "outputs": [],
   "source": []
  }
 ],
 "metadata": {
  "kernelspec": {
   "display_name": "Python 2",
   "language": "python",
   "name": "python2"
  },
  "language_info": {
   "codemirror_mode": {
    "name": "ipython",
    "version": 2
   },
   "file_extension": ".py",
   "mimetype": "text/x-python",
   "name": "python",
   "nbconvert_exporter": "python",
   "pygments_lexer": "ipython2",
   "version": "2.7.9"
  }
 },
 "nbformat": 4,
 "nbformat_minor": 0
}
