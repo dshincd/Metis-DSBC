{
 "cells": [
  {
   "cell_type": "markdown",
   "metadata": {},
   "source": [
    "## Fletcher\n",
    "\n",
    "#### Analyzingdata scientist listings"
   ]
  },
  {
   "cell_type": "code",
   "execution_count": 1,
   "metadata": {
    "collapsed": true
   },
   "outputs": [],
   "source": [
    "# code inspired from https://jessesw.com/Data-Science-Skills/\n",
    "\n",
    "from bs4 import BeautifulSoup # For HTML parsing\n",
    "import urllib2 # Website connections\n",
    "import re # Regular expressions\n",
    "from time import sleep # To prevent overwhelming the server between connections\n",
    "from collections import Counter # Keep track of our term counts\n",
    "from nltk.corpus import stopwords # Filter out stopwords, such as 'the', 'or', 'and'\n",
    "import pandas as pd # For converting results to a dataframe and bar chart plots\n",
    "from pymongo import MongoClient\n",
    "import ssl\n",
    "%matplotlib inline"
   ]
  },
  {
   "cell_type": "code",
   "execution_count": 2,
   "metadata": {
    "collapsed": false
   },
   "outputs": [],
   "source": [
    "client = MongoClient()\n",
    "db = client.dsbc\n",
    "job_descs = db[\"job_descriptions\"]"
   ]
  },
  {
   "cell_type": "code",
   "execution_count": 3,
   "metadata": {
    "collapsed": false
   },
   "outputs": [],
   "source": [
    "def clean_text(url):\n",
    "    '''this function takes a url to a job posting as input and outputs cleaned text of job description'''\n",
    "    try:\n",
    "        page = urllib2.urlopen(url, timeout = 3)\n",
    "        soup = BeautifulSoup(page)\n",
    "    except:\n",
    "        try:\n",
    "            context = ssl._create_unverified_context()\n",
    "            page = urllib2.urlopen(url, context=context)\n",
    "            soup = BeautifulSoup(page)\n",
    "        except:\n",
    "            print \"can't load webpage: \" + url\n",
    "            return \n",
    "    \n",
    "    for script in soup([\"script\", \"style\"]):\n",
    "        script.extract()  # Remove these two elements from the BS4 object\n",
    "\n",
    "    text = soup.get_text() # Get the text from this\n",
    "    lines = (line.strip() for line in text.splitlines()) # break into lines\n",
    "    chunks = (phrase.strip() for line in lines for phrase in line.split(\"  \")) # break multi-headlines into a line each\n",
    "\n",
    "    def chunk_space(chunk):\n",
    "        chunk_out = chunk + ' ' # Need to fix spacing issue\n",
    "        return chunk_out\n",
    "\n",
    "    text = ''.join(chunk_space(chunk) for chunk in chunks if chunk).encode('utf-8') # Get rid of all blank lines and ends of line\n",
    "\n",
    "    # Now clean out all of the unicode junk (this line works great!!!)\n",
    "\n",
    "    try:\n",
    "        text = text.decode('unicode_escape').encode('ascii', 'ignore') # Need this as some websites aren't formatted\n",
    "    except:                                                            # in a way that this works, can occasionally throw\n",
    "        print \"Encoding error at: \" + url                              # an exception\n",
    "        return  \n",
    "\n",
    "    text = re.sub(\"[^a-zA-Z.+0-9]\",\" \", text)  # Now get rid of any terms that aren't words (include 3 for d3.js)\n",
    "                                                # Also include + for C++\n",
    "\n",
    "    text = text.lower().split()  # Go to lower case and split them apart\n",
    "\n",
    "    stop_words = set(stopwords.words(\"english\")) # Filter out any stop words\n",
    "    text = [w for w in text if not w in stop_words]\n",
    "\n",
    "    return text"
   ]
  },
  {
   "cell_type": "code",
   "execution_count": 4,
   "metadata": {
    "collapsed": false
   },
   "outputs": [],
   "source": [
    "def get_count(soup):\n",
    "    '''get number of job postings for each location'''\n",
    "    \n",
    "    search_count = soup.find(\"div\", attrs = {\"id\": \"searchCount\"}).text\n",
    "    search_count = str(search_count)\n",
    "    search_count = search_count.split(\"of \")[1]\n",
    "    search_count = int(search_count.replace(\",\", \"\"))\n",
    "    return search_count"
   ]
  },
  {
   "cell_type": "code",
   "execution_count": 5,
   "metadata": {
    "collapsed": true
   },
   "outputs": [],
   "source": [
    "def get_soup(location, list_index):\n",
    "    location = location.replace(\" \", \"+\")\n",
    "    url = 'http://www.indeed.com/jobs?q=Data+Scientist&l=' + location + '&jt=fulltime&start=' + str(list_index)\n",
    "    page = urllib2.urlopen(url)\n",
    "    soup = BeautifulSoup(page)\n",
    "    return soup"
   ]
  },
  {
   "cell_type": "code",
   "execution_count": 6,
   "metadata": {
    "collapsed": false
   },
   "outputs": [],
   "source": [
    "def get_descriptions(location):\n",
    "    '''takes as input location in \"city, state\" format\n",
    "    and inserts document with company, job, title, and job description to mongodb database'''\n",
    "    \n",
    "    location_adj = location.replace(\" \", \"+\")\n",
    "    list_index = 0\n",
    "    \n",
    "    soup = get_soup(location_adj, list_index)\n",
    "    \n",
    "    jobs_count = get_count(soup) # gets number of job postings\n",
    "    \n",
    "    while (list_index < jobs_count) and (list_index < 1000):\n",
    "\n",
    "        soup = get_soup(location_adj, list_index)\n",
    "\n",
    "        job_links = soup.find_all(\"a\", attrs = {\"rel\": \"nofollow\", \"itemprop\": \"title\"})\n",
    "        company_names = soup.find_all(\"span\", attrs = {\"class\": \"company\", \"itemprop\": \"hiringOrganization\"})\n",
    "\n",
    "        for i in range(10):\n",
    "            try:\n",
    "                job_find = str(job_links[i]).split('href=\"')[1]\n",
    "                job_find = job_find.split('\"', 1)\n",
    "                job_url = job_find[0]\n",
    "                job_url = 'http://www.indeed.com' + job_url\n",
    "\n",
    "                job_title = job_find[1].split('title=\"')[1].split('\"')[0]\n",
    "                description = clean_text(job_url)\n",
    "                company_name = company_names[i].string.decode('unicode_escape').encode('ascii', 'ignore')\n",
    "\n",
    "                document = {\"title\": job_title, \"description\": description, \"company\": company_name, \"location\": location}\n",
    "                job_descs.insert(document)\n",
    "            \n",
    "            except:\n",
    "                pass\n",
    "\n",
    "        list_index += 10\n",
    "        "
   ]
  },
  {
   "cell_type": "code",
   "execution_count": 17,
   "metadata": {
    "collapsed": false
   },
   "outputs": [
    {
     "name": "stdout",
     "output_type": "stream",
     "text": [
      "can't load webpage: http://www.indeed.com/rc/clk?jk=fe1b6ed033c3da05\n",
      "can't load webpage: http://www.indeed.com/rc/clk?jk=eea861a09c368b08\n",
      "can't load webpage: http://www.indeed.com/rc/clk?jk=fe1b6ed033c3da05\n",
      "can't load webpage: http://www.indeed.com/rc/clk?jk=f55817b461dd9296\n",
      "can't load webpage: http://www.indeed.com/rc/clk?jk=1170cf8273017948\n",
      "can't load webpage: http://www.indeed.com/rc/clk?jk=f4180461c1594e09\n",
      "can't load webpage: http://www.indeed.com/rc/clk?jk=2b29f5bff996644e\n",
      "can't load webpage: http://www.indeed.com/rc/clk?jk=ba5b4dd5ad709365\n",
      "can't load webpage: http://www.indeed.com/rc/clk?jk=3d5a83c661dafe4f\n",
      "can't load webpage: http://www.indeed.com/rc/clk?jk=2b29f5bff996644e\n",
      "can't load webpage: http://www.indeed.com/rc/clk?jk=f4180461c1594e09\n",
      "can't load webpage: http://www.indeed.com/rc/clk?jk=4aa6343fb5b422c0\n",
      "can't load webpage: http://www.indeed.com/rc/clk?jk=2ce32905cd66b559\n",
      "can't load webpage: http://www.indeed.com/rc/clk?jk=f2d2737308c588e0\n",
      "can't load webpage: http://www.indeed.com/rc/clk?jk=2ce32905cd66b559\n",
      "can't load webpage: http://www.indeed.com/rc/clk?jk=fcec76ddccc24129\n",
      "can't load webpage: http://www.indeed.com/rc/clk?jk=cd7c402eb6c6bb41\n",
      "can't load webpage: http://www.indeed.com/rc/clk?jk=3208acb7e15c793e\n",
      "can't load webpage: http://www.indeed.com/rc/clk?jk=cd7c402eb6c6bb41"
     ]
    },
    {
     "name": "stderr",
     "output_type": "stream",
     "text": [
      "WARNING:root:Some characters could not be decoded, and were replaced with REPLACEMENT CHARACTER.\n"
     ]
    },
    {
     "name": "stdout",
     "output_type": "stream",
     "text": [
      "\n",
      "Encoding error at: http://www.indeed.com/rc/clk?jk=a78122ab4cdf32b8\n",
      "can't load webpage: http://www.indeed.com/rc/clk?jk=7f66cdc2dce1c308"
     ]
    },
    {
     "name": "stderr",
     "output_type": "stream",
     "text": [
      "WARNING:root:Some characters could not be decoded, and were replaced with REPLACEMENT CHARACTER.\n"
     ]
    },
    {
     "name": "stdout",
     "output_type": "stream",
     "text": [
      "\n",
      "can't load webpage: http://www.indeed.com/rc/clk?jk=0fdadd7fd4770cf7\n",
      "can't load webpage: http://www.indeed.com/rc/clk?jk=a63323957a25d626\n",
      "can't load webpage: http://www.indeed.com/rc/clk?jk=0b389db70735951d\n",
      "can't load webpage: http://www.indeed.com/rc/clk?jk=e4b4f874ab3c0056\n",
      "can't load webpage: http://www.indeed.com/rc/clk?jk=b43fb478c3e509ed\n",
      "can't load webpage: http://www.indeed.com/rc/clk?jk=71c25183f9b53d4d\n",
      "can't load webpage: http://www.indeed.com/rc/clk?jk=fd74f9fbbeea25a3\n",
      "can't load webpage: http://www.indeed.com/rc/clk?jk=1e1edddbaf95cc7d\n",
      "can't load webpage: http://www.indeed.com/rc/clk?jk=aad8a97bb15a81b3\n",
      "can't load webpage: http://www.indeed.com/rc/clk?jk=475a8bc82d08d389\n",
      "can't load webpage: http://www.indeed.com/rc/clk?jk=58c98b994957ab6d\n",
      "can't load webpage: http://www.indeed.com/rc/clk?jk=65b7920d61928cb2\n",
      "can't load webpage: http://www.indeed.com/rc/clk?jk=1d58ac87d2f04932\n",
      "can't load webpage: http://www.indeed.com/rc/clk?jk=ec8291733817ffd7\n",
      "can't load webpage: http://www.indeed.com/rc/clk?jk=1d58ac87d2f04932\n",
      "can't load webpage: http://www.indeed.com/rc/clk?jk=3208acb7e15c793e\n",
      "can't load webpage: http://www.indeed.com/rc/clk?jk=a796701521e288d7\n",
      "can't load webpage: http://www.indeed.com/rc/clk?jk=7c4887254b53438c"
     ]
    },
    {
     "name": "stderr",
     "output_type": "stream",
     "text": [
      "WARNING:root:Some characters could not be decoded, and were replaced with REPLACEMENT CHARACTER.\n"
     ]
    },
    {
     "name": "stdout",
     "output_type": "stream",
     "text": [
      "\n",
      "can't load webpage: http://www.indeed.com/rc/clk?jk=ba54833832d328b2\n"
     ]
    }
   ],
   "source": [
    "get_descriptions(\"New York, NY\")"
   ]
  },
  {
   "cell_type": "code",
   "execution_count": null,
   "metadata": {
    "collapsed": false
   },
   "outputs": [
    {
     "name": "stdout",
     "output_type": "stream",
     "text": [
      "can't load webpage: http://www.indeed.com/rc/clk?jk=33326ff7432fc2d9\n",
      "can't load webpage: http://www.indeed.com/rc/clk?jk=a4909bca385e91dc\n",
      "can't load webpage: http://www.indeed.com/rc/clk?jk=624de3123c537acd\n",
      "can't load webpage: http://www.indeed.com/rc/clk?jk=5c98448bb0d835c8\n",
      "can't load webpage: http://www.indeed.com/rc/clk?jk=de013f7192746ba4\n",
      "can't load webpage: http://www.indeed.com/rc/clk?jk=d270e9e959ccf3cf\n",
      "can't load webpage: http://www.indeed.com/rc/clk?jk=de013f7192746ba4\n",
      "can't load webpage: http://www.indeed.com/rc/clk?jk=a4909bca385e91dc\n",
      "can't load webpage: http://www.indeed.com/rc/clk?jk=d270e9e959ccf3cf\n",
      "can't load webpage: http://www.indeed.com/rc/clk?jk=067876b9374d5365\n",
      "can't load webpage: http://www.indeed.com/rc/clk?jk=5c98448bb0d835c8\n",
      "can't load webpage: http://www.indeed.com/rc/clk?jk=dd516a887453524f\n",
      "can't load webpage: http://www.indeed.com/rc/clk?jk=2c37351b4774025c\n",
      "can't load webpage: http://www.indeed.com/rc/clk?jk=1350aea668613613\n",
      "can't load webpage: http://www.indeed.com/rc/clk?jk=9923ecf7e8ddc6a8\n",
      "can't load webpage: http://www.indeed.com/rc/clk?jk=12e56b6a6fbb47bd\n",
      "can't load webpage: http://www.indeed.com/rc/clk?jk=1f593cc4082ca9f1\n",
      "can't load webpage: http://www.indeed.com/rc/clk?jk=4a484832bde0c59e\n",
      "can't load webpage: http://www.indeed.com/rc/clk?jk=81b4727ba82e43d9\n",
      "can't load webpage: http://www.indeed.com/rc/clk?jk=f6af01f44947bbf9\n",
      "can't load webpage: http://www.indeed.com/rc/clk?jk=c22b742ffa92701a\n",
      "can't load webpage: http://www.indeed.com/rc/clk?jk=0a7149efb45e32ed\n",
      "can't load webpage: http://www.indeed.com/rc/clk?jk=747894737925bd1d\n",
      "can't load webpage: http://www.indeed.com/rc/clk?jk=1bc026a86aa21e8c\n",
      "can't load webpage: http://www.indeed.com/rc/clk?jk=5f71bd3dbec6c6fa\n",
      "can't load webpage: http://www.indeed.com/rc/clk?jk=d19f19d39dddc7c3\n",
      "can't load webpage: http://www.indeed.com/rc/clk?jk=1b85e7a23de2a9a1\n",
      "can't load webpage: http://www.indeed.com/rc/clk?jk=bcdd24ada5832368\n",
      "can't load webpage: http://www.indeed.com/rc/clk?jk=9c37f01683624a10\n",
      "can't load webpage: http://www.indeed.com/rc/clk?jk=81daea3772d66742\n",
      "can't load webpage: http://www.indeed.com/rc/clk?jk=72cade728c248bfb\n",
      "can't load webpage: http://www.indeed.com/rc/clk?jk=e2b197edb38786cb\n",
      "can't load webpage: http://www.indeed.com/rc/clk?jk=1f95bb57d1464d4e\n",
      "can't load webpage: http://www.indeed.com/rc/clk?jk=c670392b88eec510\n",
      "can't load webpage: http://www.indeed.com/rc/clk?jk=9e73a4e8eb60d01b\n",
      "can't load webpage: http://www.indeed.com/rc/clk?jk=e2b197edb38786cb\n",
      "can't load webpage: http://www.indeed.com/rc/clk?jk=9695f6ce99543ca9\n",
      "can't load webpage: http://www.indeed.com/rc/clk?jk=72cade728c248bfb\n",
      "can't load webpage: http://www.indeed.com/rc/clk?jk=f6faef404d27fd63\n",
      "can't load webpage: http://www.indeed.com/rc/clk?jk=c35a9e9c11c7ee36\n",
      "can't load webpage: http://www.indeed.com/rc/clk?jk=c35a9e9c11c7ee36\n",
      "can't load webpage: http://www.indeed.com/rc/clk?jk=f6faef404d27fd63\n",
      "can't load webpage: http://www.indeed.com/rc/clk?jk=c22d4df68615c700\n",
      "can't load webpage: http://www.indeed.com/rc/clk?jk=430d1ffa7598829f\n",
      "can't load webpage: http://www.indeed.com/rc/clk?jk=5345ca47af6c2186\n",
      "can't load webpage: http://www.indeed.com/rc/clk?jk=aa7885e902d6ae0b\n",
      "can't load webpage: http://www.indeed.com/rc/clk?jk=25931941bea047c9\n",
      "can't load webpage: http://www.indeed.com/rc/clk?jk=3c20a73225398069\n",
      "can't load webpage: http://www.indeed.com/rc/clk?jk=a3b15c1a70242d0d\n",
      "can't load webpage: http://www.indeed.com/rc/clk?jk=430d1ffa7598829f\n",
      "can't load webpage: http://www.indeed.com/rc/clk?jk=9b75401788abf571\n",
      "can't load webpage: http://www.indeed.com/rc/clk?jk=6e1207d0626fca3d\n",
      "can't load webpage: http://www.indeed.com/rc/clk?jk=3c8e469f1fbc25ba\n",
      "can't load webpage: http://www.indeed.com/rc/clk?jk=4a0d5b6a08b0b956\n",
      "can't load webpage: http://www.indeed.com/rc/clk?jk=b39dd8bbf010d0db\n",
      "can't load webpage: http://www.indeed.com/rc/clk?jk=645ef77d3ae18c7c\n",
      "can't load webpage: http://www.indeed.com/rc/clk?jk=25931941bea047c9\n",
      "can't load webpage: http://www.indeed.com/rc/clk?jk=c22d4df68615c700\n",
      "can't load webpage: http://www.indeed.com/rc/clk?jk=a1b7d03a622275a7\n",
      "can't load webpage: http://www.indeed.com/rc/clk?jk=fb97321f27f2343c\n",
      "can't load webpage: http://www.indeed.com/rc/clk?jk=4a0d5b6a08b0b956\n",
      "can't load webpage: http://www.indeed.com/rc/clk?jk=9c93523d540ca829\n",
      "can't load webpage: http://www.indeed.com/rc/clk?jk=521ee7f0296d13d0"
     ]
    }
   ],
   "source": [
    "# get_descriptions(\"New York, NY\")\n",
    "\n",
    "get_descriptions(\"San Francisco, CA\")\n",
    "get_descriptions(\"Washington, DC\")\n",
    "get_descriptions(\"Seattle, WA\")\n",
    "get_descriptions(\"Chicago, IL\")\n",
    "get_descriptions(\"Dallas, TX\")\n",
    "\n",
    "# get_descriptions(\"Houston, TX\")\n",
    "# get_descriptions(\"Los Angeles, CA\")\n",
    "# get_descriptions(\"Cambridge, MA\")\n",
    "# get_descriptions(\"Boston, MA\")\n",
    "\n",
    "# # get_descriptions(\"San Diego, CA\")\n",
    "# get_descriptions(\"Atlanta, GA\")\n",
    "# get_descriptions(\"Philadelphia, PA\")\n",
    "# get_descriptions(\"Austin, TX\")"
   ]
  },
  {
   "cell_type": "code",
   "execution_count": null,
   "metadata": {
    "collapsed": true
   },
   "outputs": [],
   "source": []
  }
 ],
 "metadata": {
  "kernelspec": {
   "display_name": "Python 2",
   "language": "python",
   "name": "python2"
  },
  "language_info": {
   "codemirror_mode": {
    "name": "ipython",
    "version": 2
   },
   "file_extension": ".py",
   "mimetype": "text/x-python",
   "name": "python",
   "nbconvert_exporter": "python",
   "pygments_lexer": "ipython2",
   "version": "2.7.9"
  }
 },
 "nbformat": 4,
 "nbformat_minor": 0
}
